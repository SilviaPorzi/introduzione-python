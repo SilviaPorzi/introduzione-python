{
 "cells": [
  {
   "cell_type": "markdown",
   "id": "66116309",
   "metadata": {},
   "source": [
    "## Riepilogo del 27/09/2022"
   ]
  },
  {
   "cell_type": "markdown",
   "id": "59aaa79c",
   "metadata": {},
   "source": [
    "### Assert"
   ]
  },
  {
   "cell_type": "code",
   "execution_count": 9,
   "id": "bddf41b1",
   "metadata": {},
   "outputs": [],
   "source": [
    "#proviamo a testare con assert la funzione is_prime\n",
    "#se non da un AssertionError vuol dire che va bene\n",
    "\n",
    "is_prime = lambda n : n-int(n) == 0 and n > 1 and [x for x in range(2,int(n)) if n%x == 0] == [] \n",
    "\n",
    "#Requisito 1: Funzione che prende in ingresso un numero <-- requisito di ingresso\n",
    "#Requisito 2: per numeri float con parte decimale diversa da 0, deve ritornare False --> basta aggiungere $ n-int(n) == 0$ prima di far girare la list comprehension\n",
    "#Requisito 3:\n",
    "#......\n",
    "#Requisito n:\n",
    "\n",
    "def test_prime():\n",
    "    assert is_prime(2)\n",
    "    assert is_prime(3)\n",
    "    assert not is_prime(4)\n",
    "    assert not is_prime(-1)\n",
    "    assert is_prime(17)\n",
    "    assert not is_prime(17.2)\n",
    "    assert is_prime(19.0)\n",
    "    assert not is_prime(15.0)\n",
    "    \n",
    "test_prime()"
   ]
  },
  {
   "cell_type": "markdown",
   "id": "9fa0b434",
   "metadata": {},
   "source": [
    "Esempi di funzioni built-in viste:\n",
    "\n",
    "1. print()\n",
    "\n",
    "2. sum() -->\n",
    "\n",
    "3. map() --> \n",
    "\n",
    "4. zip() --> fa un'associazione uno a uno e torna un oggetto iterabile delle tuple\n",
    "\n",
    "5. help()\n",
    "\n",
    "6. type()\n",
    "\n",
    "7. len()\n",
    "\n",
    "8. hash()\n",
    "\n",
    "9. abs()\n"
   ]
  },
  {
   "cell_type": "code",
   "execution_count": 5,
   "id": "66c71390",
   "metadata": {},
   "outputs": [
    {
     "data": {
      "text/plain": [
       "type"
      ]
     },
     "execution_count": 5,
     "metadata": {},
     "output_type": "execute_result"
    }
   ],
   "source": [
    "#vediamo come poter fare una funzione che controlla che il tipo sia un intero\n",
    "# n = 17.2\n",
    "# int_n =int(n)\n",
    "# assert n - int_n == 0"
   ]
  },
  {
   "cell_type": "markdown",
   "id": "33e50dd1",
   "metadata": {},
   "source": [
    "### all() e any() \n",
    "Sono funzioni di built-in che hanno un ritorno un BOOLEANO\n",
    "\n",
    "all() $\\rightarrow$ prende in ingresso una collezione di boolean e ritorna \"True\" se TUTTI sono \"True\".\n",
    "\n",
    "any() $\\rightarrow$ prende in ingresso una collezione di boolean e ritorna \"True\" se ALMENO UNO è \"True\""
   ]
  },
  {
   "cell_type": "code",
   "execution_count": 18,
   "id": "e2f0c4ea",
   "metadata": {},
   "outputs": [
    {
     "name": "stdout",
     "output_type": "stream",
     "text": [
      "[True, True, True, True, True, True]\n",
      "[True, True, True, True, True, True, False]\n",
      "[False, False, False, False, True]\n",
      "[False, False, False]\n"
     ]
    }
   ],
   "source": [
    "assert all([is_prime(n) for n in [2,3,5,7,19,23]])\n",
    "print([is_prime(n) for n in [2,3,5,7,19,23]])\n",
    "\n",
    "assert not all([is_prime(n) for n in [2,3,5,7,19,23,4]])\n",
    "print([is_prime(n) for n in [2,3,5,7,19,23,4]])\n",
    "\n",
    "assert any([is_prime(n) for n in [4,6,8,9,11]])\n",
    "print([is_prime(n) for n in [4,6,8,9,11]])\n",
    "\n",
    "assert not any([is_prime(n) for n in [4,6,8]])\n",
    "print([is_prime(n) for n in [4,6,8]])"
   ]
  },
  {
   "cell_type": "code",
   "execution_count": null,
   "id": "a2548a36",
   "metadata": {},
   "outputs": [],
   "source": []
  }
 ],
 "metadata": {
  "kernelspec": {
   "display_name": "Python 3 (ipykernel)",
   "language": "python",
   "name": "python3"
  },
  "language_info": {
   "codemirror_mode": {
    "name": "ipython",
    "version": 3
   },
   "file_extension": ".py",
   "mimetype": "text/x-python",
   "name": "python",
   "nbconvert_exporter": "python",
   "pygments_lexer": "ipython3",
   "version": "3.10.7"
  }
 },
 "nbformat": 4,
 "nbformat_minor": 5
}
