{
 "cells": [
  {
   "cell_type": "markdown",
   "id": "3a0461b4",
   "metadata": {},
   "source": [
    "## Benvenuti"
   ]
  },
  {
   "cell_type": "markdown",
   "id": "109795f1",
   "metadata": {},
   "source": [
    "Per una guida sull'utilizzo ottimale di jupyter notebook utilizzare il seguente link: https://towardsdatascience.com/jypyter-notebook-shortcuts-bf0101a98330"
   ]
  },
  {
   "cell_type": "markdown",
   "id": "95fc1fab",
   "metadata": {},
   "source": [
    "# Benvenuti\n",
    "Ricordarsi che è possibile usare un linguaggio di Markdown all'interno dei notebook: https://docs.github.com/en/get-started/writing-on-github/getting-started-with-writing-and-formatting-on-github/basic-writing-and-formatting-syntax"
   ]
  },
  {
   "cell_type": "markdown",
   "id": "2ea8e1b9",
   "metadata": {},
   "source": [
    "print è una funzione di builtIn già presente appena si installa un interprete python"
   ]
  },
  {
   "cell_type": "code",
   "execution_count": 1,
   "id": "56faba30",
   "metadata": {},
   "outputs": [
    {
     "name": "stdout",
     "output_type": "stream",
     "text": [
      "Corso di python\n"
     ]
    }
   ],
   "source": [
    "print('Corso di python') "
   ]
  },
  {
   "cell_type": "markdown",
   "id": "f391e211",
   "metadata": {},
   "source": [
    "help() è una funzione di BuildIn che descrive la funzione scritta all'interno delle parentesi con gli argomenti opzionali."
   ]
  },
  {
   "cell_type": "code",
   "execution_count": 2,
   "id": "fca204f9",
   "metadata": {},
   "outputs": [
    {
     "name": "stdout",
     "output_type": "stream",
     "text": [
      "Help on built-in function print in module builtins:\n",
      "\n",
      "print(...)\n",
      "    print(value, ..., sep=' ', end='\\n', file=sys.stdout, flush=False)\n",
      "    \n",
      "    Prints the values to a stream, or to sys.stdout by default.\n",
      "    Optional keyword arguments:\n",
      "    file:  a file-like object (stream); defaults to the current sys.stdout.\n",
      "    sep:   string inserted between values, default a space.\n",
      "    end:   string appended after the last value, default a newline.\n",
      "    flush: whether to forcibly flush the stream.\n",
      "\n"
     ]
    }
   ],
   "source": [
    "help(print)"
   ]
  },
  {
   "cell_type": "code",
   "execution_count": null,
   "id": "77babd43",
   "metadata": {},
   "outputs": [],
   "source": []
  },
  {
   "cell_type": "markdown",
   "id": "a2449371",
   "metadata": {},
   "source": [
    "Per un insieme $S = {s_1,s_2, ... , s_n}$"
   ]
  },
  {
   "cell_type": "markdown",
   "id": "0eed1c09",
   "metadata": {},
   "source": [
    "Per un insieme $S = {s_1,s_2, \\dots , s_n}$"
   ]
  },
  {
   "cell_type": "markdown",
   "id": "f7b269b6",
   "metadata": {},
   "source": [
    "Per un insieme $S = {s_1,s_2, \\dots , s_n}$ di numeri interi è possibile calcolarne il valore medio come $\\dfrac{(s_1 + s_2 + \\dots +s_n)}{n}$"
   ]
  },
  {
   "cell_type": "markdown",
   "id": "fdeec69b",
   "metadata": {},
   "source": [
    "$\\dfrac{\\sum_{i=1}^{n}{(s_i)}}{n}$"
   ]
  },
  {
   "cell_type": "markdown",
   "id": "6b0dab90",
   "metadata": {},
   "source": [
    "la libreria math è già installata insieme all'interprete python, occore solo importarla per essere utilizzata"
   ]
  },
  {
   "cell_type": "markdown",
   "id": "f2eed108",
   "metadata": {},
   "source": [
    "math è un modulo di BuiltIn (e non una funzione) "
   ]
  },
  {
   "cell_type": "code",
   "execution_count": 3,
   "id": "c3b43596",
   "metadata": {},
   "outputs": [],
   "source": [
    "import math as mt #mt è un alias per la libreria di mt\n",
    "import math"
   ]
  },
  {
   "cell_type": "code",
   "execution_count": 4,
   "id": "8d48d789",
   "metadata": {},
   "outputs": [
    {
     "name": "stdout",
     "output_type": "stream",
     "text": [
      "Help on built-in module math:\n",
      "\n",
      "NAME\n",
      "    math\n",
      "\n",
      "DESCRIPTION\n",
      "    This module provides access to the mathematical functions\n",
      "    defined by the C standard.\n",
      "\n",
      "FUNCTIONS\n",
      "    acos(x, /)\n",
      "        Return the arc cosine (measured in radians) of x.\n",
      "        \n",
      "        The result is between 0 and pi.\n",
      "    \n",
      "    acosh(x, /)\n",
      "        Return the inverse hyperbolic cosine of x.\n",
      "    \n",
      "    asin(x, /)\n",
      "        Return the arc sine (measured in radians) of x.\n",
      "        \n",
      "        The result is between -pi/2 and pi/2.\n",
      "    \n",
      "    asinh(x, /)\n",
      "        Return the inverse hyperbolic sine of x.\n",
      "    \n",
      "    atan(x, /)\n",
      "        Return the arc tangent (measured in radians) of x.\n",
      "        \n",
      "        The result is between -pi/2 and pi/2.\n",
      "    \n",
      "    atan2(y, x, /)\n",
      "        Return the arc tangent (measured in radians) of y/x.\n",
      "        \n",
      "        Unlike atan(y/x), the signs of both x and y are considered.\n",
      "    \n",
      "    atanh(x, /)\n",
      "        Return the inverse hyperbolic tangent of x.\n",
      "    \n",
      "    ceil(x, /)\n",
      "        Return the ceiling of x as an Integral.\n",
      "        \n",
      "        This is the smallest integer >= x.\n",
      "    \n",
      "    comb(n, k, /)\n",
      "        Number of ways to choose k items from n items without repetition and without order.\n",
      "        \n",
      "        Evaluates to n! / (k! * (n - k)!) when k <= n and evaluates\n",
      "        to zero when k > n.\n",
      "        \n",
      "        Also called the binomial coefficient because it is equivalent\n",
      "        to the coefficient of k-th term in polynomial expansion of the\n",
      "        expression (1 + x)**n.\n",
      "        \n",
      "        Raises TypeError if either of the arguments are not integers.\n",
      "        Raises ValueError if either of the arguments are negative.\n",
      "    \n",
      "    copysign(x, y, /)\n",
      "        Return a float with the magnitude (absolute value) of x but the sign of y.\n",
      "        \n",
      "        On platforms that support signed zeros, copysign(1.0, -0.0)\n",
      "        returns -1.0.\n",
      "    \n",
      "    cos(x, /)\n",
      "        Return the cosine of x (measured in radians).\n",
      "    \n",
      "    cosh(x, /)\n",
      "        Return the hyperbolic cosine of x.\n",
      "    \n",
      "    degrees(x, /)\n",
      "        Convert angle x from radians to degrees.\n",
      "    \n",
      "    dist(p, q, /)\n",
      "        Return the Euclidean distance between two points p and q.\n",
      "        \n",
      "        The points should be specified as sequences (or iterables) of\n",
      "        coordinates.  Both inputs must have the same dimension.\n",
      "        \n",
      "        Roughly equivalent to:\n",
      "            sqrt(sum((px - qx) ** 2.0 for px, qx in zip(p, q)))\n",
      "    \n",
      "    erf(x, /)\n",
      "        Error function at x.\n",
      "    \n",
      "    erfc(x, /)\n",
      "        Complementary error function at x.\n",
      "    \n",
      "    exp(x, /)\n",
      "        Return e raised to the power of x.\n",
      "    \n",
      "    expm1(x, /)\n",
      "        Return exp(x)-1.\n",
      "        \n",
      "        This function avoids the loss of precision involved in the direct evaluation of exp(x)-1 for small x.\n",
      "    \n",
      "    fabs(x, /)\n",
      "        Return the absolute value of the float x.\n",
      "    \n",
      "    factorial(x, /)\n",
      "        Find x!.\n",
      "        \n",
      "        Raise a ValueError if x is negative or non-integral.\n",
      "    \n",
      "    floor(x, /)\n",
      "        Return the floor of x as an Integral.\n",
      "        \n",
      "        This is the largest integer <= x.\n",
      "    \n",
      "    fmod(x, y, /)\n",
      "        Return fmod(x, y), according to platform C.\n",
      "        \n",
      "        x % y may differ.\n",
      "    \n",
      "    frexp(x, /)\n",
      "        Return the mantissa and exponent of x, as pair (m, e).\n",
      "        \n",
      "        m is a float and e is an int, such that x = m * 2.**e.\n",
      "        If x is 0, m and e are both 0.  Else 0.5 <= abs(m) < 1.0.\n",
      "    \n",
      "    fsum(seq, /)\n",
      "        Return an accurate floating point sum of values in the iterable seq.\n",
      "        \n",
      "        Assumes IEEE-754 floating point arithmetic.\n",
      "    \n",
      "    gamma(x, /)\n",
      "        Gamma function at x.\n",
      "    \n",
      "    gcd(*integers)\n",
      "        Greatest Common Divisor.\n",
      "    \n",
      "    hypot(...)\n",
      "        hypot(*coordinates) -> value\n",
      "        \n",
      "        Multidimensional Euclidean distance from the origin to a point.\n",
      "        \n",
      "        Roughly equivalent to:\n",
      "            sqrt(sum(x**2 for x in coordinates))\n",
      "        \n",
      "        For a two dimensional point (x, y), gives the hypotenuse\n",
      "        using the Pythagorean theorem:  sqrt(x*x + y*y).\n",
      "        \n",
      "        For example, the hypotenuse of a 3/4/5 right triangle is:\n",
      "        \n",
      "            >>> hypot(3.0, 4.0)\n",
      "            5.0\n",
      "    \n",
      "    isclose(a, b, *, rel_tol=1e-09, abs_tol=0.0)\n",
      "        Determine whether two floating point numbers are close in value.\n",
      "        \n",
      "          rel_tol\n",
      "            maximum difference for being considered \"close\", relative to the\n",
      "            magnitude of the input values\n",
      "          abs_tol\n",
      "            maximum difference for being considered \"close\", regardless of the\n",
      "            magnitude of the input values\n",
      "        \n",
      "        Return True if a is close in value to b, and False otherwise.\n",
      "        \n",
      "        For the values to be considered close, the difference between them\n",
      "        must be smaller than at least one of the tolerances.\n",
      "        \n",
      "        -inf, inf and NaN behave similarly to the IEEE 754 Standard.  That\n",
      "        is, NaN is not close to anything, even itself.  inf and -inf are\n",
      "        only close to themselves.\n",
      "    \n",
      "    isfinite(x, /)\n",
      "        Return True if x is neither an infinity nor a NaN, and False otherwise.\n",
      "    \n",
      "    isinf(x, /)\n",
      "        Return True if x is a positive or negative infinity, and False otherwise.\n",
      "    \n",
      "    isnan(x, /)\n",
      "        Return True if x is a NaN (not a number), and False otherwise.\n",
      "    \n",
      "    isqrt(n, /)\n",
      "        Return the integer part of the square root of the input.\n",
      "    \n",
      "    lcm(*integers)\n",
      "        Least Common Multiple.\n",
      "    \n",
      "    ldexp(x, i, /)\n",
      "        Return x * (2**i).\n",
      "        \n",
      "        This is essentially the inverse of frexp().\n",
      "    \n",
      "    lgamma(x, /)\n",
      "        Natural logarithm of absolute value of Gamma function at x.\n",
      "    \n",
      "    log(...)\n",
      "        log(x, [base=math.e])\n",
      "        Return the logarithm of x to the given base.\n",
      "        \n",
      "        If the base not specified, returns the natural logarithm (base e) of x.\n",
      "    \n",
      "    log10(x, /)\n",
      "        Return the base 10 logarithm of x.\n",
      "    \n",
      "    log1p(x, /)\n",
      "        Return the natural logarithm of 1+x (base e).\n",
      "        \n",
      "        The result is computed in a way which is accurate for x near zero.\n",
      "    \n",
      "    log2(x, /)\n",
      "        Return the base 2 logarithm of x.\n",
      "    \n",
      "    modf(x, /)\n",
      "        Return the fractional and integer parts of x.\n",
      "        \n",
      "        Both results carry the sign of x and are floats.\n",
      "    \n",
      "    nextafter(x, y, /)\n",
      "        Return the next floating-point value after x towards y.\n",
      "    \n",
      "    perm(n, k=None, /)\n",
      "        Number of ways to choose k items from n items without repetition and with order.\n",
      "        \n",
      "        Evaluates to n! / (n - k)! when k <= n and evaluates\n",
      "        to zero when k > n.\n",
      "        \n",
      "        If k is not specified or is None, then k defaults to n\n",
      "        and the function returns n!.\n",
      "        \n",
      "        Raises TypeError if either of the arguments are not integers.\n",
      "        Raises ValueError if either of the arguments are negative.\n",
      "    \n",
      "    pow(x, y, /)\n",
      "        Return x**y (x to the power of y).\n",
      "    \n",
      "    prod(iterable, /, *, start=1)\n",
      "        Calculate the product of all the elements in the input iterable.\n",
      "        \n",
      "        The default start value for the product is 1.\n",
      "        \n",
      "        When the iterable is empty, return the start value.  This function is\n",
      "        intended specifically for use with numeric values and may reject\n",
      "        non-numeric types.\n",
      "    \n",
      "    radians(x, /)\n",
      "        Convert angle x from degrees to radians.\n",
      "    \n",
      "    remainder(x, y, /)\n",
      "        Difference between x and the closest integer multiple of y.\n",
      "        \n",
      "        Return x - n*y where n*y is the closest integer multiple of y.\n",
      "        In the case where x is exactly halfway between two multiples of\n",
      "        y, the nearest even value of n is used. The result is always exact.\n",
      "    \n",
      "    sin(x, /)\n",
      "        Return the sine of x (measured in radians).\n",
      "    \n",
      "    sinh(x, /)\n",
      "        Return the hyperbolic sine of x.\n",
      "    \n",
      "    sqrt(x, /)\n",
      "        Return the square root of x.\n",
      "    \n",
      "    tan(x, /)\n",
      "        Return the tangent of x (measured in radians).\n",
      "    \n",
      "    tanh(x, /)\n",
      "        Return the hyperbolic tangent of x.\n",
      "    \n",
      "    trunc(x, /)\n",
      "        Truncates the Real x to the nearest Integral toward 0.\n",
      "        \n",
      "        Uses the __trunc__ magic method.\n",
      "    \n",
      "    ulp(x, /)\n",
      "        Return the value of the least significant bit of the float x.\n",
      "\n",
      "DATA\n",
      "    e = 2.718281828459045\n",
      "    inf = inf\n",
      "    nan = nan\n",
      "    pi = 3.141592653589793\n",
      "    tau = 6.283185307179586\n",
      "\n",
      "FILE\n",
      "    (built-in)\n",
      "\n",
      "\n"
     ]
    }
   ],
   "source": [
    "help(math) #per avere una descrizione della libreria math"
   ]
  },
  {
   "cell_type": "markdown",
   "id": "d71b48ff",
   "metadata": {},
   "source": [
    "Per richiamare una funzione della libreria occorre scrivere la sintassi:\n",
    "nomelibreria.nomefunzione"
   ]
  },
  {
   "cell_type": "code",
   "execution_count": 5,
   "id": "a3b1232f",
   "metadata": {},
   "outputs": [
    {
     "data": {
      "text/plain": [
       "0.11942892601833845"
      ]
     },
     "execution_count": 5,
     "metadata": {},
     "output_type": "execute_result"
    }
   ],
   "source": [
    "mt.atan(0.12) #es di uso della funzione atan(x,/)"
   ]
  },
  {
   "cell_type": "code",
   "execution_count": 6,
   "id": "832a5475",
   "metadata": {},
   "outputs": [
    {
     "data": {
      "text/plain": [
       "2.718281828459045"
      ]
     },
     "execution_count": 6,
     "metadata": {},
     "output_type": "execute_result"
    }
   ],
   "source": [
    "math.e #ci dice il valore del numero di nepero"
   ]
  },
  {
   "cell_type": "code",
   "execution_count": 7,
   "id": "4014ab03",
   "metadata": {},
   "outputs": [
    {
     "data": {
      "text/plain": [
       "3.141592653589793"
      ]
     },
     "execution_count": 7,
     "metadata": {},
     "output_type": "execute_result"
    }
   ],
   "source": [
    "math.pi #ci"
   ]
  },
  {
   "cell_type": "markdown",
   "id": "8ffbdb0d",
   "metadata": {},
   "source": [
    "Qualora una cella fallisse, si interrompono anche le istruzioni sulle successive."
   ]
  },
  {
   "cell_type": "markdown",
   "id": "2d029d0f",
   "metadata": {},
   "source": [
    "## Tipi di dati in python\n",
    "Tipi PRIMITIVI: int, str, boolean, \n",
    "\n",
    "PER CAPIRE QUAL'è IL TIPO DI DATO BASTA UTILIZZARE LA FUNZIONE DI BUILDIN type\n",
    "\n",
    "Python è tipizzato (gestisce i tipi di dato, differenzia i diversi tipi di dato),ma durante l'assegnamento non c'è bisogno di specificare il tipo di dato che sto associando (inferenza del tipo di dato).\n",
    "\n"
   ]
  },
  {
   "cell_type": "code",
   "execution_count": 8,
   "id": "ffd22d13",
   "metadata": {},
   "outputs": [
    {
     "name": "stdout",
     "output_type": "stream",
     "text": [
      "1 ciao\n",
      "<class 'int'> <class 'str'>\n"
     ]
    }
   ],
   "source": [
    "a=1\n",
    "b='ciao'\n",
    "print(a,b)\n",
    "print(type(a), type(b))"
   ]
  },
  {
   "cell_type": "markdown",
   "id": "a69cdcfd",
   "metadata": {},
   "source": [
    "Nei linguaggi di programmazione ad alto livello, gli oggetti sono delle strutture di dati che conservano un insieme di informazioni.\n",
    "\n",
    "Esempio:\n",
    "Un numero intero $n$ può, in alcuni linguaggi di programmazione (es. Java), essere salvato direttamente in una cella di memoria di 32 bit.\n",
    "(Quindi la capacità di storing del numero va da tutti i bit a 0 o tutti i bit a 1)\n",
    "In questo caso si parla di \"variabile primitiva\" ovvero \"tipo di dato fondamentale (o atomico)\" (cioè non scomponibile in altri sottipi di dato).\n",
    "\n",
    "Se dovessimo creare un modello computazionale per gestire i numeri complessi nella forma $z=a+ib$, non ci basterebbe più un'unica cella di memoria, ma ne occorrerebbero almeno 2 poiché abbiamo più di un'informazione (parte reale, parte immaginaria) ovvero ci servirebbe una struttura di dati $(Re(z),Im(z))$."
   ]
  },
  {
   "cell_type": "markdown",
   "id": "525f007b",
   "metadata": {},
   "source": [
    "Gli oggetti, oltre che contenere dei dati, possono anche esporre delle funzioni (es. operazioni per moltiplicare numeri complessi).\n",
    "Un oggetto è quindi una struttura di dati (primitivi o oggetti a loro volta) che può esporre anche delle funzioni."
   ]
  },
  {
   "cell_type": "markdown",
   "id": "af80014c",
   "metadata": {},
   "source": [
    "Un tipo primitivo può essere trattato come un oggetto, mentre non può accadere il viceversa; in questo caso si usano delle strutture dati dette \"wrappers\" che incorporano il comportamento di un dato primitivo e lo trasportano in un oggetto.\n",
    "La convenienza di utilizzare delle strutture di dati \"wrapper\" è poter aggiungere funzioni ad un oggetto primitivo.\n"
   ]
  },
  {
   "cell_type": "markdown",
   "id": "68784f35",
   "metadata": {},
   "source": [
    "In python esiste un comando $dir()$ per generare una lista di tutte le funzioni per una certa classe."
   ]
  },
  {
   "cell_type": "code",
   "execution_count": 9,
   "id": "40a1aeb0",
   "metadata": {},
   "outputs": [
    {
     "data": {
      "text/plain": [
       "['__add__',\n",
       " '__class__',\n",
       " '__contains__',\n",
       " '__delattr__',\n",
       " '__dir__',\n",
       " '__doc__',\n",
       " '__eq__',\n",
       " '__format__',\n",
       " '__ge__',\n",
       " '__getattribute__',\n",
       " '__getitem__',\n",
       " '__getnewargs__',\n",
       " '__gt__',\n",
       " '__hash__',\n",
       " '__init__',\n",
       " '__init_subclass__',\n",
       " '__iter__',\n",
       " '__le__',\n",
       " '__len__',\n",
       " '__lt__',\n",
       " '__mod__',\n",
       " '__mul__',\n",
       " '__ne__',\n",
       " '__new__',\n",
       " '__reduce__',\n",
       " '__reduce_ex__',\n",
       " '__repr__',\n",
       " '__rmod__',\n",
       " '__rmul__',\n",
       " '__setattr__',\n",
       " '__sizeof__',\n",
       " '__str__',\n",
       " '__subclasshook__',\n",
       " 'capitalize',\n",
       " 'casefold',\n",
       " 'center',\n",
       " 'count',\n",
       " 'encode',\n",
       " 'endswith',\n",
       " 'expandtabs',\n",
       " 'find',\n",
       " 'format',\n",
       " 'format_map',\n",
       " 'index',\n",
       " 'isalnum',\n",
       " 'isalpha',\n",
       " 'isascii',\n",
       " 'isdecimal',\n",
       " 'isdigit',\n",
       " 'isidentifier',\n",
       " 'islower',\n",
       " 'isnumeric',\n",
       " 'isprintable',\n",
       " 'isspace',\n",
       " 'istitle',\n",
       " 'isupper',\n",
       " 'join',\n",
       " 'ljust',\n",
       " 'lower',\n",
       " 'lstrip',\n",
       " 'maketrans',\n",
       " 'partition',\n",
       " 'removeprefix',\n",
       " 'removesuffix',\n",
       " 'replace',\n",
       " 'rfind',\n",
       " 'rindex',\n",
       " 'rjust',\n",
       " 'rpartition',\n",
       " 'rsplit',\n",
       " 'rstrip',\n",
       " 'split',\n",
       " 'splitlines',\n",
       " 'startswith',\n",
       " 'strip',\n",
       " 'swapcase',\n",
       " 'title',\n",
       " 'translate',\n",
       " 'upper',\n",
       " 'zfill']"
      ]
     },
     "execution_count": 9,
     "metadata": {},
     "output_type": "execute_result"
    }
   ],
   "source": [
    "dir(b) #vediamo le funzioni della classe stringa individuata da \"b\""
   ]
  },
  {
   "cell_type": "code",
   "execution_count": 10,
   "id": "a507a5f9",
   "metadata": {},
   "outputs": [
    {
     "data": {
      "text/plain": [
       "False"
      ]
     },
     "execution_count": 10,
     "metadata": {},
     "output_type": "execute_result"
    }
   ],
   "source": [
    "b.isnumeric()"
   ]
  },
  {
   "cell_type": "code",
   "execution_count": 11,
   "id": "5cf8efcd",
   "metadata": {},
   "outputs": [],
   "source": [
    "c='1' #è comunque una stringa perché sta tra le ''"
   ]
  },
  {
   "cell_type": "code",
   "execution_count": 12,
   "id": "e95651e0",
   "metadata": {},
   "outputs": [
    {
     "data": {
      "text/plain": [
       "True"
      ]
     },
     "execution_count": 12,
     "metadata": {},
     "output_type": "execute_result"
    }
   ],
   "source": [
    "c.isnumeric() #è una stringa numerica?"
   ]
  },
  {
   "cell_type": "code",
   "execution_count": 13,
   "id": "b4b72859",
   "metadata": {},
   "outputs": [
    {
     "name": "stdout",
     "output_type": "stream",
     "text": [
      "<class 'str'>\n",
      "True\n"
     ]
    }
   ],
   "source": [
    "print(type(c))\n",
    "print(c.isnumeric())"
   ]
  },
  {
   "cell_type": "markdown",
   "id": "f19c5fe1",
   "metadata": {},
   "source": [
    "Quando un'operazione è rischiosa per la runtime (ovvero potrebbe creae un errore di runtime) può essere circondata da una struttura a blocchi (facente parte della sintassi base di python) che previene l'interruzione forzata del programma."
   ]
  },
  {
   "cell_type": "code",
   "execution_count": 14,
   "id": "d8c31aac",
   "metadata": {},
   "outputs": [
    {
     "name": "stdout",
     "output_type": "stream",
     "text": [
      "non posso sommare le due variabili perché c non è un numero intero, ma una stringa\n"
     ]
    }
   ],
   "source": [
    "try:\n",
    "    a+c #non li posso sommare perché c non è un intero,ma una stringa\n",
    "except:\n",
    "    print('non posso sommare le due variabili perché c non è un numero intero, ma una stringa')\n",
    "    "
   ]
  },
  {
   "cell_type": "code",
   "execution_count": 15,
   "id": "fad956cf",
   "metadata": {},
   "outputs": [
    {
     "data": {
      "text/plain": [
       "10715086071862673209484250490600018105614048117055336074437503883703510511249361224931983788156958581275946729175531468251871452856923140435984577574698574803934567774824230985421074605062371141877954182153046474983581941267398767559165543946077062914571196477686542167660429831652624386837205668069376"
      ]
     },
     "execution_count": 15,
     "metadata": {},
     "output_type": "execute_result"
    }
   ],
   "source": [
    "2**1000"
   ]
  }
 ],
 "metadata": {
  "kernelspec": {
   "display_name": "Python 3 (ipykernel)",
   "language": "python",
   "name": "python3"
  },
  "language_info": {
   "codemirror_mode": {
    "name": "ipython",
    "version": 3
   },
   "file_extension": ".py",
   "mimetype": "text/x-python",
   "name": "python",
   "nbconvert_exporter": "python",
   "pygments_lexer": "ipython3",
   "version": "3.10.7"
  }
 },
 "nbformat": 4,
 "nbformat_minor": 5
}
