{
 "cells": [
  {
   "cell_type": "code",
   "execution_count": 6,
   "id": "56faba30",
   "metadata": {},
   "outputs": [],
   "source": [
    "a=3\n",
    "b=0"
   ]
  },
  {
   "cell_type": "code",
   "execution_count": 5,
   "id": "fca204f9",
   "metadata": {},
   "outputs": [
    {
     "data": {
      "text/plain": [
       "3"
      ]
     },
     "execution_count": 5,
     "metadata": {},
     "output_type": "execute_result"
    }
   ],
   "source": [
    "a"
   ]
  },
  {
   "cell_type": "code",
   "execution_count": 3,
   "id": "77babd43",
   "metadata": {},
   "outputs": [
    {
     "data": {
      "text/plain": [
       "0"
      ]
     },
     "execution_count": 3,
     "metadata": {},
     "output_type": "execute_result"
    }
   ],
   "source": [
    "b"
   ]
  },
  {
   "cell_type": "markdown",
   "id": "d2d9da35",
   "metadata": {},
   "source": [
    "#Benvenuti\n"
   ]
  },
  {
   "cell_type": "markdown",
   "id": "3a0461b4",
   "metadata": {},
   "source": [
    "#Benvenuti"
   ]
  },
  {
   "cell_type": "markdown",
   "id": "95fc1fab",
   "metadata": {},
   "source": [
    "# Benvenuti"
   ]
  },
  {
   "cell_type": "code",
   "execution_count": 7,
   "id": "63b0d66d",
   "metadata": {},
   "outputs": [],
   "source": []
  },
  {
   "cell_type": "markdown",
   "id": "456c6b29",
   "metadata": {},
   "source": [
    "## Benvenuti"
   ]
  },
  {
   "cell_type": "markdown",
   "id": "a2449371",
   "metadata": {},
   "source": [
    "Per un insieme $S = {s_1,s_2, ... , s_n}$"
   ]
  },
  {
   "cell_type": "markdown",
   "id": "0eed1c09",
   "metadata": {},
   "source": [
    "Per un insieme $S = {s_1,s_2, \\dots , s_n}$"
   ]
  },
  {
   "cell_type": "markdown",
   "id": "f7b269b6",
   "metadata": {},
   "source": [
    "Per un insieme $S = {s_1,s_2, \\dots , s_n}$ di numeri interi è possibile calcolarne il valore medio come $\\dfrac{(s_1 + s_2 + \\dots +s_n)}{n}$"
   ]
  },
  {
   "cell_type": "markdown",
   "id": "fdeec69b",
   "metadata": {},
   "source": [
    "$\\dfrac{\\sum_{i=1}^{n}{(s_i)}}{n}$"
   ]
  },
  {
   "cell_type": "markdown",
   "id": "0165e6c8",
   "metadata": {},
   "source": []
  },
  {
   "cell_type": "code",
   "execution_count": null,
   "id": "6b367990",
   "metadata": {},
   "outputs": [],
   "source": []
  }
 ],
 "metadata": {
  "kernelspec": {
   "display_name": "Python 3 (ipykernel)",
   "language": "python",
   "name": "python3"
  },
  "language_info": {
   "codemirror_mode": {
    "name": "ipython",
    "version": 3
   },
   "file_extension": ".py",
   "mimetype": "text/x-python",
   "name": "python",
   "nbconvert_exporter": "python",
   "pygments_lexer": "ipython3",
   "version": "3.10.7"
  }
 },
 "nbformat": 4,
 "nbformat_minor": 5
}
