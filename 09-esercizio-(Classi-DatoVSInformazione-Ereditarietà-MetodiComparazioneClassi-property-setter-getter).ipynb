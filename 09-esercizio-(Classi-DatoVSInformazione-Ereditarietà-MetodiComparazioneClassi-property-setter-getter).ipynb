{
 "cells": [
  {
   "cell_type": "markdown",
   "id": "2b130dcf",
   "metadata": {},
   "source": [
    "## Le Classi di Python\n",
    "Le classi ci permettono di definire ed usare strutture di dati che contengono variabili e funzioni.\n",
    "\n",
    "(keyword) class (nome_classe) Persona (due punti) :\n",
    "\n",
    "NOTA BENE: I nomi delle classi, per convenzione, iniziano con una maiuscola."
   ]
  },
  {
   "cell_type": "code",
   "execution_count": 1,
   "id": "e36f7b6b",
   "metadata": {},
   "outputs": [],
   "source": [
    "class Persona:\n",
    "    pass\n",
    "\n",
    "#ho definito una nuova classe con all'interno niente, ma solo con i metodi privati di default"
   ]
  },
  {
   "cell_type": "markdown",
   "id": "3f86c8f8",
   "metadata": {},
   "source": [
    "### Instanziare una classe\n",
    "Per instanziare una classe basta assegnare la classe ad una variabile\n"
   ]
  },
  {
   "cell_type": "code",
   "execution_count": 2,
   "id": "dab83be3",
   "metadata": {},
   "outputs": [],
   "source": [
    "#mario = Persona() #crea una nuova istanza della classe Persona\n",
    "#type(mario) #le classi costituiscono TIPI"
   ]
  },
  {
   "cell_type": "code",
   "execution_count": 3,
   "id": "10c43119",
   "metadata": {},
   "outputs": [],
   "source": [
    "#print(mario) #mancanza di una rappresentazione stringa (c'è solo quella di default) e quindi restituisce la posizione in memoria di quest'istanza"
   ]
  },
  {
   "cell_type": "markdown",
   "id": "0ecbb47c",
   "metadata": {},
   "source": [
    "Si noti che è possibile assegnare attributi (variabili) ad una classe. Le classi sono rappresentazioni computazionali di \"oggetti\" della vita reale. \n",
    "\n",
    "Ad esempio una persona può essere caratterizzata da Nome, Cognome, email.\n",
    "\n",
    "La quantità di attributi che si dichiara in una classe è proporzionale al numero di dettagli con cui si vuole descrivere l'oggetto. "
   ]
  },
  {
   "cell_type": "code",
   "execution_count": 4,
   "id": "b027accf",
   "metadata": {},
   "outputs": [],
   "source": [
    "#posso sovrascrivere la classe Persona() con una nuova:\n",
    "class Persona:\n",
    "    \"\"\"Quando si dichiara una classe, è convenzione definire un metodo speciale che ne descrive gli attributi.\n",
    "    Questo metodo speciale si chiama __init__\n",
    "    \"\"\"\n",
    "    \"\"\"\n",
    "    di default la funzione __init__ di una nuova classe è vuota:\n",
    "    def __init__(self):\n",
    "        pass\n",
    "        \n",
    "    Quindi sovrascrivendola si modifica il carattere della classe\n",
    "    \"\"\"\n",
    "    def __init__(self, nome, cognome, email): #self indica se stessa e DEVE ESSERCI SEMPRE come attributo del metodo init\n",
    "        self.nome = nome\n",
    "        self.cognome = cognome\n",
    "        self.email = email\n",
    "        \n",
    "    #voglio sovrascrivere il metodo __str__\n",
    "    def __str__(self):\n",
    "        \"\"\"\n",
    "        La funzione __str__ viene implicitamente chiamata da \"print\"\n",
    "        \"print\" stampa il valore stringa ritornato da __str__()\n",
    "        \"\"\"\n",
    "        return 'Nome: ' + self.nome + ', Cognome: ' + self.cognome + ', e-Mail: ' +self.email"
   ]
  },
  {
   "cell_type": "code",
   "execution_count": 5,
   "id": "3334e16b",
   "metadata": {},
   "outputs": [
    {
     "name": "stdout",
     "output_type": "stream",
     "text": [
      "Mario Rossi mariorossi@gmail.com\n"
     ]
    }
   ],
   "source": [
    "#mario = Persona() --> TypeError: per istanziare una classe bisogna chiamare correttamente la funzione __init__ che prende in ingresso 3 attributi\n",
    "mario = Persona('Mario', 'Rossi','mariorossi@gmail.com')\n",
    "print(mario.nome, mario.cognome, mario.email)"
   ]
  },
  {
   "cell_type": "code",
   "execution_count": 6,
   "id": "292d6ecc",
   "metadata": {},
   "outputs": [],
   "source": [
    "mario.nome = 'Gianni'"
   ]
  },
  {
   "cell_type": "markdown",
   "id": "53a00492",
   "metadata": {},
   "source": [
    "### Print di un oggetto"
   ]
  },
  {
   "cell_type": "code",
   "execution_count": 7,
   "id": "1a1d7f56",
   "metadata": {},
   "outputs": [
    {
     "data": {
      "text/plain": [
       "'Nome: Gianni, Cognome: Rossi, e-Mail: mariorossi@gmail.com'"
      ]
     },
     "execution_count": 7,
     "metadata": {},
     "output_type": "execute_result"
    }
   ],
   "source": [
    "mario.__str__()"
   ]
  },
  {
   "cell_type": "markdown",
   "id": "76642d9f",
   "metadata": {},
   "source": [
    "Una classe ci permette di gestire un'entità che ha un numero finito di attributi che possiamo istanziare, leggere, sovrascrivere, ecc."
   ]
  },
  {
   "cell_type": "code",
   "execution_count": 8,
   "id": "718e2565",
   "metadata": {},
   "outputs": [],
   "source": [
    "class Persona:\n",
    "    \n",
    "    def __init__(self, nome, cognome, email, anno_nascita = 1900): #inserendo un nuovo attributo e assegnarlo subito si può fare\n",
    "        self.nome = nome\n",
    "        self.cognome = cognome\n",
    "        self.email = email\n",
    "        self.anno_nascita = anno_nascita\n",
    "\n",
    "        \n",
    "    #voglio sovrascrivere il metodo __str__\n",
    "    def __str__(self):\n",
    "        return 'Nome: ' + self.nome + ', Cognome: ' + self.cognome + ', e-Mail: ' +self.email+ ', Anno di nascita: '+ str(self.anno_nascita) #ho dovuto castare a str per stampare"
   ]
  },
  {
   "cell_type": "code",
   "execution_count": 9,
   "id": "d58a09be",
   "metadata": {},
   "outputs": [
    {
     "name": "stdout",
     "output_type": "stream",
     "text": [
      "Nome: Mario, Cognome: Rossi, e-Mail: mariorossi@gmail.com, Anno di nascita: 1900\n"
     ]
    }
   ],
   "source": [
    "mario = Persona('Mario', 'Rossi','mariorossi@gmail.com')\n",
    "print(mario)"
   ]
  },
  {
   "cell_type": "markdown",
   "id": "ead800b3",
   "metadata": {},
   "source": [
    "## Differenza tra DATO e INFOMAZIONE\n",
    "Un DATO non è legato a qualcosa di semantico a differenza dell'INFORMAZIONE.\n",
    "\n",
    "Quindi, un'INFORMAZIONE è un DATO, mentre un DATO non necessariamente è un'INFORMAZIONE.\n",
    "\n",
    "Il \"dato\" è un atomo di una informazione ovvero concorre alla creazione di un'informazione.\n",
    "\n",
    "Ad esempio:\n",
    "\n",
    "l'età è un'informazione in quanto è elaborata a partire dalla data di nascita(dato) e la data odierna(dato).\n"
   ]
  },
  {
   "cell_type": "code",
   "execution_count": 10,
   "id": "b9141d02",
   "metadata": {},
   "outputs": [],
   "source": [
    "import datetime"
   ]
  },
  {
   "cell_type": "code",
   "execution_count": 11,
   "id": "eb677590",
   "metadata": {},
   "outputs": [],
   "source": [
    "class Utente:\n",
    "    \"\"\"\n",
    "    Classe che rappresneta l'utente di una piattaforma social.\n",
    "    La policy della compagnia prevede che all'iscrizione l'utente abbia almeno 16 anni.\n",
    "    \"\"\"\n",
    "    def __init__(self, nome,cognome, data_nascita):\n",
    "        self.nome = nome\n",
    "        self.cognome = cognome\n",
    "        \"\"\"\n",
    "        è corretto salvare la data di nascita in quanto immutabile\n",
    "        \"\"\"\n",
    "        self.data_nascita = data_nascita\n",
    "        \n",
    "    def __str__(self):\n",
    "        return self.nome + ' ' + self.cognome + ' età: ' + str(self.get_anni()) + ' anni.' \n",
    "        \n",
    "    def get_anni(self):\n",
    "        \"\"\"\n",
    "        non sarebbe corretto salvare gli anni in un attributo, in quanto rappresentano un'informazione.\n",
    "        Le informazioni si RICAVANO, mentre i dati si LEGGONO\n",
    "        \"\"\"\n",
    "        t = datetime.date.today()\n",
    "        year =int( (t - self.data_nascita).days /365 )\n",
    "        return year"
   ]
  },
  {
   "cell_type": "code",
   "execution_count": 12,
   "id": "67aa2490",
   "metadata": {},
   "outputs": [
    {
     "name": "stdout",
     "output_type": "stream",
     "text": [
      "26\n"
     ]
    }
   ],
   "source": [
    "dir(datetime.date)\n",
    "today = datetime.date.today()\n",
    "day = datetime.date(1995, 10,19)\n",
    "year =int( (today - day).days /365 )\n",
    "print(year)"
   ]
  },
  {
   "cell_type": "code",
   "execution_count": 13,
   "id": "72ade6e0",
   "metadata": {},
   "outputs": [
    {
     "name": "stdout",
     "output_type": "stream",
     "text": [
      "Stefano Marzo età: 26 anni.\n"
     ]
    }
   ],
   "source": [
    "io = Utente('Stefano', 'Marzo', datetime.date(1995, 10, 19))\n",
    "io.get_anni()\n",
    "print(io)"
   ]
  },
  {
   "cell_type": "markdown",
   "id": "6a750819",
   "metadata": {},
   "source": [
    "## Esercizio 1\n",
    "Creare una funzione che restituisca una data random dati in ingresso gli anni\n",
    "\n",
    "26 $\\rightarrow$  29/09/1995 al 28/09/1996"
   ]
  },
  {
   "cell_type": "code",
   "execution_count": 14,
   "id": "5bd44dc4",
   "metadata": {},
   "outputs": [],
   "source": [
    "import random\n",
    "#help(random)\n",
    "#help(datetime.date.month)"
   ]
  },
  {
   "cell_type": "code",
   "execution_count": 15,
   "id": "6db8febb",
   "metadata": {},
   "outputs": [],
   "source": [
    "import calendar\n",
    "import random\n",
    "import datetime\n",
    "\n",
    "def random_data(anni):\n",
    "    \n",
    "    rnd_giorno = random.randint(1, 365)\n",
    "    rnd_mese = random.randint(1, 12)\n",
    "    \n",
    "    if rnd_mese < datetime.date.today().month:\n",
    "        \n",
    "            anno = datetime.date.today().year - anni\n",
    "            mese = random.randint(1, datetime.date.today().month)\n",
    "            giorno = random.randint(1, datetime.date.today().day-1)\n",
    "            \n",
    "    elif rnd_mese == datetime.date.today().month:\n",
    "        \n",
    "        if rnd_giorno > datetime.date.today().day:\n",
    "            anno = datetime.date.today().year - anni -1\n",
    "            mese = random.randint(datetime.date.today().month, 12)\n",
    "            ultimo_giorno = calendar.monthrange(anno, mese)[1]\n",
    "            giorno = random.randint(datetime.date.today().day, ultimo_giorno)\n",
    "    else:\n",
    "        anno = datetime.date.today().year - anni -1\n",
    "        mese = random.randint(rnd_mese, 12)\n",
    "        ultimo_giorno = calendar.monthrange(anno, mese)[1]\n",
    "        giorno = random.randint(1, ultimo_giorno)\n",
    "            \n",
    "    return datetime.date(anno, mese, giorno)"
   ]
  },
  {
   "cell_type": "code",
   "execution_count": 16,
   "id": "e47c4420",
   "metadata": {},
   "outputs": [
    {
     "data": {
      "text/plain": [
       "datetime.date(1922, 2, 13)"
      ]
     },
     "execution_count": 16,
     "metadata": {},
     "output_type": "execute_result"
    }
   ],
   "source": [
    "random_data(100)"
   ]
  },
  {
   "cell_type": "code",
   "execution_count": 17,
   "id": "1b91c6cc",
   "metadata": {},
   "outputs": [],
   "source": [
    "#come funziona il metodo monthrange:\n",
    "\n",
    "#>>import calendar\n",
    "#>>year, month = 2016, 12>>calendar.monthrange(year, month)[1]\n",
    "#31"
   ]
  },
  {
   "cell_type": "markdown",
   "id": "9fb119b4",
   "metadata": {},
   "source": [
    "## Esercizio 2\n",
    "Data una lista di 10 nomi e 10 cognomi, creare 10 istanze di Utente inizializzate con date di nascita random in modo tale che gli utenti abbiano un'età compresa tra 15 e 20 anni"
   ]
  },
  {
   "cell_type": "code",
   "execution_count": 18,
   "id": "5e712572",
   "metadata": {
    "scrolled": true
   },
   "outputs": [
    {
     "name": "stdout",
     "output_type": "stream",
     "text": [
      "Ginevra Verdi età: 20 anni.\n",
      "Martina Rossi età: 19 anni.\n",
      "Aldo Bianchi età: 15 anni.\n",
      "Silvia Blui età: 20 anni.\n",
      "Giacomo Gialli età: 20 anni.\n",
      "Enrico Neri età: 18 anni.\n",
      "Eugenia Azzurri età: 20 anni.\n",
      "Francesco Arancioni età: 19 anni.\n",
      "Nicola Marroni età: 17 anni.\n",
      "Mark Grigi età: 20 anni.\n"
     ]
    }
   ],
   "source": [
    "nomi=['Ginevra', 'Martina', 'Aldo', 'Silvia', 'Giacomo', 'Enrico', 'Eugenia', 'Francesco', 'Nicola', 'Mark']\n",
    "cognomi= ['Verdi', 'Rossi', 'Bianchi', 'Blui', 'Gialli', 'Neri', 'Azzurri', 'Arancioni', 'Marroni', 'Grigi']\n",
    "anni = random.randint(15,20)\n",
    "\n",
    "utenti = []\n",
    "for nome, cognome in zip(nomi, cognomi):\n",
    "    anni = random.randint(15,20)\n",
    "    data = random_data(anni)\n",
    "    utenti.append(Utente(nome, cognome, data))\n",
    "\n",
    "for i in utenti:\n",
    "    print(i)"
   ]
  },
  {
   "cell_type": "code",
   "execution_count": 19,
   "id": "92a845e7",
   "metadata": {},
   "outputs": [
    {
     "name": "stdout",
     "output_type": "stream",
     "text": [
      "Ginevra Verdi età: 20 anni.\n",
      "Martina Rossi età: 18 anni.\n",
      "Aldo Bianchi età: 16 anni.\n",
      "Silvia Blui età: 18 anni.\n",
      "Giacomo Gialli età: 20 anni.\n",
      "Enrico Neri età: 15 anni.\n",
      "Eugenia Azzurri età: 17 anni.\n",
      "Francesco Arancioni età: 18 anni.\n",
      "Nicola Marroni età: 17 anni.\n",
      "Mark Grigi età: 19 anni.\n"
     ]
    }
   ],
   "source": [
    "utenti_evolution = [\n",
    "    Utente(nome, cognome, random_data(random.randint(15,20)))\n",
    "    for nome, cognome in zip(nomi, cognomi)    \n",
    "]\n",
    "\n",
    "for i in utenti_evolution:\n",
    "    print(i)"
   ]
  },
  {
   "cell_type": "markdown",
   "id": "36bbfc12",
   "metadata": {},
   "source": [
    "## Esercizio 3\n",
    "Calcolare la media dell'età"
   ]
  },
  {
   "cell_type": "code",
   "execution_count": 20,
   "id": "8562bca9",
   "metadata": {},
   "outputs": [
    {
     "data": {
      "text/plain": [
       "18.8"
      ]
     },
     "execution_count": 20,
     "metadata": {},
     "output_type": "execute_result"
    }
   ],
   "source": [
    "avg = lambda numeri : sum(numeri)/len(numeri)\n",
    "avg([u.get_anni() for u in utenti])"
   ]
  },
  {
   "cell_type": "code",
   "execution_count": 21,
   "id": "48789931",
   "metadata": {},
   "outputs": [],
   "source": [
    "#help(property)"
   ]
  },
  {
   "cell_type": "markdown",
   "id": "39884bb0",
   "metadata": {},
   "source": [
    "## property()\n",
    "property():  Typical use is to define a managed attribute x:"
   ]
  },
  {
   "cell_type": "markdown",
   "id": "36d0368e",
   "metadata": {},
   "source": [
    "Abbiamo fatto una distinzione tra DATI e INFORMAZIONI (che sono l'output di un calcolo che prevede dati).\n",
    "Alle volte, è comodo poter rappresentare certe informazioni COME SE fossero dati (quindi nella forma di attributo di una classe). \n",
    "\n",
    "La funzione di built-in property() ha questo scopo."
   ]
  },
  {
   "cell_type": "code",
   "execution_count": 22,
   "id": "48d28b68",
   "metadata": {},
   "outputs": [
    {
     "name": "stdout",
     "output_type": "stream",
     "text": [
      "32\n",
      "32\n"
     ]
    }
   ],
   "source": [
    "io.get_anni()\n",
    "Utente.anni = property(Utente.get_anni) \n",
    "\n",
    "tu = Utente('MArco', 'Fumagalli', datetime.date(1990, 9,29))\n",
    "\n",
    "print(tu.anni) \n",
    "print(tu.get_anni())"
   ]
  },
  {
   "cell_type": "markdown",
   "id": "08c55e7a",
   "metadata": {},
   "source": [
    "Definizione di funzione tradizionale:\n",
    "\n",
    "$f(x) = y$\n",
    "\n",
    "Definizione di Lambda function:\n",
    "\n",
    "$f : x \\rightarrow y$\n",
    "\n",
    "Notazione diversa stesso significato"
   ]
  },
  {
   "cell_type": "markdown",
   "id": "2c693620",
   "metadata": {},
   "source": [
    "### L'ereditarietà\n",
    "Molto spesso, in un modello computazionale, esistono diverse entità relazionate in qualche modo tra loro.\n",
    "\n",
    "Oltre alle relazioni di \"appartenenza\" (1 a 1, 1 a n, n a n) possono esistere delle relazioni di \"parentela\". \n",
    "\n",
    "Una classe può ereditare proprietà da un'altra classe genitore/parente.\n",
    "\n",
    "Es. tutti i mezzi di trasporto hanno una velocità massima (proprietà i.e dato i.e. un attributo)\n",
    "Creo un modello MezzoDiTrasporto\n",
    "\n",
    "Le automobili a combustibile hanno una proprietà che è: capacità_serbatoio\n",
    "\n",
    "I treni non hanno la proprietà \"capacità_serbatoio\" \n",
    "\n",
    "Nonostante le diversità, però, condividono la proprietà di avere una vel_max"
   ]
  },
  {
   "cell_type": "code",
   "execution_count": 23,
   "id": "078d337d",
   "metadata": {},
   "outputs": [],
   "source": [
    "class MezzoDiTrasporto:\n",
    "    def __init__(self, vel_max):\n",
    "        self.vel_max = vel_max\n",
    "        \n",
    "class Automobile:\n",
    "    def __init__(self, vel_max, capienza_serbatoio):\n",
    "        self.vel_max = vel_max\n",
    "        self.capienza_serbatoio = capienza_serbatoio\n",
    "        \n",
    "class Treno:\n",
    "    def __init__(self, vel_max, numero_vagoni):\n",
    "        self.vel_max = vel_max\n",
    "        self.numero_vagoni = numero_vagoni\n",
    "        "
   ]
  },
  {
   "cell_type": "markdown",
   "id": "2d3ff9be",
   "metadata": {},
   "source": [
    "L'esempio precedente ci fa notare quanto sia scomodo e ridondante ripetere il codice.\n",
    "Al posto di ripetere il codice, si possono usare degli strumenti python per indicare esplicitamente una relazione di parentela tra le diverse classi.\n"
   ]
  },
  {
   "cell_type": "code",
   "execution_count": 24,
   "id": "fd8768db",
   "metadata": {},
   "outputs": [],
   "source": [
    "class MezzoDiTrasporto:\n",
    "    def __init__(self, vel_max):\n",
    "        self.vel_max = vel_max\n",
    "        \n",
    "    def print_vel_max(self):\n",
    "        print(self.vel_max)\n",
    "        \n",
    "    def __str__(self):\n",
    "        return 'Sono un mezzo di trasporto'\n",
    "    \"\"\"\n",
    "    i seguenti due metodi si chiamano 'setter' e 'getter'\n",
    "    \"\"\"\n",
    "    def set_vel_max(self, new_vel):\n",
    "        self.vel_max = new_vel\n",
    "        \n",
    "    def get_vel_max(self):\n",
    "        return self.vel_max\n",
    "    \n",
    "    #in assenza di un setter, le proprietà sono da considerarsi di SOLA LETTURA\n",
    "    vel = property(get_vel_max, set_vel_max) #la property genera view su una get e set\n",
    "        \n",
    "class Automobile(MezzoDiTrasporto):\n",
    "    def __init__(self, vel_max, capienza_serbatoio):\n",
    "        #MezzoDiTrasporto.__init__(vel_max) usiamo equivalentemente super() per semplicità:\n",
    "        super().__init__(vel_max) #super dato un oggetto ci ritorna la classe precedente da cui eredita\n",
    "        self.capienza_serbatoio = capienza_serbatoio\n",
    "        \n",
    "    def __str__(self):\n",
    "        return super().__str__() + \" e sono anche un'automobile\"\n",
    "        \n",
    "class Treno(MezzoDiTrasporto):\n",
    "    def __init__(self, vel_max, numero_vagoni):\n",
    "        super().__init__(vel_max)\n",
    "        self.numero_vagoni = numero_vagoni\n",
    "        \n",
    "#la convenienza di ereditare attributi dalla classe padre si può osservare quando gli attributi della classe padre sono almeno 2"
   ]
  },
  {
   "cell_type": "code",
   "execution_count": 25,
   "id": "c819ca38",
   "metadata": {},
   "outputs": [
    {
     "name": "stdout",
     "output_type": "stream",
     "text": [
      "20\n",
      "Sono un mezzo di trasporto e sono anche un'automobile\n"
     ]
    }
   ],
   "source": [
    "Automobile(20,50).print_vel_max()\n",
    "print(Automobile(20,50))"
   ]
  },
  {
   "cell_type": "code",
   "execution_count": 26,
   "id": "4e225dab",
   "metadata": {},
   "outputs": [
    {
     "name": "stdout",
     "output_type": "stream",
     "text": [
      "10\n",
      "10\n",
      "100\n"
     ]
    },
    {
     "data": {
      "text/plain": [
       "'\\ne allora PERCHé bisogna preoccuparsi di creare i due metodi di getter e setter?\\nIn molti casi il set di un attributo dovrebbe essere possibile solo se il nuovo valore soddisfa\\ndeterminati REQUISITI.\\n\\nAd esempio: la velocità massima non può essere negativa.\\n\\nI setter sono FUNZIONI che ci permettono di eseguire BLOCCHI e quindi più istruzioni.\\n\\n'"
      ]
     },
     "execution_count": 26,
     "metadata": {},
     "output_type": "execute_result"
    }
   ],
   "source": [
    "mdt = MezzoDiTrasporto(20)\n",
    "mdt.vel #abbiamo creato una proprietà attraverso una funzione\n",
    "\n",
    "#con il set possiamo anche settare il valore e quindi con property è anche possibile\n",
    "#indicare una funzione di \"sette\" in modo da poter modificare il valore\n",
    "\n",
    "mdt.vel = 10\n",
    "print(mdt.vel)\n",
    "\n",
    "\"\"\"\n",
    "qualcuno potrebbe argomentare che in questo caso sarebbe inutile usare la property perché \n",
    "basterebbe usare direttamente l'attributo (uso di vel_max al posto di vel)\n",
    "\"\"\"\n",
    "\n",
    "print(mdt.vel_max)\n",
    "mdt.vel_max =100\n",
    "print(mdt.vel_max)\n",
    "\n",
    "\"\"\"\n",
    "e allora PERCHé bisogna preoccuparsi di creare i due metodi di getter e setter?\n",
    "In molti casi il set di un attributo dovrebbe essere possibile solo se il nuovo valore soddisfa\n",
    "determinati REQUISITI.\n",
    "\n",
    "Ad esempio: la velocità massima non può essere negativa.\n",
    "\n",
    "I setter sono FUNZIONI che ci permettono di eseguire BLOCCHI e quindi più istruzioni.\n",
    "\n",
    "\"\"\""
   ]
  },
  {
   "cell_type": "code",
   "execution_count": 27,
   "id": "7bbf64fc",
   "metadata": {},
   "outputs": [],
   "source": [
    "class MezzoDiTrasporto:\n",
    "    def __init__(self, vel_max):\n",
    "        self.set_vel_max(vel_max) #usando il setter all'interno dell'init ho il controllo sull'inizializzazione   #self.vel_max = vel_max\n",
    "        \n",
    "    def print_vel_max(self):\n",
    "            print(self.vel_max)\n",
    "        \n",
    "    def __str__(self):\n",
    "        return 'Sono un mezzo di trasporto'\n",
    "    \"\"\"\n",
    "    i seguenti due metodi si chiamano 'setter' e 'getter'\n",
    "    \"\"\"\n",
    "    def set_vel_max(self, new_vel):\n",
    "        if new_vel < 0:\n",
    "            self.vel_max = 0    \n",
    "        else:\n",
    "            self.vel_max = new_vel\n",
    "        \n",
    "    def get_vel_max(self):\n",
    "        if self.vel_max==0:\n",
    "            print('velocità massima NON settata correttamente')\n",
    "        return self.vel_max\n",
    "    \n",
    "    \n",
    "    vel = property(get_vel_max, set_vel_max) \n"
   ]
  },
  {
   "cell_type": "code",
   "execution_count": 28,
   "id": "349ab6ec",
   "metadata": {},
   "outputs": [
    {
     "name": "stdout",
     "output_type": "stream",
     "text": [
      "velocità massima NON settata correttamente\n",
      "velocità massima NON settata correttamente\n"
     ]
    },
    {
     "data": {
      "text/plain": [
       "0"
      ]
     },
     "execution_count": 28,
     "metadata": {},
     "output_type": "execute_result"
    }
   ],
   "source": [
    "mdt = MezzoDiTrasporto(20)\n",
    "mdt.vel\n",
    "\n",
    "mdt.vel = -10\n",
    "mdt.vel \n",
    "\n",
    "mdt_2 = MezzoDiTrasporto(-1000)\n",
    "mdt.vel"
   ]
  },
  {
   "cell_type": "code",
   "execution_count": null,
   "id": "47a20354",
   "metadata": {},
   "outputs": [],
   "source": []
  },
  {
   "cell_type": "markdown",
   "id": "696b5073",
   "metadata": {},
   "source": [
    "ATTENZIONE: Le relazioni di tipo \"parentale\" sono unidirezionali:\n",
    "\n",
    "i figli sanno chi sono i genitori, ma i genitori NON sanno chi sono i figli.\n",
    "Quindi un filgio può ereditare tutte le proprietà del genitore, ma non vale il viceversa."
   ]
  },
  {
   "cell_type": "code",
   "execution_count": 29,
   "id": "b5c27e1a",
   "metadata": {},
   "outputs": [
    {
     "data": {
      "text/plain": [
       "'stringasomma'"
      ]
     },
     "execution_count": 29,
     "metadata": {},
     "output_type": "execute_result"
    }
   ],
   "source": [
    "'stringa'+ 'somma'\n"
   ]
  },
  {
   "cell_type": "code",
   "execution_count": 30,
   "id": "791a9097",
   "metadata": {},
   "outputs": [
    {
     "data": {
      "text/plain": [
       "'ssssssssss'"
      ]
     },
     "execution_count": 30,
     "metadata": {},
     "output_type": "execute_result"
    }
   ],
   "source": [
    "'stringa'*10\n",
    "10*'s'"
   ]
  },
  {
   "cell_type": "code",
   "execution_count": 31,
   "id": "53e405c2",
   "metadata": {},
   "outputs": [
    {
     "name": "stdout",
     "output_type": "stream",
     "text": [
      "TypeError: can only concatenate str (not \"int\") to str\n"
     ]
    }
   ],
   "source": [
    "try:\n",
    "    's'+10\n",
    "except:\n",
    "    print('TypeError: can only concatenate str (not \"int\") to str')"
   ]
  },
  {
   "cell_type": "markdown",
   "id": "866721f6",
   "metadata": {},
   "source": [
    "## Metodi speciali di comparazione delle classi"
   ]
  },
  {
   "cell_type": "code",
   "execution_count": 32,
   "id": "fb837d1d",
   "metadata": {},
   "outputs": [
    {
     "data": {
      "text/plain": [
       "False"
      ]
     },
     "execution_count": 32,
     "metadata": {},
     "output_type": "execute_result"
    }
   ],
   "source": [
    "u_1 = Utente('stefano', 'marzo', datetime.date(1995,10,19))\n",
    "u_2 = Utente('stefano', 'marzo', datetime.date(1995,10,19))\n",
    "\n",
    "u_1 == u_2 #l'operazione darà false perché uguagliano la posizione in memoria non il contenuto"
   ]
  },
  {
   "cell_type": "code",
   "execution_count": 33,
   "id": "1fdc20a5",
   "metadata": {},
   "outputs": [
    {
     "name": "stdout",
     "output_type": "stream",
     "text": [
      "True\n",
      "False\n"
     ]
    }
   ],
   "source": [
    "class Admin(Utente):\n",
    "    def __eq__(self, altro):\n",
    "        return self.nome == altro.nome and self.cognome == altro.cognome and self.data_nascita == altro.data_nascita\n",
    "\n",
    "a1 = Admin('stefano', 'marzo', datetime.date(1995,10,19))\n",
    "a2 = Admin('stefano', 'marzo', datetime.date(1995,10,19))\n",
    "\n",
    "print(a1 == a2)\n",
    "\n",
    "a3 = Admin('stefano', 'marzo', datetime.date(1999,10,19))\n",
    "\n",
    "print(a1 == a3)"
   ]
  },
  {
   "cell_type": "code",
   "execution_count": 34,
   "id": "54cedbcb",
   "metadata": {},
   "outputs": [
    {
     "name": "stdout",
     "output_type": "stream",
     "text": [
      "mario rossi età: 38 anni.\n",
      "andrea verdi età: 44 anni.\n",
      "maria bianchi età: 62 anni.\n"
     ]
    },
    {
     "data": {
      "text/plain": [
       "list"
      ]
     },
     "execution_count": 34,
     "metadata": {},
     "output_type": "execute_result"
    }
   ],
   "source": [
    "import random\n",
    "class Admin(Utente):\n",
    "    def __eq__(self, altro):\n",
    "        return self.nome == altro.nome and self.cognome == altro.cognome and self.data_nascita == altro.data_nascita\n",
    "\n",
    "admins = [\n",
    "    Admin(n,c,datetime.date(random.randrange(1960, 1990),1,1))\n",
    "    for n,c \n",
    "    in [('mario', 'rossi'), ('andrea', 'verdi'), ('maria','bianchi')]\n",
    "]\n",
    "\n",
    "#dir(list) <-- qui troviamo il metodo sort che si può provare ad applicare\n",
    "#admins.sort() #non possiamo farlo perché non abbiamo definito un ordinamento\n",
    "for a in admins:\n",
    "    print(a)\n",
    "    \n",
    "type(admins)"
   ]
  },
  {
   "cell_type": "code",
   "execution_count": 35,
   "id": "2fc982f2",
   "metadata": {},
   "outputs": [
    {
     "name": "stdout",
     "output_type": "stream",
     "text": [
      "maria bianchi età: 56 anni.\n",
      "mario rossi età: 55 anni.\n",
      "andrea verdi età: 44 anni.\n"
     ]
    },
    {
     "data": {
      "text/plain": [
       "list"
      ]
     },
     "execution_count": 35,
     "metadata": {},
     "output_type": "execute_result"
    }
   ],
   "source": [
    "#inseriamo un ordinamento nella classe Admin:\n",
    "class Admin(Utente):\n",
    "    def __eq__(self, altro):\n",
    "        return self.nome == altro.nome and self.cognome == altro.cognome and self.data_nascita == altro.data_nascita\n",
    "\n",
    "    def __gt__(self, altro): #__gt__ è una funzione che sta per \"greater than\"\n",
    "        return self.cognome > altro.cognome \n",
    "        \n",
    "\n",
    "admins = [\n",
    "    Admin(n,c,datetime.date(random.randrange(1960, 1990),1,1))\n",
    "    for n,c \n",
    "    in [('mario', 'rossi'), ('andrea', 'verdi'), ('maria','bianchi')]\n",
    "]\n",
    "    \n",
    "admins.sort()\n",
    "for a in admins:\n",
    "    print(a)\n",
    "    \n",
    "type(admins)    \n"
   ]
  },
  {
   "cell_type": "code",
   "execution_count": 36,
   "id": "776b6252",
   "metadata": {},
   "outputs": [
    {
     "name": "stdout",
     "output_type": "stream",
     "text": [
      "lorenzo bianchi età: 57 anni.\n",
      "maria bianchi età: 37 anni.\n",
      "mario rossi età: 40 anni.\n",
      "mario rossi età: 58 anni.\n",
      "andrea verdi età: 61 anni.\n"
     ]
    },
    {
     "data": {
      "text/plain": [
       "list"
      ]
     },
     "execution_count": 36,
     "metadata": {},
     "output_type": "execute_result"
    }
   ],
   "source": [
    "class Admin(Utente):\n",
    "    def __eq__(self, altro):\n",
    "        return self.nome == altro.nome and self.cognome == altro.cognome and self.data_nascita == altro.data_nascita\n",
    "\n",
    "    def __gt__(self, altro): #__gt__ è una funzione che sta per \"greater than\"\n",
    "        return self.cognome > altro.cognome if self.cognome != altro.cognome else self.nome > altro.nome if self.nome != altro.nome else self.data_nascita < altro.data_nascita  \n",
    "\n",
    "    #N.B. l'if si può mettere anche inline e in questo caso il confronto si chiama ternario-quaternario        \n",
    "\n",
    "admins = [\n",
    "    Admin(n,c,datetime.date(random.randrange(1960, 1990),1,1))\n",
    "    for n,c \n",
    "    in [('mario', 'rossi'), ('mario', 'rossi'),('andrea', 'verdi'), ('maria','bianchi'),('lorenzo','bianchi')]\n",
    "]\n",
    "\n",
    "\n",
    "admins.sort()\n",
    "for a in admins:\n",
    "    print(a)\n",
    "    \n",
    "type(admins)  "
   ]
  },
  {
   "cell_type": "code",
   "execution_count": null,
   "id": "6ba7cb22",
   "metadata": {},
   "outputs": [],
   "source": []
  }
 ],
 "metadata": {
  "kernelspec": {
   "display_name": "Python 3 (ipykernel)",
   "language": "python",
   "name": "python3"
  },
  "language_info": {
   "codemirror_mode": {
    "name": "ipython",
    "version": 3
   },
   "file_extension": ".py",
   "mimetype": "text/x-python",
   "name": "python",
   "nbconvert_exporter": "python",
   "pygments_lexer": "ipython3",
   "version": "3.10.7"
  }
 },
 "nbformat": 4,
 "nbformat_minor": 5
}
