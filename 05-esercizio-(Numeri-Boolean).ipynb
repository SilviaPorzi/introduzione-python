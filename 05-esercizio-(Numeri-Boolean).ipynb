{
 "cells": [
  {
   "cell_type": "markdown",
   "id": "7810042b",
   "metadata": {},
   "source": [
    "# Numeri in python\n",
    "Python utilizza oggetti complessi per la gestione dei numeri; quindi, a differenza di altri linguaggi di programmazione, la memoria è gestita \"dinamicamente\" ovvero per molti tipi di dato numerico non ci sono limiti architetturali di memoria se non quelli della macchina."
   ]
  },
  {
   "cell_type": "code",
   "execution_count": 3,
   "id": "875410ce",
   "metadata": {},
   "outputs": [
    {
     "name": "stdout",
     "output_type": "stream",
     "text": [
      "19950631168807583848837421626835850838234968318861924548520089498529438830221946631919961684036194597899331129423209124271556491349413781117593785932096323957855730046793794526765246551266059895520550086918193311542508608460618104685509074866089624888090489894838009253941633257850621568309473902556912388065225096643874441046759871626985453222868538161694315775629640762836880760732228535091641476183956381458969463899410840960536267821064621427333394036525565649530603142680234969400335934316651459297773279665775606172582031407994198179607378245683762280037302885487251900834464581454650557929601414833921615734588139257095379769119277800826957735674444123062018757836325502728323789270710373802866393031428133241401624195671690574061419654342324638801248856147305207431992259611796250130992860241708340807605932320161268492288496255841312844061536738951487114256315111089745514203313820202931640957596464756010405845841566072044962867016515061920631004186422275908670900574606417856951911456055068251250406007519842261898059237118054444788072906395242548339221982707404473162376760846613033778706039803413197133493654622700563169937455508241780972810983291314403571877524768509857276937926433221599399876886660808368837838027643282775172273657572744784112294389733810861607423253291974813120197604178281965697475898164531258434135959862784130128185406283476649088690521047580882615823961985770122407044330583075869039319604603404973156583208672105913300903752823415539745394397715257455290510212310947321610753474825740775273986348298498340756937955646638621874569499279016572103701364433135817214311791398222983845847334440270964182851005072927748364550578634501100852987812389473928699540834346158807043959118985815145779177143619698728131459483783202081474982171858011389071228250905826817436220577475921417653715687725614904582904992461028630081535583308130101987675856234343538955409175623400844887526162643568648833519463720377293240094456246923254350400678027273837755376406726898636241037491410966718557050759098100246789880178271925953381282421954028302759408448955014676668389697996886241636313376393903373455801407636741877711055384225739499110186468219696581651485130494222369947714763069155468217682876200362777257723781365331611196811280792669481887201298643660768551639860534602297871557517947385246369446923087894265948217008051120322365496288169035739121368338393591756418733850510970271613915439590991598154654417336311656936031122249937969999226781732358023111862644575299135758175008199839236284615249881088960232244362173771618086357015468484058622329792853875623486556440536962622018963571028812361567512543338303270029097668650568557157505516727518899194129711337690149916181315171544007728650573189557450920330185304847113818315407324053319038462084036421763703911550639789000742853672196280903477974533320468368795868580237952218629120080742819551317948157624448298518461509704888027274721574688131594750409732115080498190455803416826949787141316063210686391511681774304792596709376 <class 'int'>\n"
     ]
    }
   ],
   "source": [
    "big_int = 2**10000\n",
    "print(big_int, type(big_int))"
   ]
  },
  {
   "cell_type": "code",
   "execution_count": 5,
   "id": "56d9e5a7",
   "metadata": {},
   "outputs": [
    {
     "data": {
      "text/plain": [
       "float"
      ]
     },
     "execution_count": 5,
     "metadata": {},
     "output_type": "execute_result"
    }
   ],
   "source": [
    "type(1.5) "
   ]
  },
  {
   "cell_type": "markdown",
   "id": "cb7d3aad",
   "metadata": {},
   "source": [
    "I numeri decimali, a differenza dei numeri interi, sono trattati in maniera diversa (cambia anche il tipo).\n",
    "Il numero decimale, infatti, non è una classe che rappresenta un float, ma è un tipo di dato puramente primitivo e quindi ha limiti di memoria per poter essere rappresentato (dipende dalla particolare configurazione di pyhton che si possiede).\n"
   ]
  },
  {
   "cell_type": "code",
   "execution_count": 14,
   "id": "c419f103",
   "metadata": {},
   "outputs": [
    {
     "name": "stdout",
     "output_type": "stream",
     "text": [
      "1 16 22 10\n",
      "64\n",
      "11\n"
     ]
    }
   ],
   "source": [
    "#\"0x\" indica una codifica esadecimale (quindi si può usare per convertire in base 10 numeri esadecimali)\n",
    "a = 0x1\n",
    "b = 0x10\n",
    "c = 0x16\n",
    "d = 0xa\n",
    "print(a,b,c,d)\n",
    "\n",
    "#\"0b\" indica una codifica binaria (quindi si può usare per convertire in base 10 numeri binari)\n",
    "e = 0b1000000\n",
    "print(e)\n",
    "\n",
    "#\"0o\" indica una codifica in base 8 (quindi trasforma il numero in base 10 dalla base 8)\n",
    "f = 0o13\n",
    "print(f)"
   ]
  },
  {
   "cell_type": "markdown",
   "id": "ea38228d",
   "metadata": {},
   "source": [
    "Python supporta nativamente i numeri complessi"
   ]
  },
  {
   "cell_type": "code",
   "execution_count": 39,
   "id": "4e891dc1",
   "metadata": {},
   "outputs": [
    {
     "name": "stdout",
     "output_type": "stream",
     "text": [
      "1j <class 'complex'>\n",
      "(2+1j) <class 'complex'>\n",
      "Parte reale:  2.0 Parte immaginaria:  1.0\n",
      "(1+5j)\n",
      "(2+11j)\n",
      "<class 'int'>\n",
      "(6.123233995736766e-17+1j) <class 'complex'>\n"
     ]
    }
   ],
   "source": [
    "c = 1j #l'unità complessa si indica con \"j\"\n",
    "print(c , type(c))\n",
    "d = 2 + 1j\n",
    "print(d, type(d))\n",
    "\n",
    "Re_d = d.real #parte reale di d\n",
    "Im_d = d.imag #parte complessa di d\n",
    "\n",
    "print('Parte reale: ', Re_d, 'Parte immaginaria: ', Im_d)\n",
    "\n",
    "c_2 = -1 + 4j\n",
    "\n",
    "print(d+c_2)\n",
    "print(d**3)\n",
    "\n",
    "print(type(-1))\n",
    "print((-1)**(0.5), type((-1)**(0.5)))\n"
   ]
  },
  {
   "cell_type": "markdown",
   "id": "3852ac4f",
   "metadata": {},
   "source": [
    "# True, False, None"
   ]
  },
  {
   "cell_type": "code",
   "execution_count": 35,
   "id": "3feef7b3",
   "metadata": {},
   "outputs": [
    {
     "data": {
      "text/plain": [
       "[24, 27, 30, 33, 36, 39, 42, 45, 48, 51]"
      ]
     },
     "execution_count": 35,
     "metadata": {},
     "output_type": "execute_result"
    }
   ],
   "source": [
    "[n for n in range(23,52) if n%3 == 0 ]"
   ]
  },
  {
   "cell_type": "code",
   "execution_count": 36,
   "id": "b30b6098",
   "metadata": {},
   "outputs": [
    {
     "data": {
      "text/plain": [
       "[24, -27, 30, -33, 36, -39, 42, -45, 48, -51]"
      ]
     },
     "execution_count": 36,
     "metadata": {},
     "output_type": "execute_result"
    }
   ],
   "source": [
    "[(n if n%2 == 0 else -n)for n in range(23,52) if n%3 == 0]"
   ]
  },
  {
   "cell_type": "markdown",
   "id": "311fdefd",
   "metadata": {},
   "source": [
    "In python è possibile salvare i valori booleani (true/false) direttamente."
   ]
  },
  {
   "cell_type": "code",
   "execution_count": 43,
   "id": "8991a226",
   "metadata": {},
   "outputs": [
    {
     "name": "stdout",
     "output_type": "stream",
     "text": [
      "a= True b= False\n"
     ]
    }
   ],
   "source": [
    "a = True\n",
    "b = False\n",
    "print('a=',a,'b=',b)"
   ]
  },
  {
   "cell_type": "markdown",
   "id": "f6218f86",
   "metadata": {},
   "source": [
    "In alcuni casi la computazione porta ad avere dei valori mancanti; in alcuni casi è quindi possibile usare il valore \"None\" per indicare l'assenza di un valore."
   ]
  },
  {
   "cell_type": "code",
   "execution_count": 48,
   "id": "fb37a67a",
   "metadata": {},
   "outputs": [
    {
     "name": "stdout",
     "output_type": "stream",
     "text": [
      "Non è supportata l'operazione di moltiplicazione tra un intero e un NoneType\n"
     ]
    }
   ],
   "source": [
    "a = 10\n",
    "b = 0\n",
    "try:\n",
    "    c = a/b\n",
    "except:\n",
    "    c = None\n",
    "    \n",
    "    \n",
    "try:\n",
    "    a*c\n",
    "except:\n",
    "    print(\"Non è supportata l'operazione di moltiplicazione tra un intero e un NoneType\")"
   ]
  },
  {
   "cell_type": "code",
   "execution_count": null,
   "id": "f35dac46",
   "metadata": {},
   "outputs": [],
   "source": []
  }
 ],
 "metadata": {
  "kernelspec": {
   "display_name": "Python 3 (ipykernel)",
   "language": "python",
   "name": "python3"
  },
  "language_info": {
   "codemirror_mode": {
    "name": "ipython",
    "version": 3
   },
   "file_extension": ".py",
   "mimetype": "text/x-python",
   "name": "python",
   "nbconvert_exporter": "python",
   "pygments_lexer": "ipython3",
   "version": "3.10.7"
  }
 },
 "nbformat": 4,
 "nbformat_minor": 5
}
