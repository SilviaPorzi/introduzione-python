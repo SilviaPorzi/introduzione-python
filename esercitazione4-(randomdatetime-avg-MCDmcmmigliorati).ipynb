{
 "cells": [
  {
   "cell_type": "markdown",
   "id": "6a750819",
   "metadata": {},
   "source": [
    "## Esercizio 1\n",
    "Creare una funzione che restituisca una data random dati in ingresso gli anni\n",
    "\n",
    "26 $\\rightarrow$  29/09/1995 al 28/09/1996"
   ]
  },
  {
   "cell_type": "code",
   "execution_count": 14,
   "id": "5bd44dc4",
   "metadata": {},
   "outputs": [],
   "source": [
    "import random\n",
    "#help(random)\n",
    "#help(datetime.date.month)"
   ]
  },
  {
   "cell_type": "code",
   "execution_count": 15,
   "id": "6db8febb",
   "metadata": {},
   "outputs": [],
   "source": [
    "import calendar\n",
    "import random\n",
    "import datetime\n",
    "\n",
    "def random_data(anni):\n",
    "    \n",
    "    rnd_giorno = random.randint(1, 365)\n",
    "    rnd_mese = random.randint(1, 12)\n",
    "    \n",
    "    if rnd_mese < datetime.date.today().month:\n",
    "        \n",
    "            anno = datetime.date.today().year - anni\n",
    "            mese = random.randint(1, datetime.date.today().month)\n",
    "            giorno = random.randint(1, datetime.date.today().day-1)\n",
    "            \n",
    "    elif rnd_mese == datetime.date.today().month:\n",
    "        \n",
    "        if rnd_giorno > datetime.date.today().day:\n",
    "            anno = datetime.date.today().year - anni -1\n",
    "            mese = random.randint(datetime.date.today().month, 12)\n",
    "            ultimo_giorno = calendar.monthrange(anno, mese)[1]\n",
    "            giorno = random.randint(datetime.date.today().day, ultimo_giorno)\n",
    "    else:\n",
    "        anno = datetime.date.today().year - anni -1\n",
    "        mese = random.randint(rnd_mese, 12)\n",
    "        ultimo_giorno = calendar.monthrange(anno, mese)[1]\n",
    "        giorno = random.randint(1, ultimo_giorno)\n",
    "            \n",
    "    return datetime.date(anno, mese, giorno)"
   ]
  },
  {
   "cell_type": "markdown",
   "id": "9fb119b4",
   "metadata": {},
   "source": [
    "## Esercizio 2\n",
    "Data una lista di 10 nomi e 10 cognomi, creare 10 istanze di Utente inizializzate con date di nascita random in modo tale che gli utenti abbiano un'età compresa tra 15 e 20 anni"
   ]
  },
  {
   "cell_type": "code",
   "execution_count": 18,
   "id": "5e712572",
   "metadata": {
    "scrolled": true
   },
   "outputs": [
    {
     "name": "stdout",
     "output_type": "stream",
     "text": [
      "Ginevra Verdi età: 20 anni.\n",
      "Martina Rossi età: 19 anni.\n",
      "Aldo Bianchi età: 15 anni.\n",
      "Silvia Blui età: 20 anni.\n",
      "Giacomo Gialli età: 20 anni.\n",
      "Enrico Neri età: 18 anni.\n",
      "Eugenia Azzurri età: 20 anni.\n",
      "Francesco Arancioni età: 19 anni.\n",
      "Nicola Marroni età: 17 anni.\n",
      "Mark Grigi età: 20 anni.\n"
     ]
    }
   ],
   "source": [
    "nomi=['Ginevra', 'Martina', 'Aldo', 'Silvia', 'Giacomo', 'Enrico', 'Eugenia', 'Francesco', 'Nicola', 'Mark']\n",
    "cognomi= ['Verdi', 'Rossi', 'Bianchi', 'Blui', 'Gialli', 'Neri', 'Azzurri', 'Arancioni', 'Marroni', 'Grigi']\n",
    "anni = random.randint(15,20)\n",
    "\n",
    "utenti = []\n",
    "for nome, cognome in zip(nomi, cognomi):\n",
    "    anni = random.randint(15,20)\n",
    "    data = random_data(anni)\n",
    "    utenti.append(Utente(nome, cognome, data))\n",
    "\n",
    "for i in utenti:\n",
    "    print(i)"
   ]
  },
  {
   "cell_type": "code",
   "execution_count": 19,
   "id": "92a845e7",
   "metadata": {},
   "outputs": [
    {
     "name": "stdout",
     "output_type": "stream",
     "text": [
      "Ginevra Verdi età: 20 anni.\n",
      "Martina Rossi età: 18 anni.\n",
      "Aldo Bianchi età: 16 anni.\n",
      "Silvia Blui età: 18 anni.\n",
      "Giacomo Gialli età: 20 anni.\n",
      "Enrico Neri età: 15 anni.\n",
      "Eugenia Azzurri età: 17 anni.\n",
      "Francesco Arancioni età: 18 anni.\n",
      "Nicola Marroni età: 17 anni.\n",
      "Mark Grigi età: 19 anni.\n"
     ]
    }
   ],
   "source": [
    "utenti_evolution = [\n",
    "    Utente(nome, cognome, random_data(random.randint(15,20)))\n",
    "    for nome, cognome in zip(nomi, cognomi)    \n",
    "]\n",
    "\n",
    "for i in utenti_evolution:\n",
    "    print(i)"
   ]
  },
  {
   "cell_type": "markdown",
   "id": "36bbfc12",
   "metadata": {},
   "source": [
    "## Esercizio 3\n",
    "Calcolare la media dell'età"
   ]
  },
  {
   "cell_type": "code",
   "execution_count": 20,
   "id": "8562bca9",
   "metadata": {},
   "outputs": [
    {
     "data": {
      "text/plain": [
       "18.8"
      ]
     },
     "execution_count": 20,
     "metadata": {},
     "output_type": "execute_result"
    }
   ],
   "source": [
    "avg = lambda numeri : sum(numeri)/len(numeri)\n",
    "avg([u.get_anni() for u in utenti])"
   ]
  },
  {
   "cell_type": "markdown",
   "id": "303fd7a7",
   "metadata": {},
   "source": [
    "## Esercizio 4\n",
    "Scrivere una funzione generalizzata per mcm e MCD"
   ]
  },
  {
   "cell_type": "code",
   "execution_count": null,
   "id": "f833f52b",
   "metadata": {},
   "outputs": [],
   "source": []
  },
  {
   "cell_type": "code",
   "execution_count": 37,
   "id": "8b7ca44e",
   "metadata": {},
   "outputs": [],
   "source": [
    "def is_primo(n):  \n",
    "    return [x for x in range(2,n) if n%x==0]==[]\n",
    "\n",
    "\n",
    "\n",
    "def genera_primi(n):  \n",
    "    return [x for x in range(2,n) if is_primo(x)]\n",
    "\n",
    "\n",
    "\n",
    "def fattori(n):\n",
    "    fattori=genera_primi(n)  \n",
    "    if is_primo(n):\n",
    "        return [[n,1]]\n",
    "    res=[]  \n",
    "    resto=n\n",
    "    for f in fattori:  \n",
    "        temp=[f,0]\n",
    "        while resto%f==0:\n",
    "            resto=resto/f\n",
    "            temp=[f,temp[1]+1]\n",
    "        if temp[1]!=0:\n",
    "            res.append(temp)   \n",
    "    return res  "
   ]
  },
  {
   "cell_type": "code",
   "execution_count": 39,
   "id": "7f937fee",
   "metadata": {},
   "outputs": [
    {
     "name": "stdout",
     "output_type": "stream",
     "text": [
      "MCD è 1 e mcm è 1547\n"
     ]
    }
   ],
   "source": [
    "def mcd_mcm(*numeri):  \n",
    "    \n",
    "    divisori=[]  \n",
    "    divisori_comune=[]\n",
    "    \n",
    "    for num in numeri:\n",
    "        divisori.append([n for n in range(1,num+1) if num%n==0])  \n",
    "        \n",
    "    divisori_comuni=set(divisori[0])\n",
    "    for i in range(len(divisori)-1):\n",
    "        divisori_comuni=divisori_comuni&set(divisori[i+1])\n",
    "    mcd=max(divisori_comuni)  \n",
    "    \n",
    "    fattori_comuni={}\n",
    "    for num in numeri:  \n",
    "        #print(fattori(num))\n",
    "        fs={f[0]:f[1] for f in fattori(num)}\n",
    "        for f,e in fs.items():\n",
    "            if f not in fattori_comuni.keys() or e> fattori_comuni[f] :  \n",
    "                fattori_comuni[f]=e\n",
    "    mcm=1\n",
    "    for f,e in fattori_comuni.items():  \n",
    "        mcm*=(f**e)\n",
    "        \n",
    "    return mcd,mcm\n",
    "\n",
    "\n",
    "\n",
    "mcd,mcm=mcd_mcm(13,17,91)\n",
    "print(f'MCD è {mcd} e mcm è {mcm}')"
   ]
  },
  {
   "cell_type": "markdown",
   "id": "701ca748",
   "metadata": {},
   "source": [
    "## Esercizio sulle Classi\n",
    "\n",
    "creare lo scheletro (il model) per le seguenti entità nel contesto di un social network:\n",
    "- utente\n",
    "- amministratore\n",
    "- post\n",
    "- edit di un post\n",
    "- like\n",
    "- commento\n",
    "- edit di un commento\n",
    "descrivere le classi, stilare i possibili attributi, identificare le relazioni tra le classi.\n",
    "successivamente codificate il model in linguaggio python"
   ]
  },
  {
   "cell_type": "code",
   "execution_count": null,
   "id": "39c20e3b",
   "metadata": {},
   "outputs": [],
   "source": []
  }
 ],
 "metadata": {
  "kernelspec": {
   "display_name": "Python 3 (ipykernel)",
   "language": "python",
   "name": "python3"
  },
  "language_info": {
   "codemirror_mode": {
    "name": "ipython",
    "version": 3
   },
   "file_extension": ".py",
   "mimetype": "text/x-python",
   "name": "python",
   "nbconvert_exporter": "python",
   "pygments_lexer": "ipython3",
   "version": "3.10.7"
  }
 },
 "nbformat": 4,
 "nbformat_minor": 5
}
