{
 "cells": [
  {
   "cell_type": "markdown",
   "id": "3856eab3",
   "metadata": {},
   "source": [
    "# Esercizio 01\n",
    "Data una stringa “s” contare il numero di doppie presenti:\n",
    "\n",
    "ESEMPIO:\n",
    "\n",
    "s = “aeiou” $\\rightarrow$ 0\n",
    "\n",
    "s = “tutto” $\\rightarrow$ 1\n",
    "\n",
    "s = “ttatt” $\\rightarrow$ 2\n"
   ]
  },
  {
   "cell_type": "code",
   "execution_count": 3,
   "id": "1efe174b",
   "metadata": {},
   "outputs": [
    {
     "data": {
      "text/plain": [
       "[(0, 't'), (1, 't'), (2, 'a'), (3, 't'), (4, 't')]"
      ]
     },
     "execution_count": 3,
     "metadata": {},
     "output_type": "execute_result"
    }
   ],
   "source": [
    "s='ttatt'\n",
    "list(enumerate(s))"
   ]
  },
  {
   "cell_type": "code",
   "execution_count": 24,
   "id": "0f0cb406",
   "metadata": {},
   "outputs": [
    {
     "name": "stdout",
     "output_type": "stream",
     "text": [
      "2\n"
     ]
    }
   ],
   "source": [
    "s='ttatt'\n",
    "conta=0    \n",
    "for i, lettera in enumerate(s[:-1]): #enumerate restituisce sempre una coppia\n",
    "    if lettera == s[i+1]:\n",
    "        conta += 1        \n",
    "\n",
    "print(conta)\n"
   ]
  },
  {
   "cell_type": "markdown",
   "id": "0fe762d5",
   "metadata": {},
   "source": [
    "# Esercizio 02\n",
    "1) Creare un dizionario con le seguenti entries:\n",
    "\n",
    "    “cane”: “domestico”\n",
    "\n",
    "    “gatto”: “domestico”\n",
    "\n",
    "    “leopardo”: “selvatico”\n",
    "\n",
    "    “zebra”:selvatico”\n",
    "\n",
    "\n",
    "2) Creare una struttura che rovescia il dizionario e che risulti in un nuovo dizionario con i seguenti elementi:\n",
    "\n",
    "    “domestico”: [“cane”, “gatto”]\n",
    "\n",
    "    “selvatico”: [“leopardo”, “zebra”]\n"
   ]
  },
  {
   "cell_type": "code",
   "execution_count": 26,
   "id": "35f3c187",
   "metadata": {},
   "outputs": [
    {
     "name": "stdout",
     "output_type": "stream",
     "text": [
      "{'cane': 'domestico', 'gatto': 'domestico', 'leopardo': 'selvatico', 'zebra': 'selvatico'}\n",
      "{'domestico': ['cane', 'gatto'], 'selvatico': ['leopardo', 'zebra']}\n"
     ]
    }
   ],
   "source": [
    "animali = {\n",
    "    'cane':'domestico',\n",
    "    'gatto':'domestico',\n",
    "    'leopardo':'selvatico',\n",
    "    'zebra':'selvatico'  \n",
    "}\n",
    "print(animali)\n",
    "#print(dizio.items(), type(dizio.items()))\n",
    "\n",
    "animali.keys() \n",
    "\n",
    "animali_inv = {}\n",
    "for key , value in animali.items():\n",
    "    if value not in animali_inv:\n",
    "        animali_inv[value] = [key] #così abbiamo fatto sì che sia una lista\n",
    "    else:\n",
    "        animali_inv[value].append(key)\n",
    "        \n",
    "print(animali_inv)\n",
    "        \n",
    "        "
   ]
  },
  {
   "cell_type": "markdown",
   "id": "7623556a",
   "metadata": {},
   "source": [
    "# Esercizio 03\n",
    "\n",
    "Dato l’elenco città sotto forma di dizionario uguale a quello che abbiamo visto nell’esercizio:\n",
    "elenco_citta = dict()\n",
    "\n",
    "\n",
    "1) Utilizza come identificativo la chiave per salvare il valore\n",
    "    elenco_citta['Roma'] = 'Francia'\n",
    "\n",
    "2) Sovrascrivendo il valore corrispondente ad una chiave esistente verrà effettuata la sostituzione\n",
    "    elenco_citta['Roma'] = 'Italia'\n",
    "    elenco_citta['Napoli'] = 'Italia'\n",
    "    elenco_citta['Barcelona'] = 'Spagna'\n",
    "    print(elenco_citta)\n",
    "\n",
    "3) Creare una lista dei soli nomi dei PAESI corrispondenti alle città che contengono la lettera “R” sia minuscola che maiuscola in modo tale che le lettere dei paesi siano invertite e che la prima lettera del paese sia maiuscola (mentre tutte le altre minuscole).\n",
    "\n",
    "    SOLUZIONI:\n",
    "    R è in Roma ed in Barcelona\n",
    "    \n",
    "    lista dei paesi: [Italia, Spagna]\n",
    "    \n",
    "    invertiamo le stringhe\n",
    "        [ailatI, angapS]\n",
    "        \n",
    "    mettiamo a posto i caratteri maiuscoli e minuscoli come richiesto\n",
    "        [Ailati, Angaps]\n"
   ]
  },
  {
   "cell_type": "code",
   "execution_count": 29,
   "id": "e8facbe1",
   "metadata": {},
   "outputs": [
    {
     "name": "stdout",
     "output_type": "stream",
     "text": [
      "{'Roma': 'Francia', 'Napoli': 'Italia', 'Barcelona': 'Spagna'}\n",
      "{'Roma': 'Italia', 'Napoli': 'Italia', 'Barcelona': 'Spagna'}\n",
      "['Ailati', 'Angaps']\n"
     ]
    }
   ],
   "source": [
    "elenco_citta = dict() \n",
    "\n",
    "elenco_citta = {\n",
    "    'Roma' : 'Francia',\n",
    "    'Napoli' : 'Italia',\n",
    "    'Barcelona' : 'Spagna'\n",
    "}\n",
    "\n",
    "print(elenco_citta)\n",
    "\n",
    "elenco_citta['Roma'] = 'Italia'\n",
    "elenco_citta['Napoli'] = 'Italia'\n",
    "elenco_citta['Barcelona'] = 'Spagna'\n",
    "print(elenco_citta)\n",
    "\n",
    "lista = []\n",
    "for citta, paese in elenco_citta.items():\n",
    "    if 'r' in citta.lower():\n",
    "        paese = paese.lower()\n",
    "        paese_invertito = paese[::-1] #da 0 alla fine andando all'indietro\n",
    "        paese_invertito = paese_invertito.capitalize() #metto maiuscola alla prima lettera della parola invertiva\n",
    "        lista.append(paese_invertito)\n",
    "        \n",
    "print(lista)\n",
    "\n"
   ]
  },
  {
   "cell_type": "code",
   "execution_count": null,
   "id": "d55fd5c7",
   "metadata": {},
   "outputs": [],
   "source": []
  }
 ],
 "metadata": {
  "kernelspec": {
   "display_name": "Python 3 (ipykernel)",
   "language": "python",
   "name": "python3"
  },
  "language_info": {
   "codemirror_mode": {
    "name": "ipython",
    "version": 3
   },
   "file_extension": ".py",
   "mimetype": "text/x-python",
   "name": "python",
   "nbconvert_exporter": "python",
   "pygments_lexer": "ipython3",
   "version": "3.10.7"
  }
 },
 "nbformat": 4,
 "nbformat_minor": 5
}
