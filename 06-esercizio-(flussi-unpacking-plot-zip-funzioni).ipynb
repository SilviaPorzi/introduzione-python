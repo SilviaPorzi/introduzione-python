{
 "cells": [
  {
   "cell_type": "markdown",
   "id": "5be8fc2f",
   "metadata": {},
   "source": [
    "In questa esercitazione, verà importata una libreria di sistema per la gestione di numeri casuali. \n",
    "Verranno anche introdotti i principali costrutti per la gestione dei flussi."
   ]
  },
  {
   "cell_type": "markdown",
   "id": "be18ee64",
   "metadata": {},
   "source": [
    "## Random\n"
   ]
  },
  {
   "cell_type": "code",
   "execution_count": 2,
   "id": "78bc8fda",
   "metadata": {},
   "outputs": [],
   "source": [
    "import random #libreria di sistema per i numeri casuali"
   ]
  },
  {
   "cell_type": "code",
   "execution_count": 2,
   "id": "fdb39943",
   "metadata": {},
   "outputs": [
    {
     "name": "stdout",
     "output_type": "stream",
     "text": [
      "Help on module random:\n",
      "\n",
      "NAME\n",
      "    random - Random variable generators.\n",
      "\n",
      "MODULE REFERENCE\n",
      "    https://docs.python.org/3.10/library/random.html\n",
      "    \n",
      "    The following documentation is automatically generated from the Python\n",
      "    source files.  It may be incomplete, incorrect or include features that\n",
      "    are considered implementation detail and may vary between Python\n",
      "    implementations.  When in doubt, consult the module reference at the\n",
      "    location listed above.\n",
      "\n",
      "DESCRIPTION\n",
      "        bytes\n",
      "        -----\n",
      "               uniform bytes (values between 0 and 255)\n",
      "    \n",
      "        integers\n",
      "        --------\n",
      "               uniform within range\n",
      "    \n",
      "        sequences\n",
      "        ---------\n",
      "               pick random element\n",
      "               pick random sample\n",
      "               pick weighted random sample\n",
      "               generate random permutation\n",
      "    \n",
      "        distributions on the real line:\n",
      "        ------------------------------\n",
      "               uniform\n",
      "               triangular\n",
      "               normal (Gaussian)\n",
      "               lognormal\n",
      "               negative exponential\n",
      "               gamma\n",
      "               beta\n",
      "               pareto\n",
      "               Weibull\n",
      "    \n",
      "        distributions on the circle (angles 0 to 2pi)\n",
      "        ---------------------------------------------\n",
      "               circular uniform\n",
      "               von Mises\n",
      "    \n",
      "    General notes on the underlying Mersenne Twister core generator:\n",
      "    \n",
      "    * The period is 2**19937-1.\n",
      "    * It is one of the most extensively tested generators in existence.\n",
      "    * The random() method is implemented in C, executes in a single Python step,\n",
      "      and is, therefore, threadsafe.\n",
      "\n",
      "CLASSES\n",
      "    _random.Random(builtins.object)\n",
      "        Random\n",
      "            SystemRandom\n",
      "    \n",
      "    class Random(_random.Random)\n",
      "     |  Random(x=None)\n",
      "     |  \n",
      "     |  Random number generator base class used by bound module functions.\n",
      "     |  \n",
      "     |  Used to instantiate instances of Random to get generators that don't\n",
      "     |  share state.\n",
      "     |  \n",
      "     |  Class Random can also be subclassed if you want to use a different basic\n",
      "     |  generator of your own devising: in that case, override the following\n",
      "     |  methods:  random(), seed(), getstate(), and setstate().\n",
      "     |  Optionally, implement a getrandbits() method so that randrange()\n",
      "     |  can cover arbitrarily large ranges.\n",
      "     |  \n",
      "     |  Method resolution order:\n",
      "     |      Random\n",
      "     |      _random.Random\n",
      "     |      builtins.object\n",
      "     |  \n",
      "     |  Methods defined here:\n",
      "     |  \n",
      "     |  __getstate__(self)\n",
      "     |      # Issue 17489: Since __reduce__ was defined to fix #759889 this is no\n",
      "     |      # longer called; we leave it here because it has been here since random was\n",
      "     |      # rewritten back in 2001 and why risk breaking something.\n",
      "     |  \n",
      "     |  __init__(self, x=None)\n",
      "     |      Initialize an instance.\n",
      "     |      \n",
      "     |      Optional argument x controls seeding, as for Random.seed().\n",
      "     |  \n",
      "     |  __reduce__(self)\n",
      "     |      Helper for pickle.\n",
      "     |  \n",
      "     |  __setstate__(self, state)\n",
      "     |  \n",
      "     |  betavariate(self, alpha, beta)\n",
      "     |      Beta distribution.\n",
      "     |      \n",
      "     |      Conditions on the parameters are alpha > 0 and beta > 0.\n",
      "     |      Returned values range between 0 and 1.\n",
      "     |  \n",
      "     |  choice(self, seq)\n",
      "     |      Choose a random element from a non-empty sequence.\n",
      "     |  \n",
      "     |  choices(self, population, weights=None, *, cum_weights=None, k=1)\n",
      "     |      Return a k sized list of population elements chosen with replacement.\n",
      "     |      \n",
      "     |      If the relative weights or cumulative weights are not specified,\n",
      "     |      the selections are made with equal probability.\n",
      "     |  \n",
      "     |  expovariate(self, lambd)\n",
      "     |      Exponential distribution.\n",
      "     |      \n",
      "     |      lambd is 1.0 divided by the desired mean.  It should be\n",
      "     |      nonzero.  (The parameter would be called \"lambda\", but that is\n",
      "     |      a reserved word in Python.)  Returned values range from 0 to\n",
      "     |      positive infinity if lambd is positive, and from negative\n",
      "     |      infinity to 0 if lambd is negative.\n",
      "     |  \n",
      "     |  gammavariate(self, alpha, beta)\n",
      "     |      Gamma distribution.  Not the gamma function!\n",
      "     |      \n",
      "     |      Conditions on the parameters are alpha > 0 and beta > 0.\n",
      "     |      \n",
      "     |      The probability distribution function is:\n",
      "     |      \n",
      "     |                  x ** (alpha - 1) * math.exp(-x / beta)\n",
      "     |        pdf(x) =  --------------------------------------\n",
      "     |                    math.gamma(alpha) * beta ** alpha\n",
      "     |  \n",
      "     |  gauss(self, mu, sigma)\n",
      "     |      Gaussian distribution.\n",
      "     |      \n",
      "     |      mu is the mean, and sigma is the standard deviation.  This is\n",
      "     |      slightly faster than the normalvariate() function.\n",
      "     |      \n",
      "     |      Not thread-safe without a lock around calls.\n",
      "     |  \n",
      "     |  getstate(self)\n",
      "     |      Return internal state; can be passed to setstate() later.\n",
      "     |  \n",
      "     |  lognormvariate(self, mu, sigma)\n",
      "     |      Log normal distribution.\n",
      "     |      \n",
      "     |      If you take the natural logarithm of this distribution, you'll get a\n",
      "     |      normal distribution with mean mu and standard deviation sigma.\n",
      "     |      mu can have any value, and sigma must be greater than zero.\n",
      "     |  \n",
      "     |  normalvariate(self, mu, sigma)\n",
      "     |      Normal distribution.\n",
      "     |      \n",
      "     |      mu is the mean, and sigma is the standard deviation.\n",
      "     |  \n",
      "     |  paretovariate(self, alpha)\n",
      "     |      Pareto distribution.  alpha is the shape parameter.\n",
      "     |  \n",
      "     |  randbytes(self, n)\n",
      "     |      Generate n random bytes.\n",
      "     |  \n",
      "     |  randint(self, a, b)\n",
      "     |      Return random integer in range [a, b], including both end points.\n",
      "     |  \n",
      "     |  randrange(self, start, stop=None, step=1)\n",
      "     |      Choose a random item from range(start, stop[, step]).\n",
      "     |      \n",
      "     |      This fixes the problem with randint() which includes the\n",
      "     |      endpoint; in Python this is usually not what you want.\n",
      "     |  \n",
      "     |  sample(self, population, k, *, counts=None)\n",
      "     |      Chooses k unique random elements from a population sequence or set.\n",
      "     |      \n",
      "     |      Returns a new list containing elements from the population while\n",
      "     |      leaving the original population unchanged.  The resulting list is\n",
      "     |      in selection order so that all sub-slices will also be valid random\n",
      "     |      samples.  This allows raffle winners (the sample) to be partitioned\n",
      "     |      into grand prize and second place winners (the subslices).\n",
      "     |      \n",
      "     |      Members of the population need not be hashable or unique.  If the\n",
      "     |      population contains repeats, then each occurrence is a possible\n",
      "     |      selection in the sample.\n",
      "     |      \n",
      "     |      Repeated elements can be specified one at a time or with the optional\n",
      "     |      counts parameter.  For example:\n",
      "     |      \n",
      "     |          sample(['red', 'blue'], counts=[4, 2], k=5)\n",
      "     |      \n",
      "     |      is equivalent to:\n",
      "     |      \n",
      "     |          sample(['red', 'red', 'red', 'red', 'blue', 'blue'], k=5)\n",
      "     |      \n",
      "     |      To choose a sample from a range of integers, use range() for the\n",
      "     |      population argument.  This is especially fast and space efficient\n",
      "     |      for sampling from a large population:\n",
      "     |      \n",
      "     |          sample(range(10000000), 60)\n",
      "     |  \n",
      "     |  seed(self, a=None, version=2)\n",
      "     |      Initialize internal state from a seed.\n",
      "     |      \n",
      "     |      The only supported seed types are None, int, float,\n",
      "     |      str, bytes, and bytearray.\n",
      "     |      \n",
      "     |      None or no argument seeds from current time or from an operating\n",
      "     |      system specific randomness source if available.\n",
      "     |      \n",
      "     |      If *a* is an int, all bits are used.\n",
      "     |      \n",
      "     |      For version 2 (the default), all of the bits are used if *a* is a str,\n",
      "     |      bytes, or bytearray.  For version 1 (provided for reproducing random\n",
      "     |      sequences from older versions of Python), the algorithm for str and\n",
      "     |      bytes generates a narrower range of seeds.\n",
      "     |  \n",
      "     |  setstate(self, state)\n",
      "     |      Restore internal state from object returned by getstate().\n",
      "     |  \n",
      "     |  shuffle(self, x, random=None)\n",
      "     |      Shuffle list x in place, and return None.\n",
      "     |      \n",
      "     |      Optional argument random is a 0-argument function returning a\n",
      "     |      random float in [0.0, 1.0); if it is the default None, the\n",
      "     |      standard random.random will be used.\n",
      "     |  \n",
      "     |  triangular(self, low=0.0, high=1.0, mode=None)\n",
      "     |      Triangular distribution.\n",
      "     |      \n",
      "     |      Continuous distribution bounded by given lower and upper limits,\n",
      "     |      and having a given mode value in-between.\n",
      "     |      \n",
      "     |      http://en.wikipedia.org/wiki/Triangular_distribution\n",
      "     |  \n",
      "     |  uniform(self, a, b)\n",
      "     |      Get a random number in the range [a, b) or [a, b] depending on rounding.\n",
      "     |  \n",
      "     |  vonmisesvariate(self, mu, kappa)\n",
      "     |      Circular data distribution.\n",
      "     |      \n",
      "     |      mu is the mean angle, expressed in radians between 0 and 2*pi, and\n",
      "     |      kappa is the concentration parameter, which must be greater than or\n",
      "     |      equal to zero.  If kappa is equal to zero, this distribution reduces\n",
      "     |      to a uniform random angle over the range 0 to 2*pi.\n",
      "     |  \n",
      "     |  weibullvariate(self, alpha, beta)\n",
      "     |      Weibull distribution.\n",
      "     |      \n",
      "     |      alpha is the scale parameter and beta is the shape parameter.\n",
      "     |  \n",
      "     |  ----------------------------------------------------------------------\n",
      "     |  Class methods defined here:\n",
      "     |  \n",
      "     |  __init_subclass__(**kwargs) from builtins.type\n",
      "     |      Control how subclasses generate random integers.\n",
      "     |      \n",
      "     |      The algorithm a subclass can use depends on the random() and/or\n",
      "     |      getrandbits() implementation available to it and determines\n",
      "     |      whether it can generate random integers from arbitrarily large\n",
      "     |      ranges.\n",
      "     |  \n",
      "     |  ----------------------------------------------------------------------\n",
      "     |  Data descriptors defined here:\n",
      "     |  \n",
      "     |  __dict__\n",
      "     |      dictionary for instance variables (if defined)\n",
      "     |  \n",
      "     |  __weakref__\n",
      "     |      list of weak references to the object (if defined)\n",
      "     |  \n",
      "     |  ----------------------------------------------------------------------\n",
      "     |  Data and other attributes defined here:\n",
      "     |  \n",
      "     |  VERSION = 3\n",
      "     |  \n",
      "     |  ----------------------------------------------------------------------\n",
      "     |  Methods inherited from _random.Random:\n",
      "     |  \n",
      "     |  getrandbits(self, k, /)\n",
      "     |      getrandbits(k) -> x.  Generates an int with k random bits.\n",
      "     |  \n",
      "     |  random(self, /)\n",
      "     |      random() -> x in the interval [0, 1).\n",
      "     |  \n",
      "     |  ----------------------------------------------------------------------\n",
      "     |  Static methods inherited from _random.Random:\n",
      "     |  \n",
      "     |  __new__(*args, **kwargs) from builtins.type\n",
      "     |      Create and return a new object.  See help(type) for accurate signature.\n",
      "    \n",
      "    class SystemRandom(Random)\n",
      "     |  SystemRandom(x=None)\n",
      "     |  \n",
      "     |  Alternate random number generator using sources provided\n",
      "     |  by the operating system (such as /dev/urandom on Unix or\n",
      "     |  CryptGenRandom on Windows).\n",
      "     |  \n",
      "     |   Not available on all systems (see os.urandom() for details).\n",
      "     |  \n",
      "     |  Method resolution order:\n",
      "     |      SystemRandom\n",
      "     |      Random\n",
      "     |      _random.Random\n",
      "     |      builtins.object\n",
      "     |  \n",
      "     |  Methods defined here:\n",
      "     |  \n",
      "     |  getrandbits(self, k)\n",
      "     |      getrandbits(k) -> x.  Generates an int with k random bits.\n",
      "     |  \n",
      "     |  getstate = _notimplemented(self, *args, **kwds)\n",
      "     |  \n",
      "     |  randbytes(self, n)\n",
      "     |      Generate n random bytes.\n",
      "     |  \n",
      "     |  random(self)\n",
      "     |      Get the next random number in the range [0.0, 1.0).\n",
      "     |  \n",
      "     |  seed(self, *args, **kwds)\n",
      "     |      Stub method.  Not used for a system random number generator.\n",
      "     |  \n",
      "     |  setstate = _notimplemented(self, *args, **kwds)\n",
      "     |  \n",
      "     |  ----------------------------------------------------------------------\n",
      "     |  Methods inherited from Random:\n",
      "     |  \n",
      "     |  __getstate__(self)\n",
      "     |      # Issue 17489: Since __reduce__ was defined to fix #759889 this is no\n",
      "     |      # longer called; we leave it here because it has been here since random was\n",
      "     |      # rewritten back in 2001 and why risk breaking something.\n",
      "     |  \n",
      "     |  __init__(self, x=None)\n",
      "     |      Initialize an instance.\n",
      "     |      \n",
      "     |      Optional argument x controls seeding, as for Random.seed().\n",
      "     |  \n",
      "     |  __reduce__(self)\n",
      "     |      Helper for pickle.\n",
      "     |  \n",
      "     |  __setstate__(self, state)\n",
      "     |  \n",
      "     |  betavariate(self, alpha, beta)\n",
      "     |      Beta distribution.\n",
      "     |      \n",
      "     |      Conditions on the parameters are alpha > 0 and beta > 0.\n",
      "     |      Returned values range between 0 and 1.\n",
      "     |  \n",
      "     |  choice(self, seq)\n",
      "     |      Choose a random element from a non-empty sequence.\n",
      "     |  \n",
      "     |  choices(self, population, weights=None, *, cum_weights=None, k=1)\n",
      "     |      Return a k sized list of population elements chosen with replacement.\n",
      "     |      \n",
      "     |      If the relative weights or cumulative weights are not specified,\n",
      "     |      the selections are made with equal probability.\n",
      "     |  \n",
      "     |  expovariate(self, lambd)\n",
      "     |      Exponential distribution.\n",
      "     |      \n",
      "     |      lambd is 1.0 divided by the desired mean.  It should be\n",
      "     |      nonzero.  (The parameter would be called \"lambda\", but that is\n",
      "     |      a reserved word in Python.)  Returned values range from 0 to\n",
      "     |      positive infinity if lambd is positive, and from negative\n",
      "     |      infinity to 0 if lambd is negative.\n",
      "     |  \n",
      "     |  gammavariate(self, alpha, beta)\n",
      "     |      Gamma distribution.  Not the gamma function!\n",
      "     |      \n",
      "     |      Conditions on the parameters are alpha > 0 and beta > 0.\n",
      "     |      \n",
      "     |      The probability distribution function is:\n",
      "     |      \n",
      "     |                  x ** (alpha - 1) * math.exp(-x / beta)\n",
      "     |        pdf(x) =  --------------------------------------\n",
      "     |                    math.gamma(alpha) * beta ** alpha\n",
      "     |  \n",
      "     |  gauss(self, mu, sigma)\n",
      "     |      Gaussian distribution.\n",
      "     |      \n",
      "     |      mu is the mean, and sigma is the standard deviation.  This is\n",
      "     |      slightly faster than the normalvariate() function.\n",
      "     |      \n",
      "     |      Not thread-safe without a lock around calls.\n",
      "     |  \n",
      "     |  lognormvariate(self, mu, sigma)\n",
      "     |      Log normal distribution.\n",
      "     |      \n",
      "     |      If you take the natural logarithm of this distribution, you'll get a\n",
      "     |      normal distribution with mean mu and standard deviation sigma.\n",
      "     |      mu can have any value, and sigma must be greater than zero.\n",
      "     |  \n",
      "     |  normalvariate(self, mu, sigma)\n",
      "     |      Normal distribution.\n",
      "     |      \n",
      "     |      mu is the mean, and sigma is the standard deviation.\n",
      "     |  \n",
      "     |  paretovariate(self, alpha)\n",
      "     |      Pareto distribution.  alpha is the shape parameter.\n",
      "     |  \n",
      "     |  randint(self, a, b)\n",
      "     |      Return random integer in range [a, b], including both end points.\n",
      "     |  \n",
      "     |  randrange(self, start, stop=None, step=1)\n",
      "     |      Choose a random item from range(start, stop[, step]).\n",
      "     |      \n",
      "     |      This fixes the problem with randint() which includes the\n",
      "     |      endpoint; in Python this is usually not what you want.\n",
      "     |  \n",
      "     |  sample(self, population, k, *, counts=None)\n",
      "     |      Chooses k unique random elements from a population sequence or set.\n",
      "     |      \n",
      "     |      Returns a new list containing elements from the population while\n",
      "     |      leaving the original population unchanged.  The resulting list is\n",
      "     |      in selection order so that all sub-slices will also be valid random\n",
      "     |      samples.  This allows raffle winners (the sample) to be partitioned\n",
      "     |      into grand prize and second place winners (the subslices).\n",
      "     |      \n",
      "     |      Members of the population need not be hashable or unique.  If the\n",
      "     |      population contains repeats, then each occurrence is a possible\n",
      "     |      selection in the sample.\n",
      "     |      \n",
      "     |      Repeated elements can be specified one at a time or with the optional\n",
      "     |      counts parameter.  For example:\n",
      "     |      \n",
      "     |          sample(['red', 'blue'], counts=[4, 2], k=5)\n",
      "     |      \n",
      "     |      is equivalent to:\n",
      "     |      \n",
      "     |          sample(['red', 'red', 'red', 'red', 'blue', 'blue'], k=5)\n",
      "     |      \n",
      "     |      To choose a sample from a range of integers, use range() for the\n",
      "     |      population argument.  This is especially fast and space efficient\n",
      "     |      for sampling from a large population:\n",
      "     |      \n",
      "     |          sample(range(10000000), 60)\n",
      "     |  \n",
      "     |  shuffle(self, x, random=None)\n",
      "     |      Shuffle list x in place, and return None.\n",
      "     |      \n",
      "     |      Optional argument random is a 0-argument function returning a\n",
      "     |      random float in [0.0, 1.0); if it is the default None, the\n",
      "     |      standard random.random will be used.\n",
      "     |  \n",
      "     |  triangular(self, low=0.0, high=1.0, mode=None)\n",
      "     |      Triangular distribution.\n",
      "     |      \n",
      "     |      Continuous distribution bounded by given lower and upper limits,\n",
      "     |      and having a given mode value in-between.\n",
      "     |      \n",
      "     |      http://en.wikipedia.org/wiki/Triangular_distribution\n",
      "     |  \n",
      "     |  uniform(self, a, b)\n",
      "     |      Get a random number in the range [a, b) or [a, b] depending on rounding.\n",
      "     |  \n",
      "     |  vonmisesvariate(self, mu, kappa)\n",
      "     |      Circular data distribution.\n",
      "     |      \n",
      "     |      mu is the mean angle, expressed in radians between 0 and 2*pi, and\n",
      "     |      kappa is the concentration parameter, which must be greater than or\n",
      "     |      equal to zero.  If kappa is equal to zero, this distribution reduces\n",
      "     |      to a uniform random angle over the range 0 to 2*pi.\n",
      "     |  \n",
      "     |  weibullvariate(self, alpha, beta)\n",
      "     |      Weibull distribution.\n",
      "     |      \n",
      "     |      alpha is the scale parameter and beta is the shape parameter.\n",
      "     |  \n",
      "     |  ----------------------------------------------------------------------\n",
      "     |  Class methods inherited from Random:\n",
      "     |  \n",
      "     |  __init_subclass__(**kwargs) from builtins.type\n",
      "     |      Control how subclasses generate random integers.\n",
      "     |      \n",
      "     |      The algorithm a subclass can use depends on the random() and/or\n",
      "     |      getrandbits() implementation available to it and determines\n",
      "     |      whether it can generate random integers from arbitrarily large\n",
      "     |      ranges.\n",
      "     |  \n",
      "     |  ----------------------------------------------------------------------\n",
      "     |  Data descriptors inherited from Random:\n",
      "     |  \n",
      "     |  __dict__\n",
      "     |      dictionary for instance variables (if defined)\n",
      "     |  \n",
      "     |  __weakref__\n",
      "     |      list of weak references to the object (if defined)\n",
      "     |  \n",
      "     |  ----------------------------------------------------------------------\n",
      "     |  Data and other attributes inherited from Random:\n",
      "     |  \n",
      "     |  VERSION = 3\n",
      "     |  \n",
      "     |  ----------------------------------------------------------------------\n",
      "     |  Static methods inherited from _random.Random:\n",
      "     |  \n",
      "     |  __new__(*args, **kwargs) from builtins.type\n",
      "     |      Create and return a new object.  See help(type) for accurate signature.\n",
      "\n",
      "FUNCTIONS\n",
      "    betavariate(alpha, beta) method of Random instance\n",
      "        Beta distribution.\n",
      "        \n",
      "        Conditions on the parameters are alpha > 0 and beta > 0.\n",
      "        Returned values range between 0 and 1.\n",
      "    \n",
      "    choice(seq) method of Random instance\n",
      "        Choose a random element from a non-empty sequence.\n",
      "    \n",
      "    choices(population, weights=None, *, cum_weights=None, k=1) method of Random instance\n",
      "        Return a k sized list of population elements chosen with replacement.\n",
      "        \n",
      "        If the relative weights or cumulative weights are not specified,\n",
      "        the selections are made with equal probability.\n",
      "    \n",
      "    expovariate(lambd) method of Random instance\n",
      "        Exponential distribution.\n",
      "        \n",
      "        lambd is 1.0 divided by the desired mean.  It should be\n",
      "        nonzero.  (The parameter would be called \"lambda\", but that is\n",
      "        a reserved word in Python.)  Returned values range from 0 to\n",
      "        positive infinity if lambd is positive, and from negative\n",
      "        infinity to 0 if lambd is negative.\n",
      "    \n",
      "    gammavariate(alpha, beta) method of Random instance\n",
      "        Gamma distribution.  Not the gamma function!\n",
      "        \n",
      "        Conditions on the parameters are alpha > 0 and beta > 0.\n",
      "        \n",
      "        The probability distribution function is:\n",
      "        \n",
      "                    x ** (alpha - 1) * math.exp(-x / beta)\n",
      "          pdf(x) =  --------------------------------------\n",
      "                      math.gamma(alpha) * beta ** alpha\n",
      "    \n",
      "    gauss(mu, sigma) method of Random instance\n",
      "        Gaussian distribution.\n",
      "        \n",
      "        mu is the mean, and sigma is the standard deviation.  This is\n",
      "        slightly faster than the normalvariate() function.\n",
      "        \n",
      "        Not thread-safe without a lock around calls.\n",
      "    \n",
      "    getrandbits(k, /) method of Random instance\n",
      "        getrandbits(k) -> x.  Generates an int with k random bits.\n",
      "    \n",
      "    getstate() method of Random instance\n",
      "        Return internal state; can be passed to setstate() later.\n",
      "    \n",
      "    lognormvariate(mu, sigma) method of Random instance\n",
      "        Log normal distribution.\n",
      "        \n",
      "        If you take the natural logarithm of this distribution, you'll get a\n",
      "        normal distribution with mean mu and standard deviation sigma.\n",
      "        mu can have any value, and sigma must be greater than zero.\n",
      "    \n",
      "    normalvariate(mu, sigma) method of Random instance\n",
      "        Normal distribution.\n",
      "        \n",
      "        mu is the mean, and sigma is the standard deviation.\n",
      "    \n",
      "    paretovariate(alpha) method of Random instance\n",
      "        Pareto distribution.  alpha is the shape parameter.\n",
      "    \n",
      "    randbytes(n) method of Random instance\n",
      "        Generate n random bytes.\n",
      "    \n",
      "    randint(a, b) method of Random instance\n",
      "        Return random integer in range [a, b], including both end points.\n",
      "    \n",
      "    random() method of Random instance\n",
      "        random() -> x in the interval [0, 1).\n",
      "    \n",
      "    randrange(start, stop=None, step=1) method of Random instance\n",
      "        Choose a random item from range(start, stop[, step]).\n",
      "        \n",
      "        This fixes the problem with randint() which includes the\n",
      "        endpoint; in Python this is usually not what you want.\n",
      "    \n",
      "    sample(population, k, *, counts=None) method of Random instance\n",
      "        Chooses k unique random elements from a population sequence or set.\n",
      "        \n",
      "        Returns a new list containing elements from the population while\n",
      "        leaving the original population unchanged.  The resulting list is\n",
      "        in selection order so that all sub-slices will also be valid random\n",
      "        samples.  This allows raffle winners (the sample) to be partitioned\n",
      "        into grand prize and second place winners (the subslices).\n",
      "        \n",
      "        Members of the population need not be hashable or unique.  If the\n",
      "        population contains repeats, then each occurrence is a possible\n",
      "        selection in the sample.\n",
      "        \n",
      "        Repeated elements can be specified one at a time or with the optional\n",
      "        counts parameter.  For example:\n",
      "        \n",
      "            sample(['red', 'blue'], counts=[4, 2], k=5)\n",
      "        \n",
      "        is equivalent to:\n",
      "        \n",
      "            sample(['red', 'red', 'red', 'red', 'blue', 'blue'], k=5)\n",
      "        \n",
      "        To choose a sample from a range of integers, use range() for the\n",
      "        population argument.  This is especially fast and space efficient\n",
      "        for sampling from a large population:\n",
      "        \n",
      "            sample(range(10000000), 60)\n",
      "    \n",
      "    seed(a=None, version=2) method of Random instance\n",
      "        Initialize internal state from a seed.\n",
      "        \n",
      "        The only supported seed types are None, int, float,\n",
      "        str, bytes, and bytearray.\n",
      "        \n",
      "        None or no argument seeds from current time or from an operating\n",
      "        system specific randomness source if available.\n",
      "        \n",
      "        If *a* is an int, all bits are used.\n",
      "        \n",
      "        For version 2 (the default), all of the bits are used if *a* is a str,\n",
      "        bytes, or bytearray.  For version 1 (provided for reproducing random\n",
      "        sequences from older versions of Python), the algorithm for str and\n",
      "        bytes generates a narrower range of seeds.\n",
      "    \n",
      "    setstate(state) method of Random instance\n",
      "        Restore internal state from object returned by getstate().\n",
      "    \n",
      "    shuffle(x, random=None) method of Random instance\n",
      "        Shuffle list x in place, and return None.\n",
      "        \n",
      "        Optional argument random is a 0-argument function returning a\n",
      "        random float in [0.0, 1.0); if it is the default None, the\n",
      "        standard random.random will be used.\n",
      "    \n",
      "    triangular(low=0.0, high=1.0, mode=None) method of Random instance\n",
      "        Triangular distribution.\n",
      "        \n",
      "        Continuous distribution bounded by given lower and upper limits,\n",
      "        and having a given mode value in-between.\n",
      "        \n",
      "        http://en.wikipedia.org/wiki/Triangular_distribution\n",
      "    \n",
      "    uniform(a, b) method of Random instance\n",
      "        Get a random number in the range [a, b) or [a, b] depending on rounding.\n",
      "    \n",
      "    vonmisesvariate(mu, kappa) method of Random instance\n",
      "        Circular data distribution.\n",
      "        \n",
      "        mu is the mean angle, expressed in radians between 0 and 2*pi, and\n",
      "        kappa is the concentration parameter, which must be greater than or\n",
      "        equal to zero.  If kappa is equal to zero, this distribution reduces\n",
      "        to a uniform random angle over the range 0 to 2*pi.\n",
      "    \n",
      "    weibullvariate(alpha, beta) method of Random instance\n",
      "        Weibull distribution.\n",
      "        \n",
      "        alpha is the scale parameter and beta is the shape parameter.\n",
      "\n",
      "DATA\n",
      "    __all__ = ['Random', 'SystemRandom', 'betavariate', 'choice', 'choices...\n",
      "\n",
      "FILE\n",
      "    c:\\program files\\windowsapps\\pythonsoftwarefoundation.python.3.10_3.10.2032.0_x64__qbz5n2kfra8p0\\lib\\random.py\n",
      "\n",
      "\n"
     ]
    },
    {
     "data": {
      "text/plain": [
       "'FUNCTIONS\\n    choice(seq) method of Random instance\\n            Choose a random element from a non-empty sequence.\\n    \\n    choices(population, weights=None, *, cum_weights=None, k=1) method of Random instance\\n        Return a k sized list of population elements chosen with replacement.\\n        \\n        If the relative weights or cumulative weights are not specified,\\n        the selections are made with equal probability. \\n        \\n    randint(a, b) method of Random instance\\n        Return random integer in range [a, b], including both end points.\\n    \\n    random() method of Random instance\\n        random() -> x in the interval [0, 1). \\n        \\n    randrange(start, stop=None, step=1) method of Random instance\\n        Choose a random item from range(start, stop[, step]).\\n        \\n        This fixes the problem with randint() which includes the\\n        endpoint; in Python this is usually not what you want.\\n     \\n    gauss(mu, sigma) method of Random instance\\n        Gaussian distribution.\\n        \\n        mu is the mean, and sigma is the standard deviation.  This is\\n        slightly faster than the normalvariate() function.\\n        \\n        Not thread-safe without a lock around calls.\\n    \\n            '"
      ]
     },
     "execution_count": 2,
     "metadata": {},
     "output_type": "execute_result"
    }
   ],
   "source": [
    "help(random) #vediamo cosa ci sta nella libreria\n",
    "'''distributions on the real line:\n",
    "        ------------------------------\n",
    "               uniform\n",
    "               triangular\n",
    "               normal (Gaussian)\n",
    "               lognormal\n",
    "               negative exponential\n",
    "               gamma\n",
    "               beta\n",
    "               pareto\n",
    "               Weibull\n",
    "    \n",
    "        distributions on the circle (angles 0 to 2pi)\n",
    "        ---------------------------------------------\n",
    "               circular uniform\n",
    "               von Mises'''\n",
    "'''FUNCTIONS\n",
    "    choice(seq) method of Random instance\n",
    "            Choose a random element from a non-empty sequence.\n",
    "    \n",
    "    choices(population, weights=None, *, cum_weights=None, k=1) method of Random instance\n",
    "        Return a k sized list of population elements chosen with replacement.\n",
    "        \n",
    "        If the relative weights or cumulative weights are not specified,\n",
    "        the selections are made with equal probability. \n",
    "        \n",
    "    randint(a, b) method of Random instance\n",
    "        Return random integer in range [a, b], including both end points.\n",
    "    \n",
    "    random() method of Random instance\n",
    "        random() -> x in the interval [0, 1). \n",
    "        \n",
    "    randrange(start, stop=None, step=1) method of Random instance\n",
    "        Choose a random item from range(start, stop[, step]).\n",
    "        \n",
    "        This fixes the problem with randint() which includes the\n",
    "        endpoint; in Python this is usually not what you want.\n",
    "     \n",
    "    gauss(mu, sigma) method of Random instance\n",
    "        Gaussian distribution.\n",
    "        \n",
    "        mu is the mean, and sigma is the standard deviation.  This is\n",
    "        slightly faster than the normalvariate() function.\n",
    "        \n",
    "        Not thread-safe without a lock around calls.\n",
    "    \n",
    "            '''"
   ]
  },
  {
   "cell_type": "code",
   "execution_count": 3,
   "id": "42a02930",
   "metadata": {},
   "outputs": [
    {
     "data": {
      "text/plain": [
       "0.057858171260080304"
      ]
     },
     "execution_count": 3,
     "metadata": {},
     "output_type": "execute_result"
    }
   ],
   "source": [
    "random.random() #in questa istanza ritorna un numero 0 randomico tra 0 e 1 "
   ]
  },
  {
   "cell_type": "code",
   "execution_count": 4,
   "id": "4b5b60fb",
   "metadata": {},
   "outputs": [
    {
     "data": {
      "text/plain": [
       "0.1652113006212922"
      ]
     },
     "execution_count": 4,
     "metadata": {},
     "output_type": "execute_result"
    }
   ],
   "source": [
    "random.gauss(1,1) #facciamo una gaussiana random"
   ]
  },
  {
   "cell_type": "markdown",
   "id": "f07fb812",
   "metadata": {},
   "source": [
    "### Note su comprehension:\n",
    "La forma più utilizzata (e più semplice) è la seguente:\n",
    "\n",
    "[ funzione(n) for n in range(50)]\n",
    "\n",
    "Ma. in alcuni casi, la lista deve essere popolata di elementi che non sono in funzione della variabile sulla quale si itera (n). Un esempio è quello dato da:\n",
    "[0 for _ in range(10)] che è una funzione che ritorna una lista composta da 10 0.\n",
    "\n",
    "Se ad esempio si ha bisogno di chiamare una funzione che restituisca un valore random (e quindi ad ogni chiamata ci si aspetta un valore randomico diverso dagli altri), allora la sintassi della comprehension sarebbe simile alla seguente:\n",
    "\n",
    "[ funzione_random(x, y, ...) for n in range(50)]\n",
    "\n",
    "Molto spesso però, gli sviluppatori python utilizzano in quest'ultimo caso il simbolo \"_\" per inidicare la variabile su cui si itera; il motivo è che non avrebbe senso dare uno nome significativo a tale variabile.\n",
    "\n",
    "[ funzione_random(x, y, ...) for _ in range(50)]"
   ]
  },
  {
   "cell_type": "code",
   "execution_count": 5,
   "id": "fe394c61",
   "metadata": {},
   "outputs": [
    {
     "data": {
      "text/plain": [
       "[-1.0303117110948459,\n",
       " 0.8928344584395316,\n",
       " 2.803944881258901,\n",
       " 2.0126383087414315,\n",
       " 1.515504674583458,\n",
       " 0.4515475837017564,\n",
       " 1.9429612611652332,\n",
       " -0.08817623543913866,\n",
       " 0.11032642722152053,\n",
       " 1.1977434480972504]"
      ]
     },
     "execution_count": 5,
     "metadata": {},
     "output_type": "execute_result"
    }
   ],
   "source": [
    "[random.normalvariate(1,1) for x in range(10)]\n",
    "#for x in range(10) ci dice quante volte far runnare la funzione precedente che non ha dipendenze da una variabile\n",
    "#per convenzione di solito si usa però l'underscore:\n",
    "[random.normalvariate(1,1) for _ in range(10)]\n",
    "#[funzione(n) for n in range(10)] #di solito la usiamo così la list comprehension"
   ]
  },
  {
   "cell_type": "markdown",
   "id": "5858d429",
   "metadata": {},
   "source": [
    "Si crei una lista di numeri random che seguano la distribuzione gaussiana e la si salvi nella variabile g:"
   ]
  },
  {
   "cell_type": "code",
   "execution_count": 6,
   "id": "4acab5e4",
   "metadata": {},
   "outputs": [
    {
     "data": {
      "text/plain": [
       "[1.4845459917342552,\n",
       " 1.8729050986670817,\n",
       " 1.2071845907207006,\n",
       " 1.9798181953253402,\n",
       " 0.4195975673844867,\n",
       " 0.8594704784752065,\n",
       " 0.608059006823169,\n",
       " -0.0015110763565677754,\n",
       " 0.9664346481693696,\n",
       " 0.6846594650536393]"
      ]
     },
     "execution_count": 6,
     "metadata": {},
     "output_type": "execute_result"
    }
   ],
   "source": [
    "g = [random.gauss(1,1) for _ in range(10)]\n",
    "g"
   ]
  },
  {
   "cell_type": "code",
   "execution_count": 7,
   "id": "bde584e7",
   "metadata": {},
   "outputs": [
    {
     "data": {
      "text/plain": [
       "1.8729050986670817"
      ]
     },
     "execution_count": 7,
     "metadata": {},
     "output_type": "execute_result"
    }
   ],
   "source": [
    "random.choice(g) #estrapola casualmente uno degli elementi di g"
   ]
  },
  {
   "cell_type": "markdown",
   "id": "49b08f6c",
   "metadata": {},
   "source": [
    "# IF ELSE\n",
    "Uso della keyword \" if:\n",
    "(keyword) if (espressione condizionale) x >10 (due punti) :\n",
    "il contenuto del blocco sottostante viene eseguito solo nel caso in cui l'espressione condizionale viene valutata \"True\".\n",
    "\n",
    "\n",
    "Uso della keyword \"elif\":\n",
    "segue un blocco \"if\" oppure \"elif\" e permette di dichiarare una nuova diramazione del flusso. \n",
    "(keyword) elif (espressione condizionale) x < 3 (due punti) :\n",
    "Viene eseguita nel caos in cui il blocco \"if\" precedente NON venga eseguito e l'espressione condizionale sia valutata \"True\".\n",
    "\n",
    "\n",
    "Uso della keyword \"else\":\n",
    "segue un blocc \"if\" o \"elif\" e permette di dichiarare una diramazione del flusso da eseguire se il\\i blocco\\cchi che lo precedono NON sono stati eseguiti.\n",
    "(keyword) else (due punti) :"
   ]
  },
  {
   "cell_type": "code",
   "execution_count": 8,
   "id": "097e271c",
   "metadata": {},
   "outputs": [
    {
     "name": "stdout",
     "output_type": "stream",
     "text": [
      "numero random medio\n"
     ]
    }
   ],
   "source": [
    "n = random.randrange(3,8)\n",
    "if n<5: #statement\n",
    "    print(\"numero random basso\") # primo blocco\n",
    "elif n>6:#statement\n",
    "    print(\"numero random alto\") # secondo blocco\n",
    "else:#statement\n",
    "    print(\"numero random medio\") # terzo blocco"
   ]
  },
  {
   "cell_type": "markdown",
   "id": "78fbdbff",
   "metadata": {},
   "source": [
    "In python esistono diversi tipi di istruzioni che son individuati da diversi statement e ciascuno statement finisce con i \":\"\n",
    "e dopo i \":\" il curso si sposta 4 spazi a destra (indentazione utile per non usare le parentesi graffe).\n",
    "\n",
    "Gli statement di if ed else senza indentazione sarebbero infatti:\n",
    "\n",
    "if (condizione da verificare) {\n",
    "esegui questo\n",
    "}\n",
    "\n",
    "In python ogni blocco è delimitato dall'indentazione! \n",
    "Inoltre, un blocco può contenere più istruzioni."
   ]
  },
  {
   "cell_type": "markdown",
   "id": "498d7dad",
   "metadata": {},
   "source": [
    "## Alcuni operatori di comparazione"
   ]
  },
  {
   "cell_type": "code",
   "execution_count": 9,
   "id": "2d8047a8",
   "metadata": {},
   "outputs": [
    {
     "data": {
      "text/plain": [
       "True"
      ]
     },
     "execution_count": 9,
     "metadata": {},
     "output_type": "execute_result"
    }
   ],
   "source": [
    "10 < 2\n",
    "10 <= 2\n",
    "2 > 1\n",
    "2 >= 3\n",
    "1 == 1\n",
    "1 != 2 #l'output che mi fa vedere è solo l'ultimo"
   ]
  },
  {
   "cell_type": "markdown",
   "id": "90a9062b",
   "metadata": {},
   "source": [
    "## I Cicli\n",
    "### Istruzione \"for\"\n",
    "\n",
    "L'istruzione \"for\" permette di eseguire più volte lo stesso blocco di istruzioni consecutivamente.\n",
    "La sua sintassi è la seguente:\n",
    "\n",
    "(keyword) for (espressione iterativa) n in range(10) (due punti) :\n"
   ]
  },
  {
   "cell_type": "code",
   "execution_count": 10,
   "id": "fbf8c0af",
   "metadata": {},
   "outputs": [
    {
     "name": "stdout",
     "output_type": "stream",
     "text": [
      "c\n",
      "i\n",
      "a\n",
      "o\n",
      "3\n",
      "8\n",
      "13\n",
      "18\n",
      "0\n",
      "1\n",
      "4\n",
      "9\n",
      "16\n",
      "25\n",
      "36\n",
      "49\n",
      "64\n",
      "81\n",
      "ciao\n",
      "ciao\n",
      "ciao\n",
      "ciao\n",
      "ciao\n"
     ]
    }
   ],
   "source": [
    "#iterazione su stringhe\n",
    "for lettera in 'ciao': #osserviamo come anche le stringhe sono iterabili\n",
    "    print(lettera)\n",
    "\n",
    "#iterazione su range\n",
    "for numero in range(3,20,5):\n",
    "    print(numero)\n",
    "\n",
    "#iterazione su liste\n",
    "for elemento in [n**2 for n in range(10)]:\n",
    "    print(elemento)\n",
    "    \n",
    "#quindi per \"espressione iterativa\" si intende qualcosa su cui si possa iterare.\n",
    "# nel caso in cui la variabile su cui si itera non è importante nel ciclo, si usa _\n",
    "for _ in range(5):\n",
    "    print('ciao')"
   ]
  },
  {
   "cell_type": "markdown",
   "id": "1e995a5a",
   "metadata": {},
   "source": [
    "Nota: le istruzioni \"for\" (o in generale i cicli) si possono combinare con le espressioni condizionali"
   ]
  },
  {
   "cell_type": "code",
   "execution_count": 11,
   "id": "7a9b4d95",
   "metadata": {},
   "outputs": [
    {
     "name": "stdout",
     "output_type": "stream",
     "text": [
      "ciao\n",
      "arrivederci\n",
      "ciao\n",
      "arrivederci\n",
      "ciao\n",
      "arrivederci\n",
      "ciao\n",
      "arrivederci\n",
      "ciao\n",
      "arrivederci\n"
     ]
    }
   ],
   "source": [
    "# cicli che si possono combinare con le espressioni condizionali\n",
    "for n in range(10):\n",
    "    if n%2 == 0:\n",
    "        print('ciao')\n",
    "    else:\n",
    "        print('arrivederci')"
   ]
  },
  {
   "cell_type": "code",
   "execution_count": 12,
   "id": "d6f19d47",
   "metadata": {},
   "outputs": [
    {
     "name": "stdout",
     "output_type": "stream",
     "text": [
      "0\n",
      "3\n"
     ]
    }
   ],
   "source": [
    "#iterazione su set\n",
    "for el_set in (n*3 for n in range(2)):\n",
    "    print(el_set)"
   ]
  },
  {
   "cell_type": "markdown",
   "id": "3498965b",
   "metadata": {},
   "source": [
    "# Iterazione su dizionari"
   ]
  },
  {
   "cell_type": "code",
   "execution_count": 13,
   "id": "b8e7c974",
   "metadata": {},
   "outputs": [
    {
     "name": "stdout",
     "output_type": "stream",
     "text": [
      "chiave: Roma valore: IT\n",
      "chiave: Barcelona valore: ES\n",
      "chiave: Dublin valore: IE\n",
      "chiave: Roma valore: IT\n",
      "chiave: Barcelona valore: ES\n",
      "chiave: Dublin valore: IE\n"
     ]
    }
   ],
   "source": [
    "dizio = {\n",
    "    'Roma':'IT',\n",
    "    'Barcelona':'ES',\n",
    "    'Dublin':'IE'\n",
    "}\n",
    "\n",
    "#iterazione su dizionario\n",
    "dizio\n",
    "dizio.keys()\n",
    "dizio.values()\n",
    "\n",
    "#possiamo iterare il dizionario sulle proprie keys:\n",
    "for k in dizio.keys():\n",
    "    print('chiave:', k, 'valore:' , dizio[k])\n",
    "\n",
    "dizio.items() #lista di coppie chiave-valore\n",
    "#possiamo iterare il dizionario tramite gli elementi dizio.items():\n",
    "for k, v in dizio.items():\n",
    "    print('chiave:', k, 'valore:' , v)"
   ]
  },
  {
   "cell_type": "markdown",
   "id": "c1b1b822",
   "metadata": {},
   "source": [
    "### I dizionari non sono direttamente iterabili ( a differenza di list, set, string ,range , ...).\n",
    "\n",
    "### La funzione items ritorna un oggetto iterabile che rappresenta il dizionario"
   ]
  },
  {
   "cell_type": "code",
   "execution_count": 14,
   "id": "14198dd4",
   "metadata": {},
   "outputs": [
    {
     "name": "stdout",
     "output_type": "stream",
     "text": [
      "(1, -1)\n",
      "(2, -2)\n",
      "(3, -3)\n"
     ]
    }
   ],
   "source": [
    "for elemento in [(1,-1),(2,-2),(3,-3)]:\n",
    "    print(elemento)"
   ]
  },
  {
   "cell_type": "markdown",
   "id": "189069a7",
   "metadata": {},
   "source": [
    "## UNPACKING\n",
    "in un ciclo for (o comprehension) è possibile gestire collezioni di collezioni. Se tutti gli elementi della collezione principale hanno medesima dimensionalità($d$), è possibile riferirsi ad essi con $d$ nomi di variabile. "
   ]
  },
  {
   "cell_type": "code",
   "execution_count": 15,
   "id": "836d86de",
   "metadata": {},
   "outputs": [
    {
     "name": "stdout",
     "output_type": "stream",
     "text": [
      "1 -1\n",
      "2 -2\n",
      "3 -3\n",
      "1 -1 1\n",
      "2 -2 0\n",
      "3 -3 0\n",
      "1 -1 1\n",
      "2 -2 0\n",
      "3 -3 0\n",
      "0 1 -1\n",
      "0 2 -2\n",
      "0 3 -3\n"
     ]
    }
   ],
   "source": [
    "#\"smembriamo\" direttamente la coppia nel ciclo for\n",
    "for e1,e2 in [(1,-1),(2,-2),(3,-3)]:\n",
    "    print(e1,e2)\n",
    "#si osservi che se avessimo tuple\n",
    "#con 3 elementi avremmo dovuto \"smembrare\" tutti e 3 gli elementi e non solo 2; oppure direttamente 1 ma prenderebbe tutta la tupla\n",
    "\n",
    "for x, y,z in [(1,-1,1), (2,-2,0),(3,-3,0)]:\n",
    "    print(x,y,z)\n",
    "    \n",
    "for x, y,z in [[1,-1,1], [2,-2,0],[3,-3,0]]:\n",
    "    print(x,y,z)\n",
    "               \n",
    "for x, y, z in [{1,-1,0}, {2,-2,0},{3,-3,0}]:\n",
    "    print(x,y,z)"
   ]
  },
  {
   "cell_type": "markdown",
   "id": "6819123e",
   "metadata": {},
   "source": [
    "Data una lista di oggetti (libri, matite, ...) sottoforma di stringhe, stamapre tutti gli oggetti tranne quello di indice 2."
   ]
  },
  {
   "cell_type": "code",
   "execution_count": 16,
   "id": "3636d531",
   "metadata": {},
   "outputs": [
    {
     "name": "stdout",
     "output_type": "stream",
     "text": [
      "libro\n",
      "matita\n",
      "gomma\n"
     ]
    }
   ],
   "source": [
    "l= ['libro', 'matita', 'penna', 'gomma']\n",
    "for elemento in l:\n",
    "    if elemento != l[2]:\n",
    "        print(elemento)"
   ]
  },
  {
   "cell_type": "markdown",
   "id": "39c58ed8",
   "metadata": {},
   "source": [
    "Se volessimo fare in modo che, se un elemento è ==  'penna' non stampiamo l'elemento di indice successivo a quello di 'penna'"
   ]
  },
  {
   "cell_type": "code",
   "execution_count": 17,
   "id": "bc585ee6",
   "metadata": {},
   "outputs": [
    {
     "name": "stdout",
     "output_type": "stream",
     "text": [
      "libro\n",
      "matita\n",
      "penna\n"
     ]
    }
   ],
   "source": [
    "idx_esc = None\n",
    "for i in range(len(l)):\n",
    "    if l[i] == 'penna':\n",
    "        idx_esc = i+1\n",
    "    if i == idx_esc:\n",
    "        pass\n",
    "    else:\n",
    "        print(l[i])"
   ]
  },
  {
   "cell_type": "markdown",
   "id": "778f07c0",
   "metadata": {},
   "source": [
    "## Fare un plot di un array\n",
    "(in particolare plottare i valori della gaussiana g).\n",
    "\n",
    "Si possono \"binnare\" i valori contenutu nella lista ovvero si possono \"racchiudere\" valori simili in una barra."
   ]
  },
  {
   "cell_type": "code",
   "execution_count": 18,
   "id": "b3276f70",
   "metadata": {},
   "outputs": [
    {
     "data": {
      "text/plain": [
       "0.2014347219104059"
      ]
     },
     "execution_count": 18,
     "metadata": {},
     "output_type": "execute_result"
    }
   ],
   "source": [
    "g = [random.gauss(1,1) for _ in range(10)]\n",
    "g\n",
    "random.choice(g)"
   ]
  },
  {
   "cell_type": "markdown",
   "id": "9f6d8fa6",
   "metadata": {},
   "source": [
    "In presenza di un grafico a barre (o istogramma), ogni rettangolo viene chiamato \"bin\". E \"binnare\" significa creare i bins che possiamo creare rispetto a come vogliamo \"accoppiare i valori\".\n"
   ]
  },
  {
   "cell_type": "code",
   "execution_count": 3,
   "id": "e1776276",
   "metadata": {},
   "outputs": [
    {
     "data": {
      "image/png": "[encoded data removed]",
      "text/plain": [
       "<Figure size 640x480 with 1 Axes>"
      ]
     },
     "metadata": {},
     "output_type": "display_data"
    }
   ],
   "source": [
    "from matplotlib import pyplot as plt\n",
    "plt.hist([random.gauss(1,0.5) for _ in range(1000)], bins=50)\n",
    "plt.show()"
   ]
  },
  {
   "cell_type": "code",
   "execution_count": 24,
   "id": "56532fe1",
   "metadata": {},
   "outputs": [
    {
     "data": {
      "image/png": "[encoded data removed]",
      "text/plain": [
       "<Figure size 640x480 with 1 Axes>"
      ]
     },
     "metadata": {},
     "output_type": "display_data"
    }
   ],
   "source": [
    "#plot linea \n",
    "\n",
    "plt.plot([random.gauss(1,0.5) for _ in range(10)]) \n",
    "plt.show()"
   ]
  },
  {
   "cell_type": "code",
   "execution_count": 27,
   "id": "01a60f5e",
   "metadata": {},
   "outputs": [
    {
     "data": {
      "image/png": "[encoded data removed]",
      "text/plain": [
       "<Figure size 640x480 with 1 Axes>"
      ]
     },
     "metadata": {},
     "output_type": "display_data"
    }
   ],
   "source": [
    "#scatter plot: il primo argomento sono le x, il secondo le y\n",
    "\n",
    "plt.scatter([random.gauss(1,0.5) for _ in range(10)], list(range(10)), color = 'red') \n",
    "plt.show()"
   ]
  },
  {
   "cell_type": "markdown",
   "id": "da08c221",
   "metadata": {},
   "source": [
    "# Indici e elementi"
   ]
  },
  {
   "cell_type": "code",
   "execution_count": 30,
   "id": "af9c03a1",
   "metadata": {},
   "outputs": [
    {
     "data": {
      "text/plain": [
       "([0, 1, 2, 3], ['libro', 'matita', 'penna', 'gomma'])"
      ]
     },
     "execution_count": 30,
     "metadata": {},
     "output_type": "execute_result"
    }
   ],
   "source": [
    "[i for i in range(len(l))], l"
   ]
  },
  {
   "cell_type": "code",
   "execution_count": 32,
   "id": "c7941aa9",
   "metadata": {},
   "outputs": [
    {
     "data": {
      "text/plain": [
       "<zip at 0x237259a6d40>"
      ]
     },
     "execution_count": 32,
     "metadata": {},
     "output_type": "execute_result"
    }
   ],
   "source": [
    "zip([i for i in range(len(l))], l) #ci dice la posizione in memoria che è esadecimale perché inizia con 0x"
   ]
  },
  {
   "cell_type": "code",
   "execution_count": 33,
   "id": "3b969cd6",
   "metadata": {},
   "outputs": [
    {
     "data": {
      "text/plain": [
       "[(0, 'libro'), (1, 'matita'), (2, 'penna'), (3, 'gomma')]"
      ]
     },
     "execution_count": 33,
     "metadata": {},
     "output_type": "execute_result"
    }
   ],
   "source": [
    "list(zip([i for i in range(len(l))], l))"
   ]
  },
  {
   "cell_type": "markdown",
   "id": "410331bc",
   "metadata": {},
   "source": [
    "quindi la funzione zip prende due liste e le associa ( bisogna però listarla per visualizzarla, ma si può comunque usare così)"
   ]
  },
  {
   "cell_type": "markdown",
   "id": "1aca76a8",
   "metadata": {},
   "source": [
    "Usiamo la funzione zip per rifare questo esercizio:\n",
    "\n",
    "Se volessimo fare in modo che, se un elemento è ==  'penna' non stampiamo l'elemento di indice successivo a quello di 'penna'"
   ]
  },
  {
   "cell_type": "code",
   "execution_count": 36,
   "id": "868bfa4d",
   "metadata": {},
   "outputs": [
    {
     "name": "stdout",
     "output_type": "stream",
     "text": [
      "libro\n",
      "matita\n",
      "penna\n"
     ]
    }
   ],
   "source": [
    "idx_esc = None\n",
    "for i , el in zip(range(len(l)),l):\n",
    "    if el == 'penna':\n",
    "        idx_esc = i + 1 \n",
    "    if i != idx_esc:\n",
    "        print(el)\n",
    "        \n",
    "#abbiamo eliminato la ridondanda nel duplice richiamo di l[i]"
   ]
  },
  {
   "cell_type": "code",
   "execution_count": 41,
   "id": "f9a5e5a1",
   "metadata": {},
   "outputs": [
    {
     "name": "stdout",
     "output_type": "stream",
     "text": [
      "[(0, 'ciao'), (1, 'come'), (2, 'va'), (3, '?')]\n",
      "[0, 1, 2, 3] ['ciao', 'come', 'va', '?']\n",
      "[(0, 'ciao'), (1, 'come'), (2, 'va'), (3, '?')]\n"
     ]
    }
   ],
   "source": [
    "list(zip([i for i in range(len(l))],l))\n",
    "indici = [0,1,2,3]\n",
    "lista = ['ciao', 'come', 'va', '?']\n",
    "list(zip(indici,lista))\n",
    "print(list(zip(indici,lista)))\n",
    "\n",
    "#Nota: se avessimo avuto due liste di lunghezza diversa, avremmo zippato solo fino a dove si può escludendo gli ultimi elementi della lista più lunga\n",
    "\n",
    "#Per una generica lista \"lista\" possiamo calcolare una lista dei suoi indici\n",
    "print(list(range(len(lista))) , lista) \n",
    "print(list(zip(list(range(len(lista))) , lista))) \n"
   ]
  },
  {
   "cell_type": "markdown",
   "id": "9e82aefa",
   "metadata": {},
   "source": [
    "## La funzione \"enumerate()\"\n",
    "La funzione enumerate() è una funzione di BuiltIn e non una funzione di liste.\n",
    "Tale funzione è usata per creare un oggetto iterabile composto da coppie formate da indice-valore; quindi enumerate(lista) corrisponde all'uso di zip(range(len(lista)),x)."
   ]
  },
  {
   "cell_type": "code",
   "execution_count": 42,
   "id": "befe4b37",
   "metadata": {},
   "outputs": [
    {
     "data": {
      "text/plain": [
       "[(0, 'ciao'), (1, 'come'), (2, 'va'), (3, '?')]"
      ]
     },
     "execution_count": 42,
     "metadata": {},
     "output_type": "execute_result"
    }
   ],
   "source": [
    "list(enumerate(lista))"
   ]
  },
  {
   "cell_type": "code",
   "execution_count": 43,
   "id": "58f32fb9",
   "metadata": {},
   "outputs": [
    {
     "name": "stdout",
     "output_type": "stream",
     "text": [
      "libro\n",
      "matita\n",
      "penna\n"
     ]
    }
   ],
   "source": [
    "idx_esc = None\n",
    "for i , el in enumerate(l):\n",
    "    if el == 'penna':\n",
    "        idx_esc = i + 1 \n",
    "    if i != idx_esc:\n",
    "        print(el)"
   ]
  },
  {
   "cell_type": "code",
   "execution_count": 45,
   "id": "dc19167b",
   "metadata": {},
   "outputs": [
    {
     "data": {
      "text/plain": [
       "['__class__',\n",
       " '__class_getitem__',\n",
       " '__contains__',\n",
       " '__delattr__',\n",
       " '__delitem__',\n",
       " '__dir__',\n",
       " '__doc__',\n",
       " '__eq__',\n",
       " '__format__',\n",
       " '__ge__',\n",
       " '__getattribute__',\n",
       " '__getitem__',\n",
       " '__gt__',\n",
       " '__hash__',\n",
       " '__init__',\n",
       " '__init_subclass__',\n",
       " '__ior__',\n",
       " '__iter__',\n",
       " '__le__',\n",
       " '__len__',\n",
       " '__lt__',\n",
       " '__ne__',\n",
       " '__new__',\n",
       " '__or__',\n",
       " '__reduce__',\n",
       " '__reduce_ex__',\n",
       " '__repr__',\n",
       " '__reversed__',\n",
       " '__ror__',\n",
       " '__setattr__',\n",
       " '__setitem__',\n",
       " '__sizeof__',\n",
       " '__str__',\n",
       " '__subclasshook__',\n",
       " 'clear',\n",
       " 'copy',\n",
       " 'fromkeys',\n",
       " 'get',\n",
       " 'items',\n",
       " 'keys',\n",
       " 'pop',\n",
       " 'popitem',\n",
       " 'setdefault',\n",
       " 'update',\n",
       " 'values']"
      ]
     },
     "execution_count": 45,
     "metadata": {},
     "output_type": "execute_result"
    }
   ],
   "source": [
    "dir(dict)\n",
    "dir({'a':'b'})"
   ]
  },
  {
   "cell_type": "markdown",
   "id": "3be0c9fc",
   "metadata": {},
   "source": [
    "### la rappresentazione degli oggetti python sottoforma di stringa\n",
    "è possibile definire un modo per rappresentare un oggetto in python sotto forma di stringa:"
   ]
  },
  {
   "cell_type": "code",
   "execution_count": 48,
   "id": "1e28832f",
   "metadata": {},
   "outputs": [
    {
     "name": "stdout",
     "output_type": "stream",
     "text": [
      "{\"a\":'b',\"c\":'d',}\n",
      "{'a': 'b', 'c': 'd'}\n"
     ]
    }
   ],
   "source": [
    "d = {'a':'b', 'c':'d'}\n",
    "#scrivo una routine per creare una stringa che rappresenti un generico dizionario\n",
    "s= '{'\n",
    "for k, v in d.items():\n",
    "    s+= '\"'+k+'\"'+ \":\"+\"'\"+v+\"',\"\n",
    "s += '}'\n",
    "\n",
    "print(s)\n",
    "print(d)"
   ]
  },
  {
   "cell_type": "markdown",
   "id": "9c875e8b",
   "metadata": {},
   "source": [
    "Eseguire il comando \"print(qualcosa)\" significa per pyton stampare la rappresentazione stringa di quel qualcosa.\n",
    "La rappresentazione in stringa è contenuta in un metodo chiamato `__str__` "
   ]
  },
  {
   "cell_type": "code",
   "execution_count": 47,
   "id": "86644c9e",
   "metadata": {},
   "outputs": [
    {
     "data": {
      "text/plain": [
       "\"{'a': 'b', 'c': 'd'}\""
      ]
     },
     "execution_count": 47,
     "metadata": {},
     "output_type": "execute_result"
    }
   ],
   "source": [
    "d.__str__() #rappresentazione in stringa di un dizionario"
   ]
  },
  {
   "cell_type": "code",
   "execution_count": 50,
   "id": "1d836ac5",
   "metadata": {},
   "outputs": [
    {
     "data": {
      "text/plain": [
       "'<zip object at 0x000002372BC3FDC0>'"
      ]
     },
     "execution_count": 50,
     "metadata": {},
     "output_type": "execute_result"
    }
   ],
   "source": [
    "z = zip(range(4), list(range(4)))\n",
    "z.__str__() #non la stampa perché zip() non ha il metodo `__str__` al suo interno???"
   ]
  },
  {
   "cell_type": "code",
   "execution_count": 52,
   "id": "ec1de605",
   "metadata": {},
   "outputs": [],
   "source": [
    "#dir(zip)"
   ]
  },
  {
   "cell_type": "markdown",
   "id": "ba0f07ed",
   "metadata": {},
   "source": [
    "## La funzione zip()\n",
    "\n",
    "La funzione zip permette di associare ogni elemento di una lista con il corrispettivo §(in ordine) di un'altra lista. Funziona anche con più di una lista"
   ]
  },
  {
   "cell_type": "code",
   "execution_count": 53,
   "id": "425b0480",
   "metadata": {},
   "outputs": [
    {
     "name": "stdout",
     "output_type": "stream",
     "text": [
      "[(0, 'a', ['a0']), (1, 'b', ['b1']), (2, 'c', ['b2'])]\n"
     ]
    }
   ],
   "source": [
    "#esempio di zip di 3 liste\n",
    "\n",
    "l1= [0,1,2]\n",
    "l2 = ['a', 'b', 'c']\n",
    "l3 = [['a0'],['b1'],['b2']]\n",
    "print(list(zip(l1,l2,l3)))"
   ]
  },
  {
   "cell_type": "code",
   "execution_count": 56,
   "id": "aadb98db",
   "metadata": {},
   "outputs": [
    {
     "name": "stdout",
     "output_type": "stream",
     "text": [
      "nome utente:  Anna Rossi email:  a@gft.com\n",
      "nome utente:  Anna Rossi email:  a@gft.com\n",
      "nome utente:  Mario Bianchi email:  m@gft.com\n",
      "nome utente:  Mario Bianchi email:  m@gft.com\n",
      "nome utente:  Elena Verdi email:  e@gft.com\n",
      "nome utente:  Elena Verdi email:  e@gft.com\n",
      "nome utente:  Francesco Gialli email:  f@gft.com\n",
      "nome utente:  Francesco Gialli email:  f@gft.com\n"
     ]
    }
   ],
   "source": [
    "nomi = ['Anna', 'Mario', 'Elena', 'Francesco']\n",
    "cognomi =[ 'Rossi', 'Bianchi', 'Verdi', 'Gialli']\n",
    "mail = ['a@gft.com', 'm@gft.com', 'e@gft.com', 'f@gft.com']\n",
    "#per stampare con una buona formattazione le colonne del mio DB:\n",
    "\n",
    "for n, c, m in zip(nomi, cognomi, mail):\n",
    "    print('nome utente: ', n ,c, 'email: ', m )\n",
    "    print('nome utente: '+' '+ n +' '+ c+ ' '+ 'email: '+ ' '+ m ) #scritture di print equivalenti"
   ]
  },
  {
   "cell_type": "markdown",
   "id": "33f94e4e",
   "metadata": {},
   "source": [
    "## L'istruzione WHILE\n",
    "(keyword) while (espressione condizionale) n< 10 (due punti) :\n",
    "\n",
    "fintanto che l'espressione condizionale è valutata \"True\" viene eseguito il blocco."
   ]
  },
  {
   "cell_type": "code",
   "execution_count": 1,
   "id": "1a0f41cb",
   "metadata": {},
   "outputs": [
    {
     "name": "stdout",
     "output_type": "stream",
     "text": [
      "1\n",
      "2\n",
      "3\n",
      "4\n",
      "5\n",
      "6\n",
      "7\n",
      "8\n",
      "9\n",
      "10\n"
     ]
    }
   ],
   "source": [
    "#se voglio che siano stampati tutti i numeri da 1 a 10:\n",
    "n=1\n",
    "while n <= 10:\n",
    "    print(n)\n",
    "    n += 1"
   ]
  },
  {
   "cell_type": "markdown",
   "id": "567699f9",
   "metadata": {},
   "source": [
    "## Challenge\n",
    "1. Dato un numero intero maggiore $n> 2$, ritornare una lista contenente i soli numeri di una seri di Fibonacci tale che con condizione di stop l'ultimo elemento <= n."
   ]
  },
  {
   "cell_type": "code",
   "execution_count": 11,
   "id": "019fa28b",
   "metadata": {},
   "outputs": [
    {
     "name": "stdout",
     "output_type": "stream",
     "text": [
      "[0, 1, 1, 2, 3, 5]\n",
      "[0, 2]\n"
     ]
    },
    {
     "data": {
      "text/plain": [
       "[0, 2]"
      ]
     },
     "execution_count": 11,
     "metadata": {},
     "output_type": "execute_result"
    }
   ],
   "source": [
    "n=5\n",
    "temp = 2\n",
    "lista = [0, 1]\n",
    "\n",
    "#genera la serie di fibonacci\n",
    "while lista[-1] < n:    \n",
    "    lista.append(lista[temp -1] + lista[temp-2])\n",
    "    temp += 1   \n",
    "print(lista)\n",
    "\n",
    "#estrapola solo gli elementi pari\n",
    "lista_pari=[]\n",
    "for elemento in lista:\n",
    "    if elemento%2 == 0:\n",
    "        lista_pari.append(elemento)\n",
    "        \n",
    "print(lista_pari)\n",
    "\n",
    "\n",
    "#seconda parte con list comprehension:\n",
    "[n for n in lista if n%2 == 0]"
   ]
  },
  {
   "cell_type": "markdown",
   "id": "c42e88be",
   "metadata": {},
   "source": [
    "## Controllo del flusso (istruzioni)"
   ]
  },
  {
   "cell_type": "code",
   "execution_count": null,
   "id": "0d4f7bc7",
   "metadata": {},
   "outputs": [],
   "source": [
    "break --> interrompe bruscamente un ciclo\n",
    "\n",
    "continue"
   ]
  },
  {
   "cell_type": "code",
   "execution_count": 16,
   "id": "41849651",
   "metadata": {},
   "outputs": [
    {
     "name": "stdout",
     "output_type": "stream",
     "text": [
      "1\n",
      "2\n",
      "3\n",
      "4\n",
      "5\n",
      "6\n",
      "Uscita forzata\n",
      "1\n",
      "2\n",
      "3\n",
      "4\n",
      "5\n",
      "6\n",
      "Skip forzato\n",
      "8\n",
      "9\n"
     ]
    }
   ],
   "source": [
    "n=1 \n",
    "while n < 10:\n",
    "    if n%7 == 0:\n",
    "        print('Uscita forzata')\n",
    "        break\n",
    "    print(n)\n",
    "    n += 1\n",
    "    \n",
    "    \n",
    "n=1 \n",
    "while n < 10:\n",
    "    if n%7 == 0:\n",
    "        print('Skip forzato')\n",
    "        n += 1\n",
    "        continue\n",
    "    print(n)\n",
    "    n += 1"
   ]
  },
  {
   "cell_type": "markdown",
   "id": "f83a72fd",
   "metadata": {},
   "source": [
    "## Le funzioni\n",
    "Le funzioni definiscono dei blocchi di istruzioni che possono essere riutilizzati."
   ]
  },
  {
   "cell_type": "code",
   "execution_count": 17,
   "id": "d9231d90",
   "metadata": {},
   "outputs": [],
   "source": [
    "# Dato un numero, ritorna il quadrato del numero\n",
    "def quadrato(n): #tra parentesi l'input\n",
    "    return n**2 #dopo return l'output"
   ]
  },
  {
   "cell_type": "markdown",
   "id": "f82f7cc6",
   "metadata": {},
   "source": [
    "Si noti che le funzioni possono prendere in ingresso più valori e allo stesso modo possono restituire più valori."
   ]
  },
  {
   "cell_type": "code",
   "execution_count": 24,
   "id": "65091a6e",
   "metadata": {},
   "outputs": [
    {
     "name": "stdout",
     "output_type": "stream",
     "text": [
      "Non ci sono doppie\n"
     ]
    },
    {
     "data": {
      "text/plain": [
       "(0, 't')"
      ]
     },
     "execution_count": 24,
     "metadata": {},
     "output_type": "execute_result"
    }
   ],
   "source": [
    "#ritorna l'indice e il valore delle prima doppia presente nella stringa s\n",
    "#ad es s='tutto' --> 2 ,t \n",
    "\n",
    "def indice_della_doppia(s):\n",
    "    for i, v in enumerate(s):\n",
    "        try:\n",
    "            if v == s[i+1]:\n",
    "                return i , v\n",
    "        except:\n",
    "            print('Non ci sono doppie')\n",
    "\n",
    "#proviamola:\n",
    "indice_della_doppia('tuto')\n",
    "indice_della_doppia('tutott')\n",
    "indice_della_doppia('tutto')\n",
    "indice_della_doppia('tthhhttthhhthttttt')"
   ]
  },
  {
   "cell_type": "markdown",
   "id": "cd69b828",
   "metadata": {},
   "source": [
    "2. Scrivere una funzione che data una stringa $s$ ritorni una lista che contiene tutti gli indici e valori delle doppie in essa contenuti. Se la stringa non ne contenesse alcuno, ritornerà una stringa vuota."
   ]
  },
  {
   "cell_type": "code",
   "execution_count": 29,
   "id": "2d17868d",
   "metadata": {},
   "outputs": [
    {
     "name": "stdout",
     "output_type": "stream",
     "text": [
      "analisi sulla stringa conclusa\n"
     ]
    },
    {
     "data": {
      "text/plain": [
       "[('p', 2), ('c', 5), ('t', 8), ('s', 11), ('s', 12), ('s', 13), ('s', 14)]"
      ]
     },
     "execution_count": 29,
     "metadata": {},
     "output_type": "execute_result"
    }
   ],
   "source": [
    "\n",
    "doppie = []\n",
    "def indici_delle_doppie(s):\n",
    "    for i, v in enumerate(s): #ciclo su tutte le lettere\n",
    "        try:\n",
    "            if v ==s[i+1]:\n",
    "                doppie.append((v,i)) #appendi doppia e indice\n",
    "        except:\n",
    "            print('analisi sulla stringa conclusa')\n",
    "    return doppie\n",
    "\n",
    "#test:\n",
    "st = 'cappuccettosssss'\n",
    "indici_delle_doppie(st)"
   ]
  },
  {
   "cell_type": "code",
   "execution_count": 32,
   "id": "994f6cb2",
   "metadata": {},
   "outputs": [
    {
     "data": {
      "text/plain": [
       "[(1, 2), (2, 3), (4, 5)]"
      ]
     },
     "execution_count": 32,
     "metadata": {},
     "output_type": "execute_result"
    }
   ],
   "source": [
    "#altro metodo per appendere altri oggetti alle liste\n",
    "l = [(1,2), (2,3)]\n",
    "l += [(4,5)]\n",
    "l"
   ]
  },
  {
   "cell_type": "markdown",
   "id": "72550af8",
   "metadata": {},
   "source": [
    "3. a) scrivere una funzione is_primo(n) -> ritorna True o False dipendentemente dal fatto che n sia primo o meno. b) scrivere una funzione twin_prime(n1, n2) che ritorna True o False se n1, n2 sono \"primi gemelli\" (wikipedia)\n",
    "\n",
    "4. dato un intero $n$, ritornare una lista di tuple che contengono la fattorizzazione di $n$"
   ]
  },
  {
   "cell_type": "code",
   "execution_count": 1,
   "id": "bb7dabf5",
   "metadata": {},
   "outputs": [],
   "source": [
    "def is_primo(n):\n",
    "    i=2\n",
    "    if n == 1 or n ==2:\n",
    "        return True\n",
    "    while i <= n/2:\n",
    "        if n%i == 0:\n",
    "            return False\n",
    "            i += 1\n",
    "        else:\n",
    "            return True\n",
    "            \n",
    "        \n",
    "#test\n",
    "is_primo(30)\n",
    "\n",
    "#def più compatta:\n",
    "def is_primo(n):\n",
    "    return[x for x in range(2,n) if n%x == 0] == []"
   ]
  },
  {
   "cell_type": "code",
   "execution_count": 2,
   "id": "cdaed7be",
   "metadata": {},
   "outputs": [],
   "source": [
    "def twin_prime(n,m):\n",
    "    if is_primo(n) == False or is_primo(m) == False:\n",
    "        return False\n",
    "    else:\n",
    "        if abs(n-m) == 2:\n",
    "            return True\n",
    "        else:\n",
    "            return False\n",
    "        \n",
    "#test\n",
    "twin_prime(5,7)\n",
    "\n",
    "#scrittura più compatta:\n",
    "def twin_primo(n1,n2):\n",
    "        return is_primo(n1) and is_primo(n2) and abs(n1-n2) == 2"
   ]
  },
  {
   "cell_type": "code",
   "execution_count": 3,
   "id": "63bc044b",
   "metadata": {},
   "outputs": [],
   "source": [
    "def genera_primi(n): #esce tutti i numeri primi minori di n\n",
    "    res = []\n",
    "    for i in range(2,n): \n",
    "        if is_primo(i):\n",
    "            res.append(i)\n",
    "    return res\n",
    "\n",
    "#scrittura più compatta:\n",
    "def genera_primi(n):\n",
    "    return[x for x in range(2,n) if is_primo(x)]"
   ]
  },
  {
   "cell_type": "code",
   "execution_count": 5,
   "id": "1fea044d",
   "metadata": {},
   "outputs": [
    {
     "data": {
      "text/plain": [
       "[[2, 1], [5, 2]]"
      ]
     },
     "execution_count": 5,
     "metadata": {},
     "output_type": "execute_result"
    }
   ],
   "source": [
    "def fattori(n):\n",
    "    fattori = genera_primi(n)\n",
    "    if is_primo(n):\n",
    "        return(1,n) #la funzione return serve per uscire dalla funzione quindi non occorre mettere l'else\n",
    "    \n",
    "    res = [] #lista dove mettere i fattori\n",
    "    resto = n\n",
    "    for f in fattori:\n",
    "        temp = [f, 0] #fattore che usiamo lo salviamo in questa variabile\n",
    "        while resto%f == 0:\n",
    "            resto = resto/f \n",
    "            temp = [f, temp[1]+1]\n",
    "        if temp[1] != 0:\n",
    "            res.append(temp)\n",
    "    return res\n",
    "\n",
    "#testiamo:\n",
    "fattori(50)\n",
    "fattori(50)"
   ]
  },
  {
   "cell_type": "markdown",
   "id": "e3fc2997",
   "metadata": {},
   "source": [
    "Lista che contiene tutti i numeri da 2 a n e che mi dica se è primo o meno:\n",
    "[(2,True), (3,True),(4,False),...,(n,?)]"
   ]
  },
  {
   "cell_type": "code",
   "execution_count": 92,
   "id": "6991bae6",
   "metadata": {},
   "outputs": [
    {
     "data": {
      "text/plain": [
       "[(2, True),\n",
       " (3, None),\n",
       " (4, False),\n",
       " (5, True),\n",
       " (6, False),\n",
       " (7, True),\n",
       " (8, False),\n",
       " (9, True)]"
      ]
     },
     "execution_count": 92,
     "metadata": {},
     "output_type": "execute_result"
    }
   ],
   "source": [
    "def calc_primes(n):\n",
    "    return [(x, is_primo(x)) for x in range(2,n)]\n",
    "\n",
    "calc_primes(10)"
   ]
  },
  {
   "cell_type": "markdown",
   "id": "cb5a2223",
   "metadata": {},
   "source": [
    "## Altri esempi di funzioni plottate"
   ]
  },
  {
   "cell_type": "code",
   "execution_count": 99,
   "id": "5ea2a22d",
   "metadata": {},
   "outputs": [
    {
     "data": {
      "text/plain": [
       "[2, 3, 4]"
      ]
     },
     "execution_count": 99,
     "metadata": {},
     "output_type": "execute_result"
    },
    {
     "data": {
      "image/png": "[encoded data removed]",
      "text/plain": [
       "<Figure size 640x480 with 1 Axes>"
      ]
     },
     "metadata": {},
     "output_type": "display_data"
    }
   ],
   "source": [
    "plt.scatter(list(range(3)), [v for v, p in calc_primes(5)])\n",
    "plt.show\n",
    "[v for v, p in calc_primes(5)]\n",
    "\n",
    "\n",
    "    "
   ]
  },
  {
   "cell_type": "code",
   "execution_count": 100,
   "id": "b5539b06",
   "metadata": {},
   "outputs": [
    {
     "data": {
      "image/png": "[encoded data removed]",
      "text/plain": [
       "<Figure size 640x480 with 1 Axes>"
      ]
     },
     "metadata": {},
     "output_type": "display_data"
    }
   ],
   "source": [
    "def scatter_primes(n):\n",
    "    plt.scatter(list(range(n-2)), [v for v, p in calc_primes(n)])\n",
    "    plt.show\n",
    "    \n",
    "scatter_primes(10)"
   ]
  },
  {
   "cell_type": "code",
   "execution_count": 88,
   "id": "7f603c5e",
   "metadata": {},
   "outputs": [
    {
     "data": {
      "text/plain": [
       "'[\\n    funz(x)\\n    for x in insieme\\n    if x condizione \\n]'"
      ]
     },
     "execution_count": 88,
     "metadata": {},
     "output_type": "execute_result"
    }
   ],
   "source": [
    "#Altro modo per scrivere in maniera più visibile una list comprehension\n",
    "\n",
    "'''[\n",
    "    funz(x)\n",
    "    for x in insieme\n",
    "    if x condizione \n",
    "]'''"
   ]
  },
  {
   "cell_type": "code",
   "execution_count": 108,
   "id": "d9e4e9fd",
   "metadata": {},
   "outputs": [
    {
     "data": {
      "image/png": "[encoded data removed]",
      "text/plain": [
       "<Figure size 640x480 with 1 Axes>"
      ]
     },
     "metadata": {},
     "output_type": "display_data"
    }
   ],
   "source": [
    "def scatter_primes(n):\n",
    "    #plt.scatter(list(range(n-2)), [v for v, p in calc_primes(n)])\n",
    "    for x, el in enumerate(calc_primes(n)):\n",
    "        if el[1]:\n",
    "            plt.scatter(x, el[0], color = 'red')\n",
    "        else:\n",
    "            plt.scatter(x, el[0], color = 'blue')\n",
    "        \n",
    "    plt.show\n",
    "    \n",
    "scatter_primes(20)"
   ]
  },
  {
   "cell_type": "code",
   "execution_count": 101,
   "id": "15e3d56f",
   "metadata": {},
   "outputs": [
    {
     "data": {
      "text/plain": [
       "[(0, (2, True)),\n",
       " (1, (3, None)),\n",
       " (2, (4, False)),\n",
       " (3, (5, True)),\n",
       " (4, (6, False)),\n",
       " (5, (7, True)),\n",
       " (6, (8, False)),\n",
       " (7, (9, True))]"
      ]
     },
     "execution_count": 101,
     "metadata": {},
     "output_type": "execute_result"
    }
   ],
   "source": [
    "list(enumerate(calc_primes(n)))"
   ]
  },
  {
   "cell_type": "code",
   "execution_count": 112,
   "id": "efd66697",
   "metadata": {},
   "outputs": [
    {
     "data": {
      "image/png": "[encoded data removed]",
      "text/plain": [
       "<Figure size 500x1000 with 1 Axes>"
      ]
     },
     "metadata": {},
     "output_type": "display_data"
    }
   ],
   "source": [
    "plt.rcParams['figure.figsize'] = (5,10) #per ingrandire a piacimento\n",
    "\n",
    "def scatter_primes(n):\n",
    "    plt.grid() #inserire la griglia\n",
    "    #plt.scatter(list(range(n-2)), [v for v, p in calc_primes(n)])\n",
    "    for x, el in enumerate(calc_primes(n)):\n",
    "        if el[1]:\n",
    "            plt.scatter(x, el[0], color = 'red')\n",
    "        else:\n",
    "            plt.scatter(x, el[0], color = 'blue')\n",
    "        \n",
    "    plt.show\n",
    "    \n",
    "scatter_primes(20)"
   ]
  },
  {
   "cell_type": "code",
   "execution_count": 117,
   "id": "fb04a1d6",
   "metadata": {},
   "outputs": [
    {
     "data": {
      "image/png": "[encoded data removed]",
      "text/plain": [
       "<Figure size 1800x200 with 1 Axes>"
      ]
     },
     "metadata": {},
     "output_type": "display_data"
    }
   ],
   "source": [
    "plt.rcParams['figure.figsize'] = (18,2) #per ingrandire a piacimento\n",
    "\n",
    "def scatter_primes(n):\n",
    "    plt.grid() #inserire la griglia\n",
    "    #plt.scatter(list(range(n-2)), [v for v, p in calc_primes(n)])\n",
    "    for x, el in enumerate(calc_primes(n)):\n",
    "        if el[1]:\n",
    "            plt.scatter( el[0],1, color = 'red') #ho messo la y=1\n",
    "        else:\n",
    "            plt.scatter(el[0],1, color = 'blue') #ho messo la y=1 \n",
    "        \n",
    "    plt.show()\n",
    "    \n",
    "scatter_primes(100)"
   ]
  },
  {
   "cell_type": "code",
   "execution_count": null,
   "id": "591e9bd3",
   "metadata": {},
   "outputs": [],
   "source": []
  }
 ],
 "metadata": {
  "kernelspec": {
   "display_name": "Python 3 (ipykernel)",
   "language": "python",
   "name": "python3"
  },
  "language_info": {
   "codemirror_mode": {
    "name": "ipython",
    "version": 3
   },
   "file_extension": ".py",
   "mimetype": "text/x-python",
   "name": "python",
   "nbconvert_exporter": "python",
   "pygments_lexer": "ipython3",
   "version": "3.10.7"
  }
 },
 "nbformat": 4,
 "nbformat_minor": 5
}
