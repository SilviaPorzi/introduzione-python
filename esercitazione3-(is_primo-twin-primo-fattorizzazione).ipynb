{
 "cells": [
  {
   "cell_type": "markdown",
   "id": "cd69b828",
   "metadata": {},
   "source": [
    "2. Scrivere una funzione che data una stringa $s$ ritorni una lista che contiene tutti gli indici e valori delle doppie in essa contenuti. Se la stringa non ne contenesse alcuno, ritornerà una stringa vuota."
   ]
  },
  {
   "cell_type": "code",
   "execution_count": 29,
   "id": "2d17868d",
   "metadata": {},
   "outputs": [
    {
     "name": "stdout",
     "output_type": "stream",
     "text": [
      "analisi sulla stringa conclusa\n"
     ]
    },
    {
     "data": {
      "text/plain": [
       "[('p', 2), ('c', 5), ('t', 8), ('s', 11), ('s', 12), ('s', 13), ('s', 14)]"
      ]
     },
     "execution_count": 29,
     "metadata": {},
     "output_type": "execute_result"
    }
   ],
   "source": [
    "\n",
    "doppie = []\n",
    "def indici_delle_doppie(s):\n",
    "    for i, v in enumerate(s): #ciclo su tutte le lettere\n",
    "        try:\n",
    "            if v ==s[i+1]:\n",
    "                doppie.append((v,i)) #appendi doppia e indice\n",
    "        except:\n",
    "            print('analisi sulla stringa conclusa')\n",
    "    return doppie\n",
    "\n",
    "#test:\n",
    "st = 'cappuccettosssss'\n",
    "indici_delle_doppie(st)"
   ]
  },
  {
   "cell_type": "code",
   "execution_count": 32,
   "id": "994f6cb2",
   "metadata": {},
   "outputs": [
    {
     "data": {
      "text/plain": [
       "[(1, 2), (2, 3), (4, 5)]"
      ]
     },
     "execution_count": 32,
     "metadata": {},
     "output_type": "execute_result"
    }
   ],
   "source": [
    "#altro metodo per appendere altri oggetti alle liste\n",
    "l = [(1,2), (2,3)]\n",
    "l += [(4,5)]\n",
    "l"
   ]
  },
  {
   "cell_type": "markdown",
   "id": "72550af8",
   "metadata": {},
   "source": [
    "3. a) scrivere una funzione is_primo(n) -> ritorna True o False dipendentemente dal fatto che n sia primo o meno. b) scrivere una funzione twin_prime(n1, n2) che ritorna True o False se n1, n2 sono \"primi gemelli\" (wikipedia)\n",
    "\n",
    "4. dato un intero $n$, ritornare una lista di tuple che contengono la fattorizzazione di $n$"
   ]
  },
  {
   "cell_type": "code",
   "execution_count": 1,
   "id": "bb7dabf5",
   "metadata": {},
   "outputs": [],
   "source": [
    "def is_primo(n):\n",
    "    i=2\n",
    "    if n == 1 or n ==2:\n",
    "        return True\n",
    "    while i <= n/2:\n",
    "        if n%i == 0:\n",
    "            return False\n",
    "            i += 1\n",
    "        else:\n",
    "            return True\n",
    "            \n",
    "        \n",
    "#test\n",
    "is_primo(30)\n",
    "\n",
    "#def più compatta:\n",
    "def is_primo(n):\n",
    "    return[x for x in range(2,n) if n%x == 0] == []"
   ]
  },
  {
   "cell_type": "code",
   "execution_count": 2,
   "id": "cdaed7be",
   "metadata": {},
   "outputs": [],
   "source": [
    "def twin_prime(n,m):\n",
    "    if is_primo(n) == False or is_primo(m) == False:\n",
    "        return False\n",
    "    else:\n",
    "        if abs(n-m) == 2:\n",
    "            return True\n",
    "        else:\n",
    "            return False\n",
    "        \n",
    "#test\n",
    "twin_prime(5,7)\n",
    "\n",
    "#scrittura più compatta:\n",
    "def twin_primo(n1,n2):\n",
    "        return is_primo(n1) and is_primo(n2) and abs(n1-n2) == 2"
   ]
  },
  {
   "cell_type": "code",
   "execution_count": 3,
   "id": "63bc044b",
   "metadata": {},
   "outputs": [],
   "source": [
    "def genera_primi(n): #esce tutti i numeri primi minori di n\n",
    "    res = []\n",
    "    for i in range(2,n): \n",
    "        if is_primo(i):\n",
    "            res.append(i)\n",
    "    return res\n",
    "\n",
    "#scrittura più compatta:\n",
    "def genera_primi(n):\n",
    "    return[x for x in range(2,n) if is_primo(x)]"
   ]
  },
  {
   "cell_type": "code",
   "execution_count": 5,
   "id": "1fea044d",
   "metadata": {},
   "outputs": [
    {
     "data": {
      "text/plain": [
       "[[2, 1], [5, 2]]"
      ]
     },
     "execution_count": 5,
     "metadata": {},
     "output_type": "execute_result"
    }
   ],
   "source": [
    "def fattori(n):\n",
    "    fattori = genera_primi(n)\n",
    "    if is_primo(n):\n",
    "        return(1,n) #la funzione return serve per uscire dalla funzione quindi non occorre mettere l'else\n",
    "    \n",
    "    res = [] #lista dove mettere i fattori\n",
    "    resto = n\n",
    "    for f in fattori:\n",
    "        temp = [f, 0] #fattore che usiamo lo salviamo in questa variabile\n",
    "        while resto%f == 0:\n",
    "            resto = resto/f \n",
    "            temp = [f, temp[1]+1]\n",
    "        if temp[1] != 0:\n",
    "            res.append(temp)\n",
    "    return res\n",
    "\n",
    "#testiamo:\n",
    "fattori(50)\n",
    "fattori(50)"
   ]
  },
  {
   "cell_type": "markdown",
   "id": "e3fc2997",
   "metadata": {},
   "source": [
    "Lista che contiene tutti i numeri da 2 a n e che mi dica se è primo o meno:\n",
    "[(2,True), (3,True),(4,False),...,(n,?)]"
   ]
  },
  {
   "cell_type": "code",
   "execution_count": 92,
   "id": "6991bae6",
   "metadata": {},
   "outputs": [
    {
     "data": {
      "text/plain": [
       "[(2, True),\n",
       " (3, None),\n",
       " (4, False),\n",
       " (5, True),\n",
       " (6, False),\n",
       " (7, True),\n",
       " (8, False),\n",
       " (9, True)]"
      ]
     },
     "execution_count": 92,
     "metadata": {},
     "output_type": "execute_result"
    }
   ],
   "source": [
    "def calc_primes(n):\n",
    "    return [(x, is_primo(x)) for x in range(2,n)]\n",
    "\n",
    "calc_primes(10)"
   ]
  },
  {
   "cell_type": "code",
   "execution_count": null,
   "id": "cc4ae980",
   "metadata": {},
   "outputs": [],
   "source": []
  }
 ],
 "metadata": {
  "kernelspec": {
   "display_name": "Python 3 (ipykernel)",
   "language": "python",
   "name": "python3"
  },
  "language_info": {
   "codemirror_mode": {
    "name": "ipython",
    "version": 3
   },
   "file_extension": ".py",
   "mimetype": "text/x-python",
   "name": "python",
   "nbconvert_exporter": "python",
   "pygments_lexer": "ipython3",
   "version": "3.10.7"
  }
 },
 "nbformat": 4,
 "nbformat_minor": 5
}
