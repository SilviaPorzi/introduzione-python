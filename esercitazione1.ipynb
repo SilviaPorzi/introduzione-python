{
 "cells": [
  {
   "cell_type": "markdown",
   "id": "3856eab3",
   "metadata": {},
   "source": [
    "# Esercizio 01\n",
    "Data una stringa “s” contare il numero di doppie presenti:\n",
    "\n",
    "ESEMPIO:\n",
    "\n",
    "s = “aeiou” $\\rightarrow$ 0\n",
    "\n",
    "s = “tutto” $\\rightarrow$ 1\n",
    "\n",
    "s = “ttatt” $\\rightarrow$ 2\n"
   ]
  },
  {
   "cell_type": "code",
   "execution_count": 1,
   "id": "0f0cb406",
   "metadata": {},
   "outputs": [
    {
     "name": "stdout",
     "output_type": "stream",
     "text": [
      "0\n",
      "1\n",
      "2\n"
     ]
    }
   ],
   "source": [
    "s1 = 'aeiou'  \n",
    "\n",
    "s2 = 'tutto' \n",
    "\n",
    "s3 = 'ttatt' \n",
    "\n",
    "conta=0\n",
    "for i in range(len(s1)-1):\n",
    "    if s1[i] == 't':\n",
    "        if s1[i+1] == 't':\n",
    "            conta = conta+1\n",
    "print(conta)\n",
    "\n",
    "\n",
    "conta=0\n",
    "for i in range(len(s2)-1):\n",
    "    if s2[i] == 't':\n",
    "        if s2[i+1] == 't':\n",
    "            conta = conta+1\n",
    "print(conta)\n",
    "\n",
    "\n",
    "conta=0\n",
    "for i in range(len(s3)-1):\n",
    "    if s3[i] == 't':\n",
    "        if s3[i+1] == 't':\n",
    "            conta = conta+1\n",
    "print(conta)\n"
   ]
  },
  {
   "cell_type": "markdown",
   "id": "0fe762d5",
   "metadata": {},
   "source": [
    "# Esercizio 02\n",
    "1) Creare un dizionario con le seguenti entries:\n",
    "\n",
    "    “cane”: “domestico”\n",
    "\n",
    "    “gatto”: “domestico”\n",
    "\n",
    "    “leopardo”: “selvatico”\n",
    "\n",
    "    “zebra”:selvatico”\n",
    "\n",
    "\n",
    "2) Creare una struttura che rovescia il dizionario e che risulti in un nuovo dizionario con i seguenti elementi:\n",
    "\n",
    "    “domestico”: [“cane”, “gatto”]\n",
    "\n",
    "    “selvatico”: [“leopardo”, “zebra”]\n"
   ]
  },
  {
   "cell_type": "code",
   "execution_count": 2,
   "id": "35f3c187",
   "metadata": {},
   "outputs": [
    {
     "name": "stdout",
     "output_type": "stream",
     "text": [
      "{'domestico': ['cane', 'gatto'], 'selvatico': ['leopardo', 'zebra']}\n"
     ]
    }
   ],
   "source": [
    "dizio = {\n",
    "    'cane':'domestico',\n",
    "    'gatto':'domestico',\n",
    "    'leopardo':'selvatico',\n",
    "    'zebra':'selvatico'  \n",
    "}\n",
    "#print(dizio.items(), type(dizio.items()))\n",
    "\n",
    "dizio_inv = dict()\n",
    "for chiave, valore in dizio.items():\n",
    "    if valore not in dizio_inv.keys():\n",
    "        dizio_inv[valore]=list()\n",
    "    dizio_inv[valore].append(chiave)\n",
    "print(dizio_inv) \n",
    "        "
   ]
  },
  {
   "cell_type": "markdown",
   "id": "7623556a",
   "metadata": {},
   "source": [
    "# Esercizio 03\n",
    "\n",
    "Dato l’elenco città sotto forma di dizionario uguale a quello che abbiamo visto nell’esercizio:\n",
    "elenco_citta = dict()\n",
    "\n",
    "\n",
    "1) Utilizza come identificativo la chiave per salvare il valore\n",
    "    elenco_citta['Roma'] = 'Francia'\n",
    "\n",
    "2) Sovrascrivendo il valore corrispondente ad una chiave esistente verrà effettuata la sostituzione\n",
    "    elenco_citta['Roma'] = 'Italia'\n",
    "    elenco_citta['Napoli'] = 'Italia'\n",
    "    elenco_citta['Barcelona'] = 'Spagna'\n",
    "    print(elenco_citta)\n",
    "\n",
    "3) Creare una lista dei soli nomi dei PAESI corrispondenti alle città che contengono la lettera “R” sia minuscola che maiuscola in modo tale che le lettere dei paesi siano invertite e che la prima lettera del paese sia maiuscola (mentre tutte le altre minuscole).\n",
    "\n",
    "    SOLUZIONI:\n",
    "    R è in Roma ed in Barcelona\n",
    "    \n",
    "    lista dei paesi: [Italia, Spagna]\n",
    "    \n",
    "    invertiamo le stringhe\n",
    "        [ailatI, angapS]\n",
    "        \n",
    "    mettiamo a posto i caratteri maiuscoli e minuscoli come richiesto\n",
    "        [Ailati, Angaps]\n"
   ]
  },
  {
   "cell_type": "code",
   "execution_count": 3,
   "id": "e8facbe1",
   "metadata": {},
   "outputs": [
    {
     "name": "stdout",
     "output_type": "stream",
     "text": [
      "{'Roma': 'Francia', 'Napoli': 'Italia', 'Barcelona': 'Spagna'}\n",
      "['Italia', 'Spagna']\n",
      "Italia Spagna\n",
      "Angaps ailati\n"
     ]
    }
   ],
   "source": [
    "elenco_citta = dict() \n",
    "\n",
    "elenco_citta = {\n",
    "    'Roma' : 'Francia',\n",
    "    'Napoli' : 'Italia',\n",
    "    'Barcelona' : 'Spagna'\n",
    "}\n",
    "\n",
    "print(elenco_citta)\n",
    "\n",
    "elenco_citta['Roma'] = 'Italia'\n",
    "elenco_citta['Napoli'] = 'Italia'\n",
    "elenco_citta['Barcelona'] = 'Spagna'\n",
    "\n",
    "lista_solo_rR = [elenco_citta[citta] for citta in elenco_citta.keys() if 'r' in citta or 'R' in citta ]\n",
    "print(lista_solo_rR)\n",
    "\n",
    "str_citta = ' '.join(lista_solo_rR) #trasformo la lista appena creata in stringa\n",
    "print(str_citta)\n",
    "str_citta_inv = str_citta[::-1] #inverto la stringa\n",
    "str_citta_inv_min = str_citta_inv.lower() #tutte minuscole\n",
    "str_citta_inv_min.capitalize() #metto maiuscola sulla prima lettera\n",
    "print(str_citta_inv_min.capitalize())"
   ]
  },
  {
   "cell_type": "code",
   "execution_count": null,
   "id": "d55fd5c7",
   "metadata": {},
   "outputs": [],
   "source": []
  }
 ],
 "metadata": {
  "kernelspec": {
   "display_name": "Python 3 (ipykernel)",
   "language": "python",
   "name": "python3"
  },
  "language_info": {
   "codemirror_mode": {
    "name": "ipython",
    "version": 3
   },
   "file_extension": ".py",
   "mimetype": "text/x-python",
   "name": "python",
   "nbconvert_exporter": "python",
   "pygments_lexer": "ipython3",
   "version": "3.10.7"
  }
 },
 "nbformat": 4,
 "nbformat_minor": 5
}
