{
 "cells": [
  {
   "cell_type": "markdown",
   "id": "b3cddc90",
   "metadata": {},
   "source": [
    "## Gestione dei flussi \"eccezionali\"\n",
    "### Gestione diversificata degli \"errori\"\n"
   ]
  },
  {
   "cell_type": "markdown",
   "id": "69948b47",
   "metadata": {},
   "source": [
    "A livello di classificazione, all'interno di un programma informatico, si possono identificare generalmente 3 macrocategorie di eccezioni ovvero eventi che portano alla mancata esecuzione corretta di un programma. \n",
    "\n",
    "1. Eccezioni che avvengono a \"Runtime\"\n",
    "2. Eccezioni programmatiche\n",
    "3. Eccezioni sistemiche\n"
   ]
  },
  {
   "cell_type": "markdown",
   "id": "39f24b23",
   "metadata": {},
   "source": [
    "## 1. Eccezioni che avvengono a \"Runtime\"\n",
    "Non possono essere previste prima dell'esecuzione del programma poiché avvengono secondo lo stato raggiunto dal programma \"a runtime\" ( cioè in esecuzione).\n",
    "\n",
    "Ad esempio: le divisioni per zero (queste possono diventare anche programmatiche se ci si accorge prima); NameError (ovvero richiamare una funzione con un nome per cui non è stata definita) ; accesso ad una variabile \"None\" (ovvero una variabile che è stata dichiarata ma non inizializzata) $\\rightarrow$ AttributeError"
   ]
  },
  {
   "cell_type": "markdown",
   "id": "9a7c3e18",
   "metadata": {},
   "source": [
    "## 2. Eccezioni programmatiche\n",
    "Sono eccezioni che possono essere previste ( e quindi si tende ad includerle in blocchi try-except).\n",
    "\n",
    "Ad esempio: il nostro programma python legge da un file sul desktop $\\rightarrow$ il file non è presente (quando si fa una lettura si tende a mettere il blocco di lettura in un try); "
   ]
  },
  {
   "cell_type": "markdown",
   "id": "8e6d6ab5",
   "metadata": {},
   "source": [
    "## 3. Eccezioni Sistemiche\n",
    "La natura di queste eccezioni non è dovuta al codice! Mancata compatibilità con i sistemi (ad es. hardware).\n",
    "\n",
    "Ad esempio: installazione di un programma che ha bisogno di 100MB di RAM su una macchina che ha 32MB di RAM."
   ]
  },
  {
   "cell_type": "markdown",
   "id": "c655670b",
   "metadata": {},
   "source": [
    "Ricordiamo che le eccezioni sistemiche non vengono rilevate dall'esecutore del codice (ad es. dall'interprete python), bensì sono rilevate a livello di sistema.\n",
    "\n",
    "Ad esempio: è molto probabile che ottenendo un \"errore di Kernel\" nel notebook, non verrà segnalato mostrando la \"stack trace\" (o \"Traceback\").\n",
    "\n",
    "Inoltre, un errore sistemico verrà segnalato molto probabilmente nel prompt dei comandi usato per avviare il noteboook"
   ]
  },
  {
   "cell_type": "code",
   "execution_count": 4,
   "id": "17166911",
   "metadata": {},
   "outputs": [
    {
     "name": "stdout",
     "output_type": "stream",
     "text": [
      "Non si può dividere per zero\n"
     ]
    }
   ],
   "source": [
    "try:\n",
    "    2/0\n",
    "except:\n",
    "    print('Non si può dividere per zero')"
   ]
  },
  {
   "cell_type": "code",
   "execution_count": 5,
   "id": "fe03d0dc",
   "metadata": {},
   "outputs": [
    {
     "name": "stdout",
     "output_type": "stream",
     "text": [
      "fail: impossibile dividere per 0\n"
     ]
    }
   ],
   "source": [
    "try:\n",
    "    fattoriale(10)\n",
    "    2/0\n",
    "except ZeroDivisionError:\n",
    "    print('fail: impossibile dividere per 0')\n",
    "except RecursionError:\n",
    "    print('fail: fattoriale ricorsivo supera i limiti di memoria')"
   ]
  },
  {
   "cell_type": "markdown",
   "id": "8f01fe3c",
   "metadata": {},
   "source": [
    "Si può specificare il tipo di errore e si può inserire nell'except"
   ]
  },
  {
   "cell_type": "markdown",
   "id": "4a047cb4",
   "metadata": {},
   "source": [
    "## Funzioni\n",
    "### Ricorsione\n",
    "Tecnica che prevede che una funzione chiami se stessa"
   ]
  },
  {
   "cell_type": "code",
   "execution_count": 33,
   "id": "4cc8e8a7",
   "metadata": {
    "scrolled": true
   },
   "outputs": [
    {
     "name": "stdout",
     "output_type": "stream",
     "text": [
      "2424858401169875856987549316530261243529336396354700842715749979460646110058233651782392648030625575890603295838549136086203631494904372698578181999057212055535785846413969420066573092861481554378165635499319577948946469878800693106187103360224139995239288292467274991657581799887960732860730465294056429604010675825650845592134295845654185424392132561718318353026455262912039002664120813132000602020151818744862796534620281615341820385425346251471878908201301227337883132211649086124629581129201309548248991126780745470297556208250525153383428851713805456555419758707284753260768805845944423382917543868035509410367649517977378961396490420583560768554085728596839435423979501005167390976056828737759722931049053051870481354220566751757226315251920734049093559363656820097662644345104685665152444697669009659982518091310671058073959926600845011866653850725006741331610135998770449096045426206531544154144601729043078225608136613193686346346764203375001081246967670378990121777385901921245133042374777487279240176076181929206652760242551593468206588418766183401939736514661022447416367789422605988204789848476655904174023752533626768590363300938231129606313365312387913130971900390208938471907315110717317435321123464794906710193916413838207147074458529525935478113361841325520841044346267628381902449941524896332350384902526765982148700924154884023605222691782597459599121027544229955922681404443327840648118042191399221650956164672857148227101451532445295161873221075926687151309815858723796054292521542311108190618276056103071140889723197707702368244847779594197140241112042128900654662720100758519336991189420021569389659862373674109453168227154296233208845394442627758282640964050502230911632608683569869755423400072413157317525410032842653580093887735517690412593258359388487289802270353135756659547954667344672901471048389223259683469006995762263469036620522300662493285722212048473141061111827211648276284983691538501299996459350066613212712170474963890532178735800245974574640904674554123815017979113627519922145830691096868313633320304359164703825903963661604335411773033078697699311892617463175229334854531701631075383899708905233041291527887059381689504636267968336033244928031019352467588242769652345533099117594059102256248189810284600657855707971881794779733938869280438373216606816889288287015049782284899585369920877745590840887712363661997881545433844629800189205229597440143179700162824702134957418586285920953284900382720017357876988767296282790084172114532622647998154080918863914038958583660595208167281479883677535909771428614756103440615905873310606657147769597200148222567970379939256596381142850272187439045199365546037482887333248526026065549397730475314476322168067523034600032867511743419691437003992038152628324659432676263448764134014429405489180634364519282138519962363193701386950109467042340571843977537752976341094127822030600936793871334872293490903117072170466054983434825167266916722980296391441044563178977701723309785609111259614474247364528550386532388327264689711775604664427340228901835597557029992960492192464058200400988909295153551200837397817601282679220611104173652358509007521101053095620748168997861050130023817703319787079095235833374426177514286578246903083415169109359323812741314724620593271262917265094024216337214863533448529254632599541703878619604512594846124252613960262726215219134672211844311020666195270036284140614857902974771290503656870984782590335117218368984797972576852801418834170795097602013208317371156612874344638041764532057542786831351076365498540443813006372421380736034740771076764178132559828434447544678633583005046265334346831012385703067191550416222980088761154519553974935287498676582754658553261232252765802371799256016444945115393409561160793126126735836975302341046431089640850574341354122545220831810806852068691732327187184240511538962440151159519314143893886850233861037997459199145386272154940965985357257552760909210073432064000000000000000000000000000000000000000000000000000000000000000000000000000000000000000000000000000000000000000000000000000000000000000000000000000000000000000000000000000000000000000000000000000000000000000000000000000000000000000000000000000000000000000000000000000000000000000000000000000000000000000000000000000000000000000000000000000000000000000000000000000000000000000000000000000\n",
      " \n",
      "Le chiamate a funzione ricorsive hanno superato i limiti di memoria per la rappresentazione del numero \n",
      " \n",
      "---------------------------------------------------------------------------\n",
      "ValueError                                Traceback (most recent call last)\n",
      "Cell In [29], line 13\n",
      "\n",
      "---> 13 print(fattoriale(1559))\n",
      "\n",
      "ValueError: Exceeds the limit (4300) for integer string conversion\n"
     ]
    }
   ],
   "source": [
    "#Scrivere una funzione che dato un intero>0 ritorni il fattoriale\n",
    "#per n -> 1*2*3*...*n = n*(n-1)* .... * 2*1\n",
    "def fattoriale(n):\n",
    "    if n < 2:\n",
    "        return 1 #non c'è bisogno di else perché c'è già il return che fa uscire\n",
    "    return n*fattoriale(n-1)\n",
    "\n",
    "#test\n",
    "fattoriale(3)\n",
    "print(fattoriale(1558))\n",
    "\n",
    "try:\n",
    "    print(fattoriale(1559))\n",
    "except:\n",
    "    print(' ')\n",
    "    print('Le chiamate a funzione ricorsive hanno superato i limiti di memoria per la rappresentazione del numero convertito in stringhe')\n",
    "    print(' ')\n",
    "    print('''---------------------------------------------------------------------------\n",
    "ValueError                                Traceback (most recent call last)\n",
    "Cell In [29], line 13\n",
    "\n",
    "---> 13 print(fattoriale(1559))\n",
    "\n",
    "ValueError: Exceeds the limit (4300) for integer string conversion''')"
   ]
  },
  {
   "cell_type": "markdown",
   "id": "94d78835",
   "metadata": {},
   "source": [
    "Potrebbe esserci un \"Recursion Error\" se il numero di ricorsioni è troppo elevato. \n",
    "\n",
    "\"Recursion Error\" : maximum recursion depth exceeded in comparison \n",
    "\n",
    "In questo caso ho un \"Value Error\": Exceeds the limit (4300) for integer string conversion \n",
    "ovvero non ho abbastanza memoria per rappresentare un numero più lungo di quell ocon 4300 cifre"
   ]
  },
  {
   "cell_type": "code",
   "execution_count": 34,
   "id": "389a6e7f",
   "metadata": {},
   "outputs": [
    {
     "data": {
      "text/plain": [
       "4300"
      ]
     },
     "execution_count": 34,
     "metadata": {},
     "output_type": "execute_result"
    }
   ],
   "source": [
    "len('2424858401169875856987549316530261243529336396354700842715749979460646110058233651782392648030625575890603295838549136086203631494904372698578181999057212055535785846413969420066573092861481554378165635499319577948946469878800693106187103360224139995239288292467274991657581799887960732860730465294056429604010675825650845592134295845654185424392132561718318353026455262912039002664120813132000602020151818744862796534620281615341820385425346251471878908201301227337883132211649086124629581129201309548248991126780745470297556208250525153383428851713805456555419758707284753260768805845944423382917543868035509410367649517977378961396490420583560768554085728596839435423979501005167390976056828737759722931049053051870481354220566751757226315251920734049093559363656820097662644345104685665152444697669009659982518091310671058073959926600845011866653850725006741331610135998770449096045426206531544154144601729043078225608136613193686346346764203375001081246967670378990121777385901921245133042374777487279240176076181929206652760242551593468206588418766183401939736514661022447416367789422605988204789848476655904174023752533626768590363300938231129606313365312387913130971900390208938471907315110717317435321123464794906710193916413838207147074458529525935478113361841325520841044346267628381902449941524896332350384902526765982148700924154884023605222691782597459599121027544229955922681404443327840648118042191399221650956164672857148227101451532445295161873221075926687151309815858723796054292521542311108190618276056103071140889723197707702368244847779594197140241112042128900654662720100758519336991189420021569389659862373674109453168227154296233208845394442627758282640964050502230911632608683569869755423400072413157317525410032842653580093887735517690412593258359388487289802270353135756659547954667344672901471048389223259683469006995762263469036620522300662493285722212048473141061111827211648276284983691538501299996459350066613212712170474963890532178735800245974574640904674554123815017979113627519922145830691096868313633320304359164703825903963661604335411773033078697699311892617463175229334854531701631075383899708905233041291527887059381689504636267968336033244928031019352467588242769652345533099117594059102256248189810284600657855707971881794779733938869280438373216606816889288287015049782284899585369920877745590840887712363661997881545433844629800189205229597440143179700162824702134957418586285920953284900382720017357876988767296282790084172114532622647998154080918863914038958583660595208167281479883677535909771428614756103440615905873310606657147769597200148222567970379939256596381142850272187439045199365546037482887333248526026065549397730475314476322168067523034600032867511743419691437003992038152628324659432676263448764134014429405489180634364519282138519962363193701386950109467042340571843977537752976341094127822030600936793871334872293490903117072170466054983434825167266916722980296391441044563178977701723309785609111259614474247364528550386532388327264689711775604664427340228901835597557029992960492192464058200400988909295153551200837397817601282679220611104173652358509007521101053095620748168997861050130023817703319787079095235833374426177514286578246903083415169109359323812741314724620593271262917265094024216337214863533448529254632599541703878619604512594846124252613960262726215219134672211844311020666195270036284140614857902974771290503656870984782590335117218368984797972576852801418834170795097602013208317371156612874344638041764532057542786831351076365498540443813006372421380736034740771076764178132559828434447544678633583005046265334346831012385703067191550416222980088761154519553974935287498676582754658553261232252765802371799256016444945115393409561160793126126735836975302341046431089640850574341354122545220831810806852068691732327187184240511538962440151159519314143893886850233861037997459199145386272154940965985357257552760909210073432064000000000000000000000000000000000000000000000000000000000000000000000000000000000000000000000000000000000000000000000000000000000000000000000000000000000000000000000000000000000000000000000000000000000000000000000000000000000000000000000000000000000000000000000000000000000000000000000000000000000000000000000000000000000000000000000000000000000000000000000000000000000000000000000000000')"
   ]
  },
  {
   "cell_type": "code",
   "execution_count": 3,
   "id": "835610d1",
   "metadata": {},
   "outputs": [
    {
     "name": "stdout",
     "output_type": "stream",
     "text": [
      "4\n",
      "3\n",
      "2\n",
      "1\n",
      "10\n",
      "9\n",
      "8\n",
      "7\n",
      "6\n",
      "5\n",
      "4\n",
      "3\n",
      "2\n",
      "1\n"
     ]
    }
   ],
   "source": [
    "def conta_ric(n):\n",
    "    if n > 0:\n",
    "        print(n)\n",
    "        conta_ric(n-1) \n",
    "#non abbiamo bisogno di un return perche print stampa direttamente in consolle ( quindi non ritorna nulla)\n",
    "       \n",
    "#test        \n",
    "conta_ric(4)\n",
    "conta_ric(10)"
   ]
  },
  {
   "cell_type": "code",
   "execution_count": 4,
   "id": "38942a67",
   "metadata": {
    "scrolled": true
   },
   "outputs": [
    {
     "name": "stdout",
     "output_type": "stream",
     "text": [
      "4\n",
      "3\n",
      "2\n",
      "1\n"
     ]
    }
   ],
   "source": [
    "def conta_ciclo(n):\n",
    "    while n > 0:\n",
    "        print(n)\n",
    "        n -= 1\n",
    "\n",
    "#test\n",
    "conta_ciclo(4)"
   ]
  },
  {
   "cell_type": "code",
   "execution_count": 5,
   "id": "26f33f95",
   "metadata": {},
   "outputs": [
    {
     "data": {
      "text/plain": [
       "function"
      ]
     },
     "execution_count": 5,
     "metadata": {},
     "output_type": "execute_result"
    }
   ],
   "source": [
    "type(conta_ric)"
   ]
  },
  {
   "cell_type": "markdown",
   "id": "d310e7c9",
   "metadata": {},
   "source": [
    "Le funzioni possono ritornare più di un valore, in questo caso possiamo fare un assegnamento \"multiplo\" a variabili"
   ]
  },
  {
   "cell_type": "code",
   "execution_count": 8,
   "id": "a32a1324",
   "metadata": {},
   "outputs": [
    {
     "name": "stdout",
     "output_type": "stream",
     "text": [
      "(['ciao', 'a', 'tutti'], 3)\n",
      "['ciao', 'a', 'tutti'] 3\n"
     ]
    }
   ],
   "source": [
    "def ritorno_doppio():\n",
    "    return['ciao', 'a', 'tutti'], 3\n",
    "print(ritorno_doppio()) #stampa un valore (di tipo tupla)\n",
    "\n",
    "#unpacking\n",
    "l,n = ritorno_doppio()\n",
    "\n",
    "print(l,n) #stampa i due valori dei corrispettivi tipi"
   ]
  },
  {
   "cell_type": "markdown",
   "id": "1f83fd92",
   "metadata": {},
   "source": [
    "Una funzione ammette multipli parametri in ingresso (argomenti).\n",
    "Alcuni argomenti possono essere \"facoltativi\" e devono essere messi dopo gli argomenti obbligatori!!"
   ]
  },
  {
   "cell_type": "code",
   "execution_count": 19,
   "id": "e7315675",
   "metadata": {},
   "outputs": [
    {
     "data": {
      "text/plain": [
       "\"\\ntry:\\n    def somma_2(n1=0, n2, n3)\\n        return n1+n2+n3\\nexcept:\\n   print('non posso definire argomenti facoltativi prima di argomenti obbligatori')\\n\\nATTENZIONE DOPPIA! Gli errori di sintassi vengono mostrati come output. \\nSyntaxError è tuttavia una tipologia di errore speciale che non può erre controllata in blocchi try -except\""
      ]
     },
     "execution_count": 19,
     "metadata": {},
     "output_type": "execute_result"
    }
   ],
   "source": [
    "def somma(n1, n2, n3=0): #assegno al terzo parametro (quello facoltativo) un valore di default cosicche poi posso richiamarla anche con soli 2 valori\n",
    "    return n1 +n2 + n3\n",
    "\n",
    "somma(1,2)\n",
    "\n",
    "\"\"\"\n",
    "try:\n",
    "    def somma_2(n1=0, n2, n3)\n",
    "        return n1+n2+n3\n",
    "except:\n",
    "   print('non posso definire argomenti facoltativi prima di argomenti obbligatori')\n",
    "\n",
    "ATTENZIONE DOPPIA! Gli errori di sintassi vengono mostrati come output. \n",
    "SyntaxError è tuttavia una tipologia di errore speciale che non può erre controllata in blocchi try -except\"\"\"    \n",
    "    \n",
    "#somma_2(1,2) produce un SyntaxError!!!\n",
    "#non si può mettere in un blocco try perché "
   ]
  },
  {
   "cell_type": "markdown",
   "id": "23fd6550",
   "metadata": {},
   "source": [
    "Conoscendo la definizione della funzione che stiamo chiamando, è possibile usare esplicitamente i nomi degli argomenti come mostrato nell'esempio seguente:"
   ]
  },
  {
   "cell_type": "code",
   "execution_count": 22,
   "id": "62ba3a3f",
   "metadata": {},
   "outputs": [
    {
     "name": "stdout",
     "output_type": "stream",
     "text": [
      "n1: 1 n2: 2 n3: 3\n",
      "6\n"
     ]
    }
   ],
   "source": [
    "def somma(n1, n2, n3=0):\n",
    "    print('n1:', n1,'n2:', n2,'n3:', n3)\n",
    "    return n1 +n2 + n3\n",
    "print(somma(n3=3, n2=2,n1=1))"
   ]
  },
  {
   "cell_type": "markdown",
   "id": "283b0672",
   "metadata": {},
   "source": [
    "### Passaggio di parametri avanzato\n",
    "A volte si può avere la necessità di definire una funzione che prende in ingresso un elenco di parametri non noti a priori. \n",
    "\n",
    "Utilizzando il simbolo `*` si può trasformare un elenco di argomenti in una tupla (identificata da un solo nome di variabile) che può essere iterata."
   ]
  },
  {
   "cell_type": "code",
   "execution_count": 126,
   "id": "e72da105",
   "metadata": {},
   "outputs": [
    {
     "name": "stdout",
     "output_type": "stream",
     "text": [
      "<class 'tuple'>\n",
      "<class 'tuple'>\n"
     ]
    },
    {
     "data": {
      "text/plain": [
       "3"
      ]
     },
     "execution_count": 126,
     "metadata": {},
     "output_type": "execute_result"
    }
   ],
   "source": [
    "def somma_indefiniti_termini(*termini):\n",
    "    print(type(termini))\n",
    "    s = 0\n",
    "    for numero in termini:\n",
    "        s += n\n",
    "    return s\n",
    "\n",
    "#test\n",
    "somma_indefiniti_termini(2,3,4,5,6,7,2,4,4,4,2,4)\n"
   ]
  },
  {
   "cell_type": "markdown",
   "id": "7d9fb2a0",
   "metadata": {},
   "source": [
    "Il simbolo `**` trasforma un elenco di argomenti in un dizionario.\n",
    "\n",
    "è da notare che per usare `**` in un argomento, i valori passati alla funzione devono essere per forza nominati esplicitamente."
   ]
  },
  {
   "cell_type": "code",
   "execution_count": 33,
   "id": "49a484e5",
   "metadata": {},
   "outputs": [
    {
     "name": "stdout",
     "output_type": "stream",
     "text": [
      "{'key_1': 'value_1', 'key_2': 'value_2', 'key_3': 'value_3', 'key_4': 'value_4'}\n",
      "('key_1', 'value_1')\n",
      "('key_2', 'value_2')\n",
      "('key_3', 'value_3')\n",
      "('key_4', 'value_4')\n"
     ]
    }
   ],
   "source": [
    "#def crea_dict(k1,v1,k2,v2):\n",
    "def crea_dict(**termini):\n",
    "    print(termini)\n",
    "    for i in termini.items():\n",
    "        print(i)\n",
    "    \n",
    "    \n",
    "crea_dict(key_1= 'value_1',key_2='value_2',key_3='value_3',key_4='value_4')"
   ]
  },
  {
   "cell_type": "markdown",
   "id": "290476ef",
   "metadata": {},
   "source": [
    "### Perché è utile usare l'operatore `*`\n",
    "In alcuni casi non si può conoscere a priori il numero di parametri che possono essere passati ad una certa funzione (e ci sono casi in cui non c'è neanche bisogno di saperlo). In questo caso non si possono esplicitare gli argomenti nella definizione della funzione stessa ed è così utile utilizzare la sintassi `*` o `**` davanti all'argomento passato alla funzione.\n",
    "\n",
    "Se si mette il simbolo `*` davanti al nome della variabile passata per argomento della funzione, essa sarà trasformata in una tupla che potrà essere successivamente iterata nel corpo della funzione.\n",
    "\n",
    "$def somma(*termini) \\\\\n",
    "somma(2,5,9) \\rightarrow termini = (2,5,9)\\\\\n",
    "somma(4,7,10,52) \\rightarrow termini = (4,7,10,52)$\n",
    "\n",
    "Se, invece si mette il simbolo `**` davanti al nome della variabile passata per argomento della funzione, essa sarà trasformata un dizionario"
   ]
  },
  {
   "cell_type": "code",
   "execution_count": 45,
   "id": "006135ce",
   "metadata": {},
   "outputs": [
    {
     "name": "stdout",
     "output_type": "stream",
     "text": [
      "1\n",
      "3\n",
      "5\n",
      "7\n",
      "a\n",
      "[2, 4, 1]\n",
      "3\n",
      "1 3 5 7\n",
      "1 3 5 7 a [2, 4, 1] 3 "
     ]
    }
   ],
   "source": [
    "# esempio di uso di *\n",
    "def stampa(*argomenti): #stampa argomenti uno sotto l'altro\n",
    "    for a in argomenti:\n",
    "        print(a)\n",
    "        \n",
    "#test\n",
    "stampa(1,3,5,7)\n",
    "stampa() #funziona anche senza passargli argomenti\n",
    "stampa('a', [2,4,1], 3)\n",
    "\n",
    "print(1,3,5,7)\n",
    "\n",
    "\n",
    "def stampa_affianco(*argomenti):\n",
    "    for a in argomenti:\n",
    "        print(a, end=' ')   \n",
    "        \n",
    "#test\n",
    "stampa_affianco(1,3,5,7)\n",
    "stampa_affianco('a', [2,4,1], 3)\n"
   ]
  },
  {
   "cell_type": "markdown",
   "id": "508c8cca",
   "metadata": {},
   "source": [
    "Con il simbolo `*` otteniamo: \n",
    "$somma(*n)  \\rightarrow n = (n_1, ...., n_x) $\n",
    "andiamo a vedere cosa accade se gli passo una tupla"
   ]
  },
  {
   "cell_type": "code",
   "execution_count": 46,
   "id": "b27795cc",
   "metadata": {},
   "outputs": [
    {
     "name": "stdout",
     "output_type": "stream",
     "text": [
      "(1, 2, 3)\n"
     ]
    }
   ],
   "source": [
    "stampa((1,2,3))"
   ]
  },
  {
   "cell_type": "markdown",
   "id": "7858a690",
   "metadata": {},
   "source": [
    " ### Le funzioni in python possono essere trattate come oggetti\n",
    " Ad esempio una funzione può essere passata come argomento di un'altra funzione\n"
   ]
  },
  {
   "cell_type": "markdown",
   "id": "08d86638",
   "metadata": {},
   "source": [
    "Ho una funzione di interi e voglio creare una lista in cui applico una trasformazione agli interi.\n",
    "\n",
    "lista quadrati; lista doppi; lista dei tripli"
   ]
  },
  {
   "cell_type": "code",
   "execution_count": 63,
   "id": "11d2532e",
   "metadata": {},
   "outputs": [
    {
     "name": "stdout",
     "output_type": "stream",
     "text": [
      "[[1, 4, 9, 16, 25, 36, 49, 64, 81], [3, 6, 9, 12, 15, 18, 21, 24, 27]]\n",
      "[[3, 6, 9, 12, 15, 18, 21, 24, 27]]\n",
      "[[1, 4, 9, 16, 25, 36, 49, 64, 81], [3, 6, 9, 12, 15, 18, 21, 24, 27], [2, 4, 6, 8, 10, 12, 14, 16, 18]]\n",
      "[[4, 8, 12, 16, 20, 24, 28, 32, 36]]\n"
     ]
    }
   ],
   "source": [
    "def quadrato(n):\n",
    "    return n**2\n",
    "\n",
    "def doppio(n):\n",
    "    return n*2\n",
    "\n",
    "def triplo(n):\n",
    "    return n*3\n",
    "\n",
    "lista = [1,2,3,4,5,6,7,8,9]\n",
    "\n",
    "def applica_trasformazione(lista, trasformazione):\n",
    "    return [trasformazione(el) for el in lista]\n",
    "\n",
    "applica_trasformazione(lista, triplo) #ho quindi passato una funzione come argomento di un'altra funzione\n",
    "\n",
    "def applica_trasformazioni(lista, trasformazione_1, trasformazione_2, trasformazione_3):\n",
    "    return [\n",
    "        applica_trasformazione(lista, trasformazione_1),\n",
    "        applica_trasformazione(lista, trasformazione_2),\n",
    "        applica_trasformazione(lista, trasformazione_3)\n",
    "    ]\n",
    "\n",
    "applica_trasformazioni(lista, quadrato, doppio, triplo)\n",
    "\n",
    "#voglio scrivere una versione GENERALIZZATA di applica_trasformazioni\n",
    "def app_trasf(lista, *trasf):\n",
    "    return [\n",
    "        applica_trasformazione(lista, t)\n",
    "        for t in trasf\n",
    "    ]\n",
    "\n",
    "print(app_trasf(lista, quadrato, triplo))\n",
    "print(app_trasf(lista, triplo))\n",
    "print(app_trasf(lista, quadrato, triplo, doppio))\n",
    "#voglio una funzione che quadruplica senza averla definita fuori\n",
    "print(app_trasf(lista, lambda n: n*4))\n",
    "\n",
    "# \"lambda n: n*4 2è un modo estremamente compatto per creare funzioni senza definirle precedentemente"
   ]
  },
  {
   "cell_type": "markdown",
   "id": "0e0934dc",
   "metadata": {},
   "source": [
    "## La funzione MAP\n",
    "La funzione map() è una funzione di built-in che permette di mappare una funzione su una collezione (liste, set, tuple, ecc..) : fa la stessa cosa che fa applica_trasformazione.\n",
    "\n",
    "la sintassi è:\n",
    "\n",
    "map(funzione_da_applicare, collezione_su_cui_applicarla)"
   ]
  },
  {
   "cell_type": "code",
   "execution_count": 67,
   "id": "57eb0c60",
   "metadata": {},
   "outputs": [
    {
     "data": {
      "text/plain": [
       "[1, 4, 9]"
      ]
     },
     "execution_count": 67,
     "metadata": {},
     "output_type": "execute_result"
    }
   ],
   "source": [
    "#applichiamo la funzione quadrato a tutti gli elementi di una lista:\n",
    "list(map( lambda x: x**2,[1,2,3]))\n",
    "list(map( quadrato,[1,2,3]))"
   ]
  },
  {
   "cell_type": "markdown",
   "id": "6837e006",
   "metadata": {},
   "source": [
    "### Come vengono gestiti gli errori di Runtime sulla funzione map():"
   ]
  },
  {
   "cell_type": "code",
   "execution_count": 69,
   "id": "91620aae",
   "metadata": {},
   "outputs": [
    {
     "name": "stdout",
     "output_type": "stream",
     "text": [
      "map fallisce se si verifica una eccezione runtime\n"
     ]
    }
   ],
   "source": [
    "def divisione(n):\n",
    "    return 10/n\n",
    "try:\n",
    "    list(map(divisione, [2,5,0,3])) #divisione per zero!\n",
    "except:\n",
    "    print('map fallisce se si verifica una eccezione runtime')"
   ]
  },
  {
   "cell_type": "markdown",
   "id": "e13cf85a",
   "metadata": {},
   "source": [
    "Le funzioni possono essere trattate come \"oggetti\" e quindi possono essere passate come argomento ad altre funzioni. Questa feature di python risulta essere utile ad esempio nell'uso di funzioni di mapping.\n",
    "Alle volte, durante queste operazioni, potremmo aver bisogno di utilizzare una particolare funzione \"una tantum\". In quest'ultimo caso non sarebbe comodo definirla attraverso la parola chiave \"def\" e quindi non avrebbe utilità darle alcun nome. \n",
    "\n",
    "Si elimini allora \"def\" e il nome della funzione. \n",
    "Rimarranno così solo:\n",
    "1.argomenti,\n",
    "2. body,\n",
    "3. eventuale_return\n",
    "\n",
    "N.B. Le \"lambda functions\" sono un argomento complesso che non verrà qui approfondito molto. \n",
    "\n",
    "Python offre una keyword \"lambda\" che permette di definire una funzione anonima che può essere utilizzata al bisogno (una tantum). \n",
    "Una lambda function, generalmente, dovrebbe essere molto breve (one line) e non avere quindi un body molto complesso (di facile lettura): concisa.\n",
    "\n",
    "SINTASSI:\n",
    "\n",
    "(keyword) $lambda$ (argomenti) $x$ (due punti) : (il ritorno one line) $x**2$ \n",
    "\n",
    "N.B. Non si deve scrivere esplicitamente il \"return\""
   ]
  },
  {
   "cell_type": "code",
   "execution_count": 75,
   "id": "7160b485",
   "metadata": {},
   "outputs": [
    {
     "name": "stdout",
     "output_type": "stream",
     "text": [
      "[0.1, 0.2, 0.3, 0.4]\n"
     ]
    },
    {
     "data": {
      "text/plain": [
       "function"
      ]
     },
     "execution_count": 75,
     "metadata": {},
     "output_type": "execute_result"
    }
   ],
   "source": [
    "#creare una lambda che divida per 10 i valori dati in input in una funzione map\n",
    "print(list(map(lambda x: x/10, [1,2,3,4])))\n",
    "\n",
    "type(lambda x: x/10)"
   ]
  },
  {
   "cell_type": "code",
   "execution_count": 81,
   "id": "5c760326",
   "metadata": {},
   "outputs": [
    {
     "name": "stdout",
     "output_type": "stream",
     "text": [
      "4\n",
      "4\n"
     ]
    }
   ],
   "source": [
    "#si può assegnare una funzione lambda a una variabile\n",
    "a = lambda x : x**2 \n",
    "#per usarla la richiamo come una funzione normale con le parentesi tonde\n",
    "a(3) \n",
    "\n",
    "#osserviamo come faccia la stessa cosa della seguente funzione:\n",
    "def quadro(x):\n",
    "    return x**2\n",
    "\n",
    "print(a(2))\n",
    "print(quadro(2))"
   ]
  },
  {
   "cell_type": "code",
   "execution_count": 86,
   "id": "2c1a918c",
   "metadata": {},
   "outputs": [
    {
     "name": "stdout",
     "output_type": "stream",
     "text": [
      "la funzione sum prende come argomento solo un iterabile\n"
     ]
    }
   ],
   "source": [
    "#funzione sum di sistema:\n",
    "sum((1,2,3))\n",
    "sum([1,2,3])\n",
    "\n",
    "try:\n",
    "    sum(1,2,3)\n",
    "except:\n",
    "    print('la funzione sum prende come argomento solo un iterabile')"
   ]
  },
  {
   "cell_type": "code",
   "execution_count": 91,
   "id": "eee25d50",
   "metadata": {},
   "outputs": [
    {
     "name": "stdout",
     "output_type": "stream",
     "text": [
      "6\n",
      "1024\n",
      "1024\n"
     ]
    }
   ],
   "source": [
    "#altri esempi\n",
    "\n",
    "somma = lambda *n : sum(n) #abbiamo trasformato la sum in una \"iterabile\"\n",
    "#test\n",
    "print(somma(1,2,3))\n",
    "\n",
    "\n",
    "def eleva1(base, exp):\n",
    "    return base**exp\n",
    "\n",
    "eleva = lambda b, e : b**e\n",
    "#test\n",
    "print(eleva1(2,10))\n",
    "print(eleva(2,10))"
   ]
  },
  {
   "cell_type": "markdown",
   "id": "e7cf823d",
   "metadata": {},
   "source": [
    "## Assertion\n",
    "A volte è necessario testare il comportamento di alcune routine e, nel caso in cui gli sviluppi siano inaspettati, si può voler interrompere il programma (si può dare l'Assertion)"
   ]
  },
  {
   "cell_type": "code",
   "execution_count": 95,
   "id": "2d8f94ba",
   "metadata": {},
   "outputs": [
    {
     "name": "stdout",
     "output_type": "stream",
     "text": [
      "fail: almeno una delle due assertion non è corretta\n"
     ]
    }
   ],
   "source": [
    "try:\n",
    "    assert 1 in [1,2,3,4,5]\n",
    "    assert 8 in [1,2,3,4,5]\n",
    "except AssertionError:\n",
    "    print('fail: almeno una delle due assertion non è corretta')"
   ]
  },
  {
   "cell_type": "markdown",
   "id": "eaf5dcd9",
   "metadata": {},
   "source": [
    "## Built-ins\n",
    "Python ha molte funzioni di built-in, vediamole:"
   ]
  },
  {
   "cell_type": "code",
   "execution_count": 99,
   "id": "bb711c39",
   "metadata": {},
   "outputs": [
    {
     "data": {
      "text/plain": [
       "<module 'builtins' (built-in)>"
      ]
     },
     "execution_count": 99,
     "metadata": {},
     "output_type": "execute_result"
    }
   ],
   "source": [
    "#è un module che contiene variabili, errori, meotodi privati e metodi pubblici\n",
    "__builtins__ "
   ]
  },
  {
   "cell_type": "code",
   "execution_count": 100,
   "id": "93c320fe",
   "metadata": {},
   "outputs": [
    {
     "data": {
      "text/plain": [
       "['ArithmeticError',\n",
       " 'AssertionError',\n",
       " 'AttributeError',\n",
       " 'BaseException',\n",
       " 'BlockingIOError',\n",
       " 'BrokenPipeError',\n",
       " 'BufferError',\n",
       " 'BytesWarning',\n",
       " 'ChildProcessError',\n",
       " 'ConnectionAbortedError',\n",
       " 'ConnectionError',\n",
       " 'ConnectionRefusedError',\n",
       " 'ConnectionResetError',\n",
       " 'DeprecationWarning',\n",
       " 'EOFError',\n",
       " 'Ellipsis',\n",
       " 'EncodingWarning',\n",
       " 'EnvironmentError',\n",
       " 'Exception',\n",
       " 'False',\n",
       " 'FileExistsError',\n",
       " 'FileNotFoundError',\n",
       " 'FloatingPointError',\n",
       " 'FutureWarning',\n",
       " 'GeneratorExit',\n",
       " 'IOError',\n",
       " 'ImportError',\n",
       " 'ImportWarning',\n",
       " 'IndentationError',\n",
       " 'IndexError',\n",
       " 'InterruptedError',\n",
       " 'IsADirectoryError',\n",
       " 'KeyError',\n",
       " 'KeyboardInterrupt',\n",
       " 'LookupError',\n",
       " 'MemoryError',\n",
       " 'ModuleNotFoundError',\n",
       " 'NameError',\n",
       " 'None',\n",
       " 'NotADirectoryError',\n",
       " 'NotImplemented',\n",
       " 'NotImplementedError',\n",
       " 'OSError',\n",
       " 'OverflowError',\n",
       " 'PendingDeprecationWarning',\n",
       " 'PermissionError',\n",
       " 'ProcessLookupError',\n",
       " 'RecursionError',\n",
       " 'ReferenceError',\n",
       " 'ResourceWarning',\n",
       " 'RuntimeError',\n",
       " 'RuntimeWarning',\n",
       " 'StopAsyncIteration',\n",
       " 'StopIteration',\n",
       " 'SyntaxError',\n",
       " 'SyntaxWarning',\n",
       " 'SystemError',\n",
       " 'SystemExit',\n",
       " 'TabError',\n",
       " 'TimeoutError',\n",
       " 'True',\n",
       " 'TypeError',\n",
       " 'UnboundLocalError',\n",
       " 'UnicodeDecodeError',\n",
       " 'UnicodeEncodeError',\n",
       " 'UnicodeError',\n",
       " 'UnicodeTranslateError',\n",
       " 'UnicodeWarning',\n",
       " 'UserWarning',\n",
       " 'ValueError',\n",
       " 'Warning',\n",
       " 'WindowsError',\n",
       " 'ZeroDivisionError',\n",
       " '__IPYTHON__',\n",
       " '__build_class__',\n",
       " '__debug__',\n",
       " '__doc__',\n",
       " '__import__',\n",
       " '__loader__',\n",
       " '__name__',\n",
       " '__package__',\n",
       " '__spec__',\n",
       " 'abs',\n",
       " 'aiter',\n",
       " 'all',\n",
       " 'anext',\n",
       " 'any',\n",
       " 'ascii',\n",
       " 'bin',\n",
       " 'bool',\n",
       " 'breakpoint',\n",
       " 'bytearray',\n",
       " 'bytes',\n",
       " 'callable',\n",
       " 'chr',\n",
       " 'classmethod',\n",
       " 'compile',\n",
       " 'complex',\n",
       " 'copyright',\n",
       " 'credits',\n",
       " 'delattr',\n",
       " 'dict',\n",
       " 'dir',\n",
       " 'display',\n",
       " 'divmod',\n",
       " 'enumerate',\n",
       " 'eval',\n",
       " 'exec',\n",
       " 'execfile',\n",
       " 'filter',\n",
       " 'float',\n",
       " 'format',\n",
       " 'frozenset',\n",
       " 'get_ipython',\n",
       " 'getattr',\n",
       " 'globals',\n",
       " 'hasattr',\n",
       " 'hash',\n",
       " 'help',\n",
       " 'hex',\n",
       " 'id',\n",
       " 'input',\n",
       " 'int',\n",
       " 'isinstance',\n",
       " 'issubclass',\n",
       " 'iter',\n",
       " 'len',\n",
       " 'license',\n",
       " 'list',\n",
       " 'locals',\n",
       " 'map',\n",
       " 'max',\n",
       " 'memoryview',\n",
       " 'min',\n",
       " 'next',\n",
       " 'object',\n",
       " 'oct',\n",
       " 'open',\n",
       " 'ord',\n",
       " 'pow',\n",
       " 'print',\n",
       " 'property',\n",
       " 'range',\n",
       " 'repr',\n",
       " 'reversed',\n",
       " 'round',\n",
       " 'runfile',\n",
       " 'set',\n",
       " 'setattr',\n",
       " 'slice',\n",
       " 'sorted',\n",
       " 'staticmethod',\n",
       " 'str',\n",
       " 'sum',\n",
       " 'super',\n",
       " 'tuple',\n",
       " 'type',\n",
       " 'vars',\n",
       " 'zip']"
      ]
     },
     "execution_count": 100,
     "metadata": {},
     "output_type": "execute_result"
    }
   ],
   "source": [
    "dir(__builtins__)"
   ]
  },
  {
   "cell_type": "code",
   "execution_count": 108,
   "id": "5631ee8d",
   "metadata": {},
   "outputs": [
    {
     "name": "stdout",
     "output_type": "stream",
     "text": [
      "print(\"ciao\")\n",
      "ciao\n"
     ]
    }
   ],
   "source": [
    "programma = \"\"\"\n",
    "a = 2,\n",
    "b = 3,\n",
    "somma = lambda *n : sum(n),\n",
    "print(somma(2,3))\n",
    "\"\"\"\n",
    "#per programmi con variabili meglio leggere la documentazione completa\n",
    "programma = 'print(\"ciao\")'\n",
    "\n",
    "print(programma)\n",
    "eval(programma)"
   ]
  },
  {
   "cell_type": "code",
   "execution_count": 114,
   "id": "1f1e67c4",
   "metadata": {},
   "outputs": [
    {
     "data": {
      "text/plain": [
       "'-0x1e0136e7747fc5d1'"
      ]
     },
     "execution_count": 114,
     "metadata": {},
     "output_type": "execute_result"
    }
   ],
   "source": [
    "hash('ciao')\n",
    "hex(hash('1'))"
   ]
  },
  {
   "cell_type": "code",
   "execution_count": null,
   "id": "b67cab2f",
   "metadata": {},
   "outputs": [],
   "source": []
  },
  {
   "cell_type": "code",
   "execution_count": null,
   "id": "fe8e567c",
   "metadata": {},
   "outputs": [],
   "source": []
  },
  {
   "cell_type": "code",
   "execution_count": null,
   "id": "88e419fd",
   "metadata": {},
   "outputs": [],
   "source": []
  },
  {
   "cell_type": "code",
   "execution_count": null,
   "id": "a8c28f5d",
   "metadata": {},
   "outputs": [],
   "source": []
  },
  {
   "cell_type": "code",
   "execution_count": null,
   "id": "932dd425",
   "metadata": {},
   "outputs": [],
   "source": []
  }
 ],
 "metadata": {
  "kernelspec": {
   "display_name": "Python 3 (ipykernel)",
   "language": "python",
   "name": "python3"
  },
  "language_info": {
   "codemirror_mode": {
    "name": "ipython",
    "version": 3
   },
   "file_extension": ".py",
   "mimetype": "text/x-python",
   "name": "python",
   "nbconvert_exporter": "python",
   "pygments_lexer": "ipython3",
   "version": "3.10.7"
  }
 },
 "nbformat": 4,
 "nbformat_minor": 5
}
