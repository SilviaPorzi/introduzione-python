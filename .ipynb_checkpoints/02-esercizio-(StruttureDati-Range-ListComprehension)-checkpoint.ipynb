{
 "cells": [
  {
   "cell_type": "markdown",
   "id": "03729f2d",
   "metadata": {},
   "source": [
    "# Strutture dati\n",
    "In molti casi è necessario conservare in una sola variabile un insieme di elementi ed, in questo caso, si possono usare delle strutture ordinate di dati come le LISTE"
   ]
  },
  {
   "cell_type": "code",
   "execution_count": 1,
   "id": "b1ec4362",
   "metadata": {},
   "outputs": [],
   "source": [
    "elenco = [1, 3, 5, 7, 9, 1.5, -4.8, 'ciao', 'bau']"
   ]
  },
  {
   "cell_type": "markdown",
   "id": "ec8d2310",
   "metadata": {},
   "source": [
    "Le liste possono contenere oggetti appartenenti a diversi tipi di dato (ad es. interi, stringhe, altre liste, ecc..). \n",
    "Per accedere ad uno degli elementi della lista possiamo usare il cosiddetto \"indice della lista\" che si indica nome_lista[indice]"
   ]
  },
  {
   "cell_type": "code",
   "execution_count": 2,
   "id": "e3883aec",
   "metadata": {},
   "outputs": [
    {
     "name": "stdout",
     "output_type": "stream",
     "text": [
      "3\n"
     ]
    }
   ],
   "source": [
    "print(elenco[1])"
   ]
  },
  {
   "cell_type": "markdown",
   "id": "f8c545fc",
   "metadata": {},
   "source": [
    "Ricordiamo che l'indice parte sempre da 0 e se mettiamo un indice più grande lunghezza_lista-1 ottengo un \"index error\" (errore di index out of bounde/range)."
   ]
  },
  {
   "cell_type": "code",
   "execution_count": 3,
   "id": "19f5d998",
   "metadata": {},
   "outputs": [
    {
     "name": "stdout",
     "output_type": "stream",
     "text": [
      "index fuori dai valori consentiti\n"
     ]
    }
   ],
   "source": [
    "try:\n",
    "    print(elenco[10])\n",
    "except:\n",
    "    print('index fuori dai valori consentiti')"
   ]
  },
  {
   "cell_type": "markdown",
   "id": "08b4b6e1",
   "metadata": {},
   "source": [
    "In molti casi è utile sapere la dimensione (n° degli elementi) di una lista e ciò si può ottenere utilizzando la funzione di buildIn \"len()\""
   ]
  },
  {
   "cell_type": "code",
   "execution_count": 4,
   "id": "29761069",
   "metadata": {},
   "outputs": [
    {
     "data": {
      "text/plain": [
       "9"
      ]
     },
     "execution_count": 4,
     "metadata": {},
     "output_type": "execute_result"
    }
   ],
   "source": [
    "len(elenco)"
   ]
  },
  {
   "cell_type": "code",
   "execution_count": 5,
   "id": "8bcf7815",
   "metadata": {},
   "outputs": [
    {
     "data": {
      "text/plain": [
       "'bau'"
      ]
     },
     "execution_count": 5,
     "metadata": {},
     "output_type": "execute_result"
    }
   ],
   "source": [
    "elenco[len(elenco)-1]  #lo stampa nella consolle perché siamo in jupyter, altrimenti è solo un output"
   ]
  },
  {
   "cell_type": "code",
   "execution_count": 6,
   "id": "63b69f01",
   "metadata": {},
   "outputs": [
    {
     "name": "stdout",
     "output_type": "stream",
     "text": [
      "bau\n",
      "bau\n"
     ]
    }
   ],
   "source": [
    "print(elenco[len(elenco)-1]) #stampa l'ultimo elemento dell'elenco\n",
    "print(elenco[-1])            #stampa l'ultimo elemento dell'elenco"
   ]
  },
  {
   "cell_type": "markdown",
   "id": "7f038a9d",
   "metadata": {},
   "source": [
    "è possibile estrarre sottoliste (sublist) usando l'operatore : all'interno delle parentesi quadre."
   ]
  },
  {
   "cell_type": "code",
   "execution_count": 7,
   "id": "254b1776",
   "metadata": {},
   "outputs": [
    {
     "name": "stdout",
     "output_type": "stream",
     "text": [
      "[1, 3, 5]\n"
     ]
    }
   ],
   "source": [
    "print(elenco[0:3])"
   ]
  },
  {
   "cell_type": "code",
   "execution_count": 8,
   "id": "218f43f5",
   "metadata": {},
   "outputs": [
    {
     "data": {
      "text/plain": [
       "[1, 3, 5]"
      ]
     },
     "execution_count": 8,
     "metadata": {},
     "output_type": "execute_result"
    }
   ],
   "source": [
    "elenco[0:3] #lo stampa solo nella consolle, altrimenti è solo un output"
   ]
  },
  {
   "cell_type": "code",
   "execution_count": 9,
   "id": "517f37ba",
   "metadata": {},
   "outputs": [
    {
     "name": "stdout",
     "output_type": "stream",
     "text": [
      "[1, 3, 5]\n",
      "[5, 7, 9, 1.5, -4.8, 'ciao', 'bau']\n"
     ]
    }
   ],
   "source": [
    "print(elenco[:3]) #dall'inizio all'elemento 3\n",
    "print(elenco[2:]) #dall'elemento 3 fino alla fine"
   ]
  },
  {
   "cell_type": "code",
   "execution_count": 10,
   "id": "5467b2ad",
   "metadata": {},
   "outputs": [
    {
     "name": "stdout",
     "output_type": "stream",
     "text": [
      "[1, 3, 5, 7, 9, 1.5, -4.8, 'ciao', 'bau']\n",
      "[1, 3, 5, 7, 9, -4.8, 'ciao', 'bau']\n"
     ]
    }
   ],
   "source": [
    "print(elenco)\n",
    "n=5\n",
    "print(elenco[0:n]+elenco[n+1:]) #stampo la lista elenco a cui è stato tolto l'elemento di indice n"
   ]
  },
  {
   "cell_type": "markdown",
   "id": "30c73b61",
   "metadata": {},
   "source": [
    "Attenzione: quando manipoliamo una lista al fine di creare una sottolista usando l'operatore \":\", stiamo in realtà creando una nuova lista che è indipendente dalla lista originale (e quindi non stiamo modificando la lista originale). \n",
    "Siccome l'operatore \":\" crea sempre un nuova lista, il modo più veloce di copiare una lista in python è il seguente"
   ]
  },
  {
   "cell_type": "code",
   "execution_count": 11,
   "id": "802e8547",
   "metadata": {},
   "outputs": [],
   "source": [
    "elenco_copia = elenco[:] #è una sottolista di elenco che contiene tutti gli elementi della lista elenco"
   ]
  },
  {
   "cell_type": "markdown",
   "id": "473bd7f9",
   "metadata": {},
   "source": [
    "e questa è una struttura davvero compatta per creare ua copia di una data lista."
   ]
  },
  {
   "cell_type": "markdown",
   "id": "60769ed8",
   "metadata": {},
   "source": [
    "Inoltre, è possibile definire una lista vuota"
   ]
  },
  {
   "cell_type": "code",
   "execution_count": 12,
   "id": "1ca6859f",
   "metadata": {},
   "outputs": [],
   "source": [
    "lista_vuota = []"
   ]
  },
  {
   "cell_type": "markdown",
   "id": "725296a2",
   "metadata": {},
   "source": [
    "e possiamo utilizzare delle funzioni per inserire in una lista un elemento, per concatenare più liste o fare \"append\", \"insert\", \"pop\", \"remove\", \"reverse\"(non crea una copia ma inverte la lista passata in input), \"sort\""
   ]
  },
  {
   "cell_type": "code",
   "execution_count": 13,
   "id": "b8e6881a",
   "metadata": {},
   "outputs": [
    {
     "name": "stdout",
     "output_type": "stream",
     "text": [
      "[1, 3, 5, 'python', 7, 9, 1.5, -4.8, 'ciao', 'bau']\n",
      "[1, 3, 5, 'python', 7, 9, 1.5, -4.8, 'ciao', 'bau', 1, 2, 3]\n",
      "[1, 3, 5, 'python', 7, 9, 1.5, -4.8, 'bau', 1, 2, 3]\n",
      "[1, 3, 5, 'python', 7, 9, 1.5, -4.8, 'bau', 1, 2]\n",
      "6\n",
      "['bau', 'ciao', -4.8, 1.5, 9, 7, 5, 3, 1]\n",
      "qualcosa è andato storto!\n",
      "[-4.8, 1, 1, 1.5, 2, 3, 5, 7, 9]\n"
     ]
    }
   ],
   "source": [
    "elenco.insert(3,'python') #insert(indice,elemento_da_inserire)\n",
    "print(elenco)\n",
    "elenco.extend([1,2,3]) #aggiunge infondo alla nostra lista una nuova lista\n",
    "print(elenco)\n",
    "elenco.remove('ciao') #rimuove l'elemento 'ciao'\n",
    "print(elenco)\n",
    "elenco.pop() #rimuove l'ultimo elemento dalla lista, ritornandolo\n",
    "print(elenco)\n",
    "print(elenco.index(1.5)) #mi restituisce l'indice dove si trova 1.5, mentre se non esiste dà un errore\n",
    "elenco_copia.reverse()\n",
    "print(elenco_copia)\n",
    "try:\n",
    "    elenco.sort() #non è possibile ordinare tra tipi di dato differenti\n",
    "except:\n",
    "    print('qualcosa è andato storto!')\n",
    "elenco.remove('python')\n",
    "elenco.remove('bau')\n",
    "elenco.sort()\n",
    "print(elenco)"
   ]
  },
  {
   "cell_type": "markdown",
   "id": "dd9fefd5",
   "metadata": {},
   "source": [
    "# Il meccanismo di sorting\n",
    "è possibile fare un sorting se è possibile fare un confronto tra di loro.\n",
    "Ad esempio se è possibile, presi due elementi $a$ e $b$, si può fare uno dei seguenti confronti:\n",
    "\n",
    "$a>b$ --> mi restituisce 1\n",
    "\n",
    "$a<b$ --> mi restituisce -1\n",
    "\n",
    "$a=b$ --> mi restituisce 0\n",
    "\n",
    "La funzione usata per fare un sort in python si chiama \"comparator\""
   ]
  },
  {
   "cell_type": "markdown",
   "id": "dfcf2574",
   "metadata": {},
   "source": [
    "# Utilizzo di range ed altre funzioni di BuildIn combinate"
   ]
  },
  {
   "cell_type": "code",
   "execution_count": 14,
   "id": "fe77dd6a",
   "metadata": {},
   "outputs": [
    {
     "name": "stdout",
     "output_type": "stream",
     "text": [
      "[0, 1, 2, 3, 4, 5, 6, 7, 8, 9]\n",
      "[0, 1, 2, 3, 4, 5, 6, 7, 8]\n",
      "36\n"
     ]
    }
   ],
   "source": [
    "print(list(range(10))) #crea una lista di 10 elementi a partire da 0\n",
    "print(list(range(len(elenco)))) #crea la lista dell'insieme degli indici di elenco\n",
    "print(sum(list(range(len(elenco))))) #somma tutti gli indici di elenco"
   ]
  },
  {
   "cell_type": "code",
   "execution_count": 15,
   "id": "86394322",
   "metadata": {
    "scrolled": true
   },
   "outputs": [
    {
     "name": "stdout",
     "output_type": "stream",
     "text": [
      "range(0, 10)\n",
      "[10, 11, 12, 13, 14, 15, 16, 17, 18, 19, 20]\n",
      "[10, 13, 16, 19]\n"
     ]
    }
   ],
   "source": [
    "print(range(10)) \n",
    "print(list(range(10,21))) #stampa una lista che va da 10 a 20\n",
    "print(list(range(10,21,3))) #stampa una lista di numeri da 10 a 20 presi di 3 in 3"
   ]
  },
  {
   "cell_type": "markdown",
   "id": "cdfeb961",
   "metadata": {},
   "source": [
    "# LIST COMPREHENSION\n",
    "## (sintassi per creare liste in maniera veloce ed efficente)\n"
   ]
  },
  {
   "cell_type": "code",
   "execution_count": 16,
   "id": "f254216e",
   "metadata": {},
   "outputs": [
    {
     "name": "stdout",
     "output_type": "stream",
     "text": [
      "[1, 2, 3, 4, 5]\n",
      "[1, 4, 9, 16, 25]\n"
     ]
    }
   ],
   "source": [
    "#Data una lista di numeri, ottenerne un'altra composta dagli stessi numeri elevati al quadrato\n",
    "numeri = [1,2,3,4,5]\n",
    "quadrati = [n**2 for n in numeri]\n",
    "print(numeri)\n",
    "print(quadrati)"
   ]
  },
  {
   "cell_type": "code",
   "execution_count": 17,
   "id": "891b9c6f",
   "metadata": {},
   "outputs": [
    {
     "name": "stdout",
     "output_type": "stream",
     "text": [
      "[2, 4]\n"
     ]
    }
   ],
   "source": [
    "#data la stessa lista di numeri, crearne un'altra composta dai soli numeri pari (filtraggio)\n",
    "filtro_pari = [n for n in numeri if n%2 == 0 ] \n",
    "print(filtro_pari)"
   ]
  },
  {
   "cell_type": "code",
   "execution_count": 18,
   "id": "78de5fb5",
   "metadata": {},
   "outputs": [
    {
     "name": "stdout",
     "output_type": "stream",
     "text": [
      "[[1, 1, 1, 1, 1], [1, 1, 1, 1, 1], [1, 1, 1, 1, 1], [1, 1, 1, 1, 1], [1, 1, 1, 1, 1]]\n",
      "[1, 1, 1, 1, 1]\n",
      "[1, 1, 1, 1, 1]\n",
      "[1, 1, 1, 1, 1]\n",
      "[1, 1, 1, 1, 1]\n",
      "[1, 1, 1, 1, 1]\n"
     ]
    }
   ],
   "source": [
    "#creiamo una matrice 5x5 di numeri 1 con liste nelle liste\n",
    "matrice = [[1 for x in range(5)]for x in range(5)]\n",
    "print(matrice) #crea una lista di liste\n",
    "for riga in matrice:\n",
    "    print(riga)  #visualizza le liste sottoforma di matrice"
   ]
  },
  {
   "cell_type": "code",
   "execution_count": 19,
   "id": "ab300588",
   "metadata": {},
   "outputs": [
    {
     "name": "stdout",
     "output_type": "stream",
     "text": [
      "[1, 1, 1]\n",
      "[1, 1, 1]\n",
      "[1, 1, 1]\n"
     ]
    }
   ],
   "source": [
    "#01 Salvare la dimensione della matrice in una variabile \"n\" e generare matrici di dimensione diversa a seconda del valore di m\n",
    "n = len(matrice[0])\n",
    "\n",
    "m=3\n",
    "matrice_random = [[1 for x in range(m)]for x in range(m)]\n",
    "for riga in matrice_random:\n",
    "    print(riga)\n"
   ]
  },
  {
   "cell_type": "code",
   "execution_count": 20,
   "id": "fd58b1a8",
   "metadata": {},
   "outputs": [
    {
     "name": "stdout",
     "output_type": "stream",
     "text": [
      "[1, 0, 0]\n",
      "[0, 1, 0]\n",
      "[0, 0, 1]\n"
     ]
    }
   ],
   "source": [
    "#02 Trasformare il codice facendo in modo di produrre la matrice identità di dimensione n (tutti zeri, tranne che sulla diagonale principale)\n",
    "\n",
    "matrice_identita = [[1 if k == u else 0 for k in range(m)] for u in range(m)]\n",
    "\n",
    "for riga in matrice_identita:\n",
    "    print(riga)\n",
    "\n"
   ]
  },
  {
   "cell_type": "code",
   "execution_count": null,
   "id": "385ccef9",
   "metadata": {},
   "outputs": [],
   "source": []
  }
 ],
 "metadata": {
  "kernelspec": {
   "display_name": "Python 3 (ipykernel)",
   "language": "python",
   "name": "python3"
  },
  "language_info": {
   "codemirror_mode": {
    "name": "ipython",
    "version": 3
   },
   "file_extension": ".py",
   "mimetype": "text/x-python",
   "name": "python",
   "nbconvert_exporter": "python",
   "pygments_lexer": "ipython3",
   "version": "3.10.7"
  }
 },
 "nbformat": 4,
 "nbformat_minor": 5
}
