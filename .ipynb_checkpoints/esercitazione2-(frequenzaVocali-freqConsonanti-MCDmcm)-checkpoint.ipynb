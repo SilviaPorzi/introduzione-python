{
 "cells": [
  {
   "cell_type": "markdown",
   "id": "d8639db5",
   "metadata": {},
   "source": [
    "## 1. Esercizio\n",
    "Data una stringa, ritornare una lista delle sole NON vocali (consonanti, simboli) più frequenti\n",
    "“aaabbbcccdd” $\\rightarrow$ [b, c]"
   ]
  },
  {
   "cell_type": "code",
   "execution_count": 33,
   "id": "a689a7ce",
   "metadata": {},
   "outputs": [
    {
     "name": "stdout",
     "output_type": "stream",
     "text": [
      "['b', 'c']\n"
     ]
    }
   ],
   "source": [
    "import collections\n",
    "s = 'aaabbbcccdd'\n",
    "\n",
    "vocali = {'a','e','i','o','u'}\n",
    "consonanti = []\n",
    "for i in s:\n",
    "    if i not in vocali:\n",
    "        consonanti.append(i)\n",
    "        \n",
    "cons_str = ''.join(consonanti)\n",
    "results = collections.Counter(cons_str)\n",
    "\n",
    "max_seq = 0\n",
    "for lettera, ripetizioni in results.most_common():\n",
    "    if ripetizioni > max_seq:\n",
    "        max_seq = ripetizioni\n",
    "\n",
    "lista_risultato = []\n",
    "\n",
    "[\n",
    "    lista_risultato.append(x)\n",
    "    for x, num in results.most_common()\n",
    "    if num == max_seq\n",
    "]\n",
    "\n",
    "print(lista_risultato)\n",
    "    "
   ]
  },
  {
   "cell_type": "code",
   "execution_count": 30,
   "id": "d8393fcf",
   "metadata": {},
   "outputs": [
    {
     "data": {
      "text/plain": [
       "Counter({'b': 3, 'c': 3, 'd': 2})"
      ]
     },
     "execution_count": 30,
     "metadata": {},
     "output_type": "execute_result"
    }
   ],
   "source": [
    "s = 'aaabbbcccdd'\n",
    "\n",
    "\n",
    "def lettere_ricorrenti(s):\n",
    "    d = {l : 0 for l in s}\n",
    "    for l in s:\n",
    "        d[l] = d[l] +1\n",
    "    return d\n",
    "\n",
    "def elimina_lettera(s, *lettera):\n",
    "    lista = list(lettera)\n",
    "    for l in lista:\n",
    "        if l in s:\n",
    "            s = s.replace(l, '')\n",
    "    return s\n",
    "\n",
    "def maggior_frequenza(d):\n",
    "    max_v = max(d.values())\n",
    "    lista_frequente = [k for k,v in d.items() if v == max_v]\n",
    "    return lista_frequente\n",
    "    \n",
    "      \n",
    "s = elimina_lettera(s,'a','e','i','o','u')\n",
    "d = lettere_ricorrenti(s)\n",
    "l = maggior_frequenza(d)\n",
    "print(l)"
   ]
  },
  {
   "cell_type": "code",
   "execution_count": 38,
   "id": "c38c8de9",
   "metadata": {},
   "outputs": [
    {
     "name": "stdout",
     "output_type": "stream",
     "text": [
      "['b', 'c']\n"
     ]
    }
   ],
   "source": [
    "#modifica del metodo elimina_lettera:\n",
    "\n",
    "s = 'aaabbbcccdd'\n",
    "\n",
    "def lettere_ricorrenti(s):\n",
    "    d = {l : 0 for l in s}\n",
    "    for l in s:\n",
    "        d[l] = d[l] +1\n",
    "    return d\n",
    "\n",
    "\n",
    "def elim_lettera(s, *lettera):\n",
    "    s = [c for c in s if c not in lettera]\n",
    "    return ''.join(s)\n",
    "\n",
    "\n",
    "def maggior_frequenza(d):\n",
    "    max_v = max(d.values())\n",
    "    lista_frequente = [k for k,v in d.items() if v == max_v]\n",
    "    return lista_frequente\n",
    "        \n",
    "\n",
    "s = elim_lettera(s,'a','e','i','o','u')\n",
    "d = lettere_ricorrenti(s)\n",
    "l = maggior_frequenza(d)\n",
    "print(l)"
   ]
  },
  {
   "cell_type": "markdown",
   "id": "2a899438",
   "metadata": {},
   "source": [
    "## 2. Esercizio\n",
    "Data una lista di stringhe, creare (con dict comprehension) un dizionario che abbia come key la stringa e come value le vocali più frequenti nella stringa\n"
   ]
  },
  {
   "cell_type": "code",
   "execution_count": 66,
   "id": "35bab340",
   "metadata": {},
   "outputs": [
    {
     "name": "stdout",
     "output_type": "stream",
     "text": [
      "{'aaabbbiiicccdd': ['a', 'i'], 'hhhiiiiiiilloo': ['i'], 'aaaaaaaw': ['a'], 'uuuuyyggggtttt': ['u']}\n"
     ]
    },
    {
     "data": {
      "text/plain": [
       "{'aaabbbiiicccdd': ['a', 'i'],\n",
       " 'hhhiiiiiiilloo': ['i'],\n",
       " 'aaaaaaaw': ['a'],\n",
       " 'uuuuyyggggtttt': ['u']}"
      ]
     },
     "execution_count": 66,
     "metadata": {},
     "output_type": "execute_result"
    }
   ],
   "source": [
    "l = ['aaabbbiiicccdd', 'hhhiiiiiiilloo', 'aaaaaaaw', 'uuuuyyggggtttt']\n",
    "\n",
    "def elim_cons(s, *lettera):\n",
    "    s = [c for c in s if c in lettera]\n",
    "    return ''.join(s)\n",
    "\n",
    "def lettere(s):\n",
    "    s = elim_cons(s,'a','e','i','o','u')\n",
    "    d = lettere_ricorrenti(s)\n",
    "    l = maggior_frequenza(d)\n",
    "    return l\n",
    "\n",
    "lettere(l[3])\n",
    "\n",
    "\n",
    "def freq_in_str(l, lettere):\n",
    "    diz = dict()\n",
    "    diz = {}\n",
    "    for k in l:\n",
    "        a = lettere(k)\n",
    "        diz[k] = a\n",
    "    print(diz)\n",
    "    \n",
    "freq_in_str(l,lettere)\n",
    "\n",
    "\n",
    "\n",
    "{k:lettere(k) for k in l}\n",
    "\n"
   ]
  },
  {
   "cell_type": "markdown",
   "id": "2e3b301d",
   "metadata": {},
   "source": [
    "## 3. Esercizio\n",
    "Dati due interi, trovare minimo comune multiplo, massimo comun divisore (back to scuola media)\n"
   ]
  },
  {
   "cell_type": "code",
   "execution_count": null,
   "id": "ed8866d3",
   "metadata": {},
   "outputs": [],
   "source": [
    "def is_primo(n):\n",
    "    return[x for x in range(2,n) if n%x == 0] == []\n",
    "\n",
    "def genera_primi(n):\n",
    "    return[x for x in range(2,n) if is_primo(x)]\n",
    "\n",
    "def fattori(n):\n",
    "    fattori = genera_primi(n)\n",
    "    if is_primo(n):\n",
    "        return(1,n) #la funzione return serve per uscire dalla funzione quindi non occorre mettere l'else\n",
    "    \n",
    "    res = [] #lista dove mettere i fattori\n",
    "    resto = n\n",
    "    for f in fattori:\n",
    "        temp = [f, 0] #fattore che usiamo lo salviamo in questa variabile\n",
    "        while resto%f == 0:\n",
    "            resto = resto/f \n",
    "            temp = [f, temp[1]+1]\n",
    "        if temp[1] != 0:\n",
    "            res.append(temp)\n",
    "    return res\n",
    "\n",
    "def mcm(n,m):\n",
    "    if is_primo(n) and is_primo(m):\n",
    "        return n*m\n",
    "    lista_fattori_n = fattori(n) #in lista_fattori ci sta una lista i cui elementi sono liste lunghe 2 dove il primo è la base e il secondo è l'esponente\n",
    "    lista_fattori_m = fattori(m) \n",
    "    for fattore_esponente in lista_fattori:\n",
    "        for j in fattore_esponente:\n",
    "            if j[0]\n",
    "        "
   ]
  },
  {
   "cell_type": "code",
   "execution_count": 38,
   "id": "7e27d7c5",
   "metadata": {},
   "outputs": [
    {
     "name": "stdout",
     "output_type": "stream",
     "text": [
      "MCD è: 5\n",
      "mcm è: 450\n"
     ]
    }
   ],
   "source": [
    "a=90\n",
    "b=25\n",
    "\n",
    "\n",
    "\n",
    "divisori_a=[n for n in range(1,a+1) if a%n==0]\n",
    "divisori_b=[n for n in range(1,b+1) if b%n==0]   \n",
    "divisori_comuni=[n for n in divisori_a if n in divisori_b]\n",
    "mcd=divisori_comuni[-1]\n",
    "print(f'MCD è: {mcd}')\n",
    "\n",
    "\n",
    "\n",
    "fattori_a={f[0]:f[1] for f in fattori(a)}\n",
    "fattori_b={f[0]:f[1] for f in fattori(b)}  \n",
    "fatt=[(f,e) for (f,e) in fattori_a.items() if f not in fattori_b.keys() or e>= fattori_b[f]]  \n",
    "all_fatt=fatt+[(f,e) for (f,e) in fattori_b.items() if f not in fattori_a.keys() or e> fattori_a[f]]\n",
    "\n",
    "\n",
    "\n",
    "       \n",
    "        \n",
    "mcm=1\n",
    "for f,e in all_fatt:  \n",
    "    mcm*=(f**e)  \n",
    "    \n",
    "print(f'mcm è: {mcm}')"
   ]
  },
  {
   "cell_type": "markdown",
   "id": "f7470209",
   "metadata": {},
   "source": [
    "## 4. Esercizio\n",
    "Creare una funzione che possa sillabare delle parole secondo le regole più semplici (doppie, dittonghi/trittonghi comuni). possibile esempio di output:\n",
    "sillaba(‘patata’) $\\rightarrow$ pa-ta-ta, sillaba(‘casa’) $\\rightarrow$ ca-sa, sillaba(‘castello’) $\\rightarrow$ cas-tel-lo\n"
   ]
  },
  {
   "cell_type": "code",
   "execution_count": null,
   "id": "35e111af",
   "metadata": {},
   "outputs": [],
   "source": []
  }
 ],
 "metadata": {
  "kernelspec": {
   "display_name": "Python 3 (ipykernel)",
   "language": "python",
   "name": "python3"
  },
  "language_info": {
   "codemirror_mode": {
    "name": "ipython",
    "version": 3
   },
   "file_extension": ".py",
   "mimetype": "text/x-python",
   "name": "python",
   "nbconvert_exporter": "python",
   "pygments_lexer": "ipython3",
   "version": "3.10.7"
  }
 },
 "nbformat": 4,
 "nbformat_minor": 5
}
