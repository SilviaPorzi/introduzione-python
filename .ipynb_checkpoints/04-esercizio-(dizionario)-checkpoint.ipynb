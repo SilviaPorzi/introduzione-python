{
 "cells": [
  {
   "cell_type": "markdown",
   "id": "281651b5",
   "metadata": {},
   "source": [
    "# DIZIONARI\n",
    "I dizionari sono strutture dati n grado di associare un valore a una \"key\".\n",
    "Le keys appartengono ad un SET (e quindi non si possono avere due keys uguali);\n",
    "i valori associati alle keys appartengono ad una LIST ( e quindi possono avere anche valori ripetuti).\n",
    "\n",
    "La struttura del dizionario prevede:\n",
    "\n",
    "nome_variabile[nome_key] = valore\n",
    "\n",
    "## Esempio: creazione di un modello in cui si associ ad ogni Città il suo Stato."
   ]
  },
  {
   "cell_type": "code",
   "execution_count": 1,
   "id": "322ac18c",
   "metadata": {},
   "outputs": [
    {
     "name": "stdout",
     "output_type": "stream",
     "text": [
      "{'Roma': 'Italia', 'Napoli': 'Italia', 'Barcelona': 'Spagna'}\n"
     ]
    }
   ],
   "source": [
    "elenco_citta = dict() #inizializzo il dizionario\n",
    "\n",
    "#il dizionario utilizza come identificativo la chiave per salvare il valore\n",
    "elenco_citta['Roma'] = 'Francia'\n",
    "\n",
    "#sovrascrivendo il valore corrispondente ad una chiave esistente, verrà effettuata la sostituzione\n",
    "elenco_citta['Roma'] = 'Italia'\n",
    "elenco_citta['Napoli'] = 'Italia'\n",
    "elenco_citta['Barcelona'] = 'Spagna'\n",
    "\n",
    "print(elenco_citta)"
   ]
  },
  {
   "cell_type": "markdown",
   "id": "e4dff1db",
   "metadata": {},
   "source": [
    "Ho quindi creato un set i cui elementi sono coppie KEY-VALUE (CHIAVE-VALORE).\n",
    "A differenza del set tradizionale che calcola l'hash direttamente sul valore, nel dizionario salva la key nell'hash e il valore nella memoria ad essa collegata.\n",
    "\n",
    "I dizionari quindi permettono accesso a tutto il set delle chiavi."
   ]
  },
  {
   "cell_type": "code",
   "execution_count": 3,
   "id": "5334009d",
   "metadata": {},
   "outputs": [
    {
     "name": "stdout",
     "output_type": "stream",
     "text": [
      "dict_keys(['Roma', 'Napoli', 'Barcelona'])\n"
     ]
    }
   ],
   "source": [
    "elenco_citta.keys()"
   ]
  },
  {
   "cell_type": "markdown",
   "id": "9777b553",
   "metadata": {},
   "source": [
    "Avendo un elenco di città, è possibile ricavarne lo stato di appartenenza."
   ]
  },
  {
   "cell_type": "code",
   "execution_count": 12,
   "id": "c1f67151",
   "metadata": {
    "scrolled": true
   },
   "outputs": [
    {
     "name": "stdout",
     "output_type": "stream",
     "text": [
      "['Roma', 'Napoli', 'Barcelona']\n",
      "La città associata a Roma è: Italia\n",
      "La città associata a Roma è: Italia\n",
      "['Italia', 'Italia', 'Spagna']\n"
     ]
    }
   ],
   "source": [
    "lista_citta = ['Roma', 'Napoli', 'Barcelona']\n",
    "print(lista_citta)\n",
    "\n",
    "print('La città associata a Roma è:' , elenco_citta[lista_citta[0]])\n",
    "#che è equivalente a scrivere \n",
    "print('La città associata a Roma è:' , elenco_citta['Roma'])\n",
    "\n",
    "#vogliamo ottenere una lista [Italia, Italia, Spagna] usando l'elenco_citta usando una list comprehension:\n",
    "print([elenco_citta[citta] for citta in lista_citta])"
   ]
  },
  {
   "cell_type": "code",
   "execution_count": 27,
   "id": "fe6e3de3",
   "metadata": {},
   "outputs": [],
   "source": [
    "#help(dict) #per vedere le funzioni associate al dizionario dict"
   ]
  },
  {
   "cell_type": "code",
   "execution_count": 16,
   "id": "07492f2d",
   "metadata": {},
   "outputs": [
    {
     "data": {
      "text/plain": [
       "dict_values(['Italia', 'Italia', 'Spagna'])"
      ]
     },
     "execution_count": 16,
     "metadata": {},
     "output_type": "execute_result"
    }
   ],
   "source": [
    "elenco_citta.values() #per individuare tutti i valori"
   ]
  },
  {
   "cell_type": "markdown",
   "id": "d663a5cd",
   "metadata": {},
   "source": [
    "#01. Ottenere una lista di Stati (contenuti in elenco_citta) corrispondenti solo a città che hanno all'interno del proprio nome la lettera r"
   ]
  },
  {
   "cell_type": "code",
   "execution_count": 59,
   "id": "18711193",
   "metadata": {},
   "outputs": [
    {
     "name": "stdout",
     "output_type": "stream",
     "text": [
      "['Spagna']\n"
     ]
    }
   ],
   "source": [
    "lista_stati_con_r = [elenco_citta[i] for i in elenco_citta.keys() if 'r' in i]\n",
    "print(lista_stati_con_r)"
   ]
  },
  {
   "cell_type": "markdown",
   "id": "123732e1",
   "metadata": {},
   "source": [
    "Inizializzare un dizionario con valori:"
   ]
  },
  {
   "cell_type": "code",
   "execution_count": 61,
   "id": "68ad9c95",
   "metadata": {},
   "outputs": [
    {
     "name": "stdout",
     "output_type": "stream",
     "text": [
      "{'key_1': 'value_1', 'key_2': 'value_2'}\n"
     ]
    }
   ],
   "source": [
    "d = {\n",
    "    'key_1':'value_1',\n",
    "    'key_2':'value_2'    \n",
    "}\n",
    "print(d)"
   ]
  },
  {
   "cell_type": "markdown",
   "id": "99c9d8e5",
   "metadata": {},
   "source": [
    "Eliminare un valore da un dizionario:"
   ]
  },
  {
   "cell_type": "code",
   "execution_count": 62,
   "id": "eb50c134",
   "metadata": {},
   "outputs": [
    {
     "name": "stdout",
     "output_type": "stream",
     "text": [
      "{'key_2': 'value_2'}\n"
     ]
    }
   ],
   "source": [
    "del d['key_1']\n",
    "print(d)"
   ]
  },
  {
   "cell_type": "markdown",
   "id": "24f5edf8",
   "metadata": {},
   "source": [
    "# Dictionary comprehension\n",
    "(analoga alle precedente ma con la sintassi del dizionario)"
   ]
  },
  {
   "cell_type": "code",
   "execution_count": 69,
   "id": "9f0a54e6",
   "metadata": {},
   "outputs": [
    {
     "name": "stdout",
     "output_type": "stream",
     "text": [
      "{'value_1': 'key_1', 'value_2': 'key_2'}\n",
      "dict_items([('key_1', 'value_1'), ('key_2', 'value_2')])\n",
      "{'value_1': 'key_1', 'value_2': 'key_2'}\n"
     ]
    }
   ],
   "source": [
    "#rigiro un dizionario invertendo keys e values\n",
    "d = {\n",
    "    'key_1':'value_1',\n",
    "    'key_2':'value_2'    \n",
    "}\n",
    "print(d_inv)\n",
    "d.items() #sono un oggetto iterabile contenente una lista di tuple costituite da coppie chiave-valore\n",
    "print(d.items())\n",
    "\n",
    "\n",
    "d_inv = {value: key for key, value in d.items()}\n",
    "print(d_inv)"
   ]
  },
  {
   "cell_type": "code",
   "execution_count": 68,
   "id": "a20fcfa1",
   "metadata": {},
   "outputs": [
    {
     "data": {
      "text/plain": [
       "dict_items([('key_1', 'value_1'), ('key_2', 'value_2')])"
      ]
     },
     "execution_count": 68,
     "metadata": {},
     "output_type": "execute_result"
    }
   ],
   "source": [
    "d.items() #è un oggetto iterabile sottoforma di lista di tuple chiave valore"
   ]
  },
  {
   "cell_type": "code",
   "execution_count": 70,
   "id": "21628014",
   "metadata": {},
   "outputs": [
    {
     "data": {
      "text/plain": [
       "{'Roma': 'Italia', 'Napoli': 'Italia', 'Barcelona': 'Spagna'}"
      ]
     },
     "execution_count": 70,
     "metadata": {},
     "output_type": "execute_result"
    }
   ],
   "source": [
    "elenco_citta"
   ]
  },
  {
   "cell_type": "code",
   "execution_count": 75,
   "id": "2fe3d4a2",
   "metadata": {},
   "outputs": [
    {
     "name": "stdout",
     "output_type": "stream",
     "text": [
      "{'Roma': 'ITALIA', 'Napoli': 'ITALIA', 'Barcelona': 'SPAGNA'}\n"
     ]
    },
    {
     "data": {
      "text/plain": [
       "[2, 4, 6, 8]"
      ]
     },
     "execution_count": 75,
     "metadata": {},
     "output_type": "execute_result"
    }
   ],
   "source": [
    "#creare un dizionario con i nomi delle città maiuscoli usando una dictonary comprehension\n",
    "\n",
    "elenco_CITTA ={k:v.upper() for k,v in elenco_citta.items()}\n",
    "print(elenco_CITTA)\n",
    "\n",
    "#list comprehension dei primi 4 numeri pari\n",
    "[n*2 for n in [1,2,3,4]]"
   ]
  },
  {
   "cell_type": "code",
   "execution_count": 74,
   "id": "8ab9796c",
   "metadata": {},
   "outputs": [
    {
     "data": {
      "text/plain": [
       "{'ITALIA', 'SPAGNA'}"
      ]
     },
     "execution_count": 74,
     "metadata": {},
     "output_type": "execute_result"
    }
   ],
   "source": [
    "{v.upper() for k,v in elenco_citta.items()}"
   ]
  },
  {
   "cell_type": "code",
   "execution_count": null,
   "id": "0889e557",
   "metadata": {},
   "outputs": [],
   "source": []
  }
 ],
 "metadata": {
  "kernelspec": {
   "display_name": "Python 3 (ipykernel)",
   "language": "python",
   "name": "python3"
  },
  "language_info": {
   "codemirror_mode": {
    "name": "ipython",
    "version": 3
   },
   "file_extension": ".py",
   "mimetype": "text/x-python",
   "name": "python",
   "nbconvert_exporter": "python",
   "pygments_lexer": "ipython3",
   "version": "3.10.7"
  }
 },
 "nbformat": 4,
 "nbformat_minor": 5
}
