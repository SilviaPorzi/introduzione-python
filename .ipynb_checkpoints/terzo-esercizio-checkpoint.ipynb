{
 "cells": [
  {
   "cell_type": "markdown",
   "id": "1e5be7b2",
   "metadata": {},
   "source": [
    "# LE STRINGHE"
   ]
  },
  {
   "cell_type": "markdown",
   "id": "b92ccf75",
   "metadata": {},
   "source": [
    "Le stringhe in python sono viste come \"sequenze di caratteri\". \n",
    "La stringa è un tipo di dato python che contiene funzioni per poter essere utilizzata comodamente"
   ]
  },
  {
   "cell_type": "code",
   "execution_count": 1,
   "id": "219a2b82",
   "metadata": {},
   "outputs": [
    {
     "name": "stdout",
     "output_type": "stream",
     "text": [
      "012 56789 12345678\n"
     ]
    }
   ],
   "source": [
    "s = '0123456789'\n",
    "#è possibile estrapolare solo alcuni caratteri dalla stringa\n",
    "print(s[:3], s[-5:], s[1:-1])"
   ]
  },
  {
   "cell_type": "code",
   "execution_count": 2,
   "id": "a1540724",
   "metadata": {},
   "outputs": [
    {
     "name": "stdout",
     "output_type": "stream",
     "text": [
      "02468\n"
     ]
    }
   ],
   "source": [
    "#facciamo una sottostringa prendendo un carattere ogni due partendo dal primo carattere:\n",
    "print(s[::2])"
   ]
  },
  {
   "cell_type": "code",
   "execution_count": 3,
   "id": "8edb66a2",
   "metadata": {},
   "outputs": [
    {
     "name": "stdout",
     "output_type": "stream",
     "text": [
      "13579\n"
     ]
    }
   ],
   "source": [
    "print( s[1::2]) #partendo dal secondo carattere"
   ]
  },
  {
   "cell_type": "code",
   "execution_count": 4,
   "id": "f686bc1a",
   "metadata": {},
   "outputs": [
    {
     "name": "stdout",
     "output_type": "stream",
     "text": [
      "2\n"
     ]
    }
   ],
   "source": [
    "print(s[2])"
   ]
  },
  {
   "cell_type": "code",
   "execution_count": 5,
   "id": "718eb5b7",
   "metadata": {},
   "outputs": [
    {
     "name": "stdout",
     "output_type": "stream",
     "text": [
      "[0, 1, 'ciao', 3, 4, 5, 6, 7, 8, 9]\n"
     ]
    }
   ],
   "source": [
    "l = [0, 1, 2, 3, 4, 5, 6, 7, 8, 9]\n",
    "l[2] = 'ciao' #le liste sono oggetti mutabili ovvero posso andare a modificare direttamente un loro elemento\n",
    "print(l)"
   ]
  },
  {
   "cell_type": "code",
   "execution_count": 6,
   "id": "261d76eb",
   "metadata": {},
   "outputs": [
    {
     "name": "stdout",
     "output_type": "stream",
     "text": [
      "le stringhe sono oggetti immutabili!\n"
     ]
    }
   ],
   "source": [
    "try:\n",
    "    s[2] = 'x' #produce un errore poiché le stringhe sono oggetti immutabili e quindi non posso andargli a modificare gli elementi interni\n",
    "except:\n",
    "    print('le stringhe sono oggetti immutabili!')"
   ]
  },
  {
   "cell_type": "code",
   "execution_count": 7,
   "id": "5a248d87",
   "metadata": {},
   "outputs": [
    {
     "name": "stdout",
     "output_type": "stream",
     "text": [
      "01x3456789\n"
     ]
    }
   ],
   "source": [
    "#mettere x al posto dell'elemento 2 nella stringa s:\n",
    "s = s[:2] + 'x' + s[3:]\n",
    "print(s)"
   ]
  },
  {
   "cell_type": "code",
   "execution_count": 12,
   "id": "0537d3f8",
   "metadata": {},
   "outputs": [
    {
     "name": "stdout",
     "output_type": "stream",
     "text": [
      "ciao\n",
      "ciao\n",
      "questo è un \"esempio\" di utilizzo di apici combinati \n"
     ]
    }
   ],
   "source": [
    "#uso degli apici per def stringhe o per utilizzarli nelle stringhe\n",
    "s2 = \"ciao\"\n",
    "s3 = 'ciao'\n",
    "s4 = 'questo è un \"esempio\" di utilizzo di apici combinati '\n",
    "print(s2)\n",
    "print(s3)\n",
    "print(s4)"
   ]
  },
  {
   "cell_type": "markdown",
   "id": "5f6fc494",
   "metadata": {},
   "source": [
    "# Caratteri di escape:"
   ]
  },
  {
   "cell_type": "code",
   "execution_count": 15,
   "id": "caa34009",
   "metadata": {},
   "outputs": [
    {
     "name": "stdout",
     "output_type": "stream",
     "text": [
      "1 \n",
      "2 \n",
      "3 \n",
      "auguri\n"
     ]
    }
   ],
   "source": [
    "#\\n = nuova riga\n",
    "s5 = '1 \\n2 \\n3 \\nauguri'\n",
    "print(s5)"
   ]
  },
  {
   "cell_type": "code",
   "execution_count": 17,
   "id": "cf5f428c",
   "metadata": {},
   "outputs": [
    {
     "name": "stdout",
     "output_type": "stream",
     "text": [
      "NOME\tCOGNOME\n",
      "MARIA\tVERDI\n",
      "MARIO\tROSSI\n"
     ]
    }
   ],
   "source": [
    "#\\t = tasto tab\n",
    "s6 = 'NOME\\tCOGNOME\\nMARIA\\tVERDI\\nMARIO\\tROSSI'\n",
    "print(s6)"
   ]
  },
  {
   "cell_type": "code",
   "execution_count": 20,
   "id": "29bfc84f",
   "metadata": {},
   "outputs": [
    {
     "name": "stdout",
     "output_type": "stream",
     "text": [
      "questa stringa\n",
      "è molto\n",
      "lunga e\n",
      "in questa stringa\n",
      "posso anche usare\n",
      "apici '' singoli\n",
      "\n",
      "\n"
     ]
    }
   ],
   "source": [
    "#scrivere le stringhe su più righe:\n",
    "\n",
    "s7 = \"\"\"questa stringa\n",
    "è molto\n",
    "lunga e\n",
    "in questa stringa\n",
    "posso anche usare\n",
    "apici '' singoli\n",
    "\n",
    "\"\"\"\n",
    "print(s7)"
   ]
  },
  {
   "cell_type": "markdown",
   "id": "b35842cc",
   "metadata": {},
   "source": [
    "è possibile utilizzare l'operatore + per concatenare dati stringhe, a differenza dell'effetto che produrrebbe in caso di dati numerici e questa proprietà di python si dice \"inferenza\" rispetto al tipo di dato.\n",
    "Osserviamo che si può anche usare l'operatore * per operare sulle stringhe."
   ]
  },
  {
   "cell_type": "code",
   "execution_count": 26,
   "id": "f6384357",
   "metadata": {},
   "outputs": [
    {
     "name": "stdout",
     "output_type": "stream",
     "text": [
      "ciaociaociaociaociao\n"
     ]
    }
   ],
   "source": [
    "s8 = 'ciao' #ripetizione della stringa con l'operatore *\n",
    "print(s8*5)"
   ]
  },
  {
   "cell_type": "code",
   "execution_count": 25,
   "id": "4c3e11ec",
   "metadata": {},
   "outputs": [
    {
     "name": "stdout",
     "output_type": "stream",
     "text": [
      "[0, 1, 'ciao', 3, 4, 5, 6, 7, 8, 9, 0, 1, 'ciao', 3, 4, 5, 6, 7, 8, 9]\n"
     ]
    }
   ],
   "source": [
    "print(l*2) #ripetizione elementi della lista con l'operatore *"
   ]
  },
  {
   "cell_type": "markdown",
   "id": "fc133bf9",
   "metadata": {},
   "source": [
    "# Overriding:\n",
    "Si può sempre sovrascrivere il comportamento degli operatori fondamentali (come il +, il -, il *, il /, ecc) "
   ]
  },
  {
   "cell_type": "code",
   "execution_count": 29,
   "id": "fff1c121",
   "metadata": {},
   "outputs": [
    {
     "name": "stdout",
     "output_type": "stream",
     "text": [
      "0-1-ciao-3-4-5-6-7-8-9\n"
     ]
    }
   ],
   "source": [
    "st = '-'.join([str(v) for v in l ]) #l.join('-') --> non funziona perché join è metodo per stringhe\n",
    "#str() trasforma elementi in stringhe\n",
    "print(st) #funzione built-in str() per cambiare il tipo in stringa"
   ]
  },
  {
   "cell_type": "markdown",
   "id": "4bf57b0b",
   "metadata": {},
   "source": [
    "join() è un metodo delle stringhe (stringa_separatore.join(lista_da_unire)) che prende in ingresso una lista di stringhe e dà in output una stringa composta da tutti gli elementi della lista separati dalla stringa usata per chiamare il metodo (cioè quella scritta prima di .join())."
   ]
  },
  {
   "cell_type": "code",
   "execution_count": 31,
   "id": "d55c77b9",
   "metadata": {},
   "outputs": [
    {
     "name": "stdout",
     "output_type": "stream",
     "text": [
      "9\n"
     ]
    }
   ],
   "source": [
    "#la funzione index() trova l'indice di un elemento all'interno di una lista\n",
    "#la funzione find() trova la posizione di una elemento all'interno di una stringa\n",
    "print(st.find('3-4')) #trova l'indice di partenza, ovvero quello precedente a 3-4"
   ]
  },
  {
   "cell_type": "code",
   "execution_count": 34,
   "id": "133dcc25",
   "metadata": {},
   "outputs": [
    {
     "name": "stdout",
     "output_type": "stream",
     "text": [
      "hahfsjlkjglaj\n"
     ]
    }
   ],
   "source": [
    "#Davanti e in fondo a una stringa, nella realtà, si ritrovano molti spazi vuoti generalmente:\n",
    "st1 = '             hahfsjlkjglaj      '\n",
    "#per toglierli occorre utilizzare la funzione strip()\n",
    "print(st1.strip()) #elimina tutti gli spazi prima e dopo"
   ]
  },
  {
   "cell_type": "code",
   "execution_count": 37,
   "id": "c8811cbd",
   "metadata": {},
   "outputs": [
    {
     "name": "stdout",
     "output_type": "stream",
     "text": [
      "non mi piace python!\n",
      "quanto mi piace python!\n"
     ]
    }
   ],
   "source": [
    "st2 = 'non mi piace python!'\n",
    "print(st2)\n",
    "st3 = st2.replace('non', 'quanto') #rimpiazza la sottostringa st2 con un'altra modificata\n",
    "print(st3)\n"
   ]
  },
  {
   "cell_type": "code",
   "execution_count": 40,
   "id": "6f94702d",
   "metadata": {},
   "outputs": [
    {
     "name": "stdout",
     "output_type": "stream",
     "text": [
      "a b c d\n",
      "['a', 'b', 'c', 'd']\n"
     ]
    }
   ],
   "source": [
    "#a differenza della join() che unisce gli elementi di una lista, la funzione split() separa i caratteri di una stringa e li mette in una lista\n",
    "\n",
    "#senza list comprehension\n",
    "l = ['a', 'b', 'c', 'd'] #lista di stringhe\n",
    "nuova_stringa = ' '.join(l) #crea la stringa degli elementi della lista separati da uno spazio\n",
    "# equivalente ad : a + ' ' + b + ' '+ c +' '+d\n",
    "print(nuova_stringa)\n",
    "\n",
    "#per dividere la stringa:\n",
    "nuova_lista = nuova_stringa.split(' ') #separa quando c'è lo spazio vuoto\n",
    "print(nuova_lista)\n",
    "\n",
    "\n",
    "#con list comprehension\n",
    "\n",
    "\n",
    "\n",
    "\n",
    "\n",
    "\n"
   ]
  },
  {
   "cell_type": "markdown",
   "id": "2a780c72",
   "metadata": {},
   "source": [
    "# Considerazioni Stringhe e liste\n",
    "Operiamo la conversione in lista se è necessario separare tutti i caratteri senza che ci sia uno specifico carattere separatore.\n",
    "\n",
    "Se invece fosse presente un carattere separatore in una lista, utilizzerò la funzione split('carattere_separatore')\n"
   ]
  },
  {
   "cell_type": "code",
   "execution_count": 42,
   "id": "393a4a9b",
   "metadata": {},
   "outputs": [
    {
     "name": "stdout",
     "output_type": "stream",
     "text": [
      "0123\n",
      "['0', '1', '2', '3']\n"
     ]
    }
   ],
   "source": [
    "#castiamo una stringa in lista\n",
    "l = ['0', '1', '2', '3']\n",
    "print(''.join(l)) #ora abbiamo una stringa composta dai caratteri della lista\n",
    "print(list(''.join(l))) #operiamo la conversione in lista se è necessario separare tutti i caratteri senza che ci sia uno specifico carattere separatore\n"
   ]
  },
  {
   "cell_type": "markdown",
   "id": "152557c8",
   "metadata": {},
   "source": [
    "# Puntatori VS memoria \n",
    "\n",
    "In Python i puntatori possono essere riutilizzati indefinite volte ( facendoli puntare a porzioni di memoria sempre diverse).\n",
    "Dunque, quando si parla di \"immutabilità\" non ci si riferisce al puntatore, bensì alla porzione di memoria allocata."
   ]
  },
  {
   "cell_type": "code",
   "execution_count": 49,
   "id": "a52227cd",
   "metadata": {},
   "outputs": [],
   "source": [
    "# il nome della variabile (nell'esempio s) può essere riasegnato indefinite volte\n",
    "\n",
    "#stringa\n",
    "s= 'ciao'\n",
    "try:\n",
    "    s[0] = 'x' #<-- qui sto modificando il valore della memoria\n",
    "except:\n",
    "    print('stringhe immutabili')\n",
    "\n",
    "#lista\n",
    "s = [1] #<-- qui sto riassegnando il puntatore a un'altra variabile\n",
    "s[0]=2  #<-- qui sto modificando il valore della memoria\n",
    "print('liste mutabili')\n",
    "\n",
    "#tupla\n",
    "s = ('a')#<-- qui sto riassegnando il puntatore a un'altra variabile\n",
    "try:\n",
    "    s[0]='b' #<-- qui sto modificando il valore della memoria\n",
    "except:\n",
    "    print('tuple immutabili')\n",
    "\n",
    "#poiché s è solo un puntatore di memoria"
   ]
  },
  {
   "cell_type": "markdown",
   "id": "2d4fa205",
   "metadata": {},
   "source": [
    "## Le Tuple\n",
    "Le tuple sono insiemi di oggetti (anche di diversa natura) che sono intrinsecamente immutabili (non posso andare a modificare il valore di una tupla."
   ]
  },
  {
   "cell_type": "code",
   "execution_count": 43,
   "id": "c77ec875",
   "metadata": {},
   "outputs": [
    {
     "name": "stdout",
     "output_type": "stream",
     "text": [
      "('ciao', 'a', 'tutti', 'i', 'presenti')\n"
     ]
    }
   ],
   "source": [
    "t = ('ciao','a', 'tutti', 'i', 'presenti')\n",
    "print(t)"
   ]
  },
  {
   "cell_type": "markdown",
   "id": "2594f84e",
   "metadata": {},
   "source": [
    "Per accedere a un elemento di una tupla è possibile usare l'indice come accadeva per le liste e le stringhe."
   ]
  },
  {
   "cell_type": "code",
   "execution_count": 46,
   "id": "97dd383f",
   "metadata": {},
   "outputs": [
    {
     "name": "stdout",
     "output_type": "stream",
     "text": [
      "tutti\n"
     ]
    }
   ],
   "source": [
    "print(t[2])"
   ]
  },
  {
   "cell_type": "code",
   "execution_count": 47,
   "id": "eed19d01",
   "metadata": {},
   "outputs": [
    {
     "name": "stdout",
     "output_type": "stream",
     "text": [
      "tutti ('ciao', 'a', 'tutti') presenti\n"
     ]
    }
   ],
   "source": [
    "print(t[2], t[:3], t[-1])"
   ]
  },
  {
   "cell_type": "code",
   "execution_count": 48,
   "id": "7e4a5b24",
   "metadata": {},
   "outputs": [
    {
     "name": "stdout",
     "output_type": "stream",
     "text": [
      "impossibile modificare il valore di una tupla --> tuple immutabili\n"
     ]
    }
   ],
   "source": [
    "try:\n",
    "    t[0] = 'Buongiorno'\n",
    "except:\n",
    "    print('impossibile modificare il valore di una tupla --> tuple immutabili')"
   ]
  },
  {
   "cell_type": "markdown",
   "id": "ade19f6a",
   "metadata": {},
   "source": [
    "## Un operatore interessante da usare sugli insiemi: \"in\" \n",
    "(per insiemi mi riferisco a una collezione di elementi)"
   ]
  },
  {
   "cell_type": "code",
   "execution_count": 59,
   "id": "63f928a5",
   "metadata": {},
   "outputs": [
    {
     "name": "stdout",
     "output_type": "stream",
     "text": [
      "in usato per le tuple: False True\n",
      "[1, 4, 9, 16, 25]\n",
      "in usato per le liste: False True\n",
      "in usato per le stringhe: True True False\n",
      "1491625\n"
     ]
    }
   ],
   "source": [
    "#Operatore \"in\" che restituisce un valore booleano:\n",
    "t = (1, 4, 9, 16, 25)\n",
    "print('in usato per le tuple:', 5 in t, 25 in t) \n",
    "\n",
    "l = [n for n in t]\n",
    "print(l)\n",
    "print('in usato per le liste:', 5 in l, 16 in l)\n",
    "\n",
    "s = ''.join([str(n) for n in t])\n",
    "print('in usato per le stringhe:', '5' in s, '16' in s, '7' in s)\n",
    "print(s)"
   ]
  },
  {
   "cell_type": "markdown",
   "id": "55f32448",
   "metadata": {},
   "source": [
    "Creazione di una tupla solitaria (cioè con un solo elemento).\n",
    "Per inizializzare una tupla con un solo elemento è necessario includere nella sua dichiarazione una virgola a destra dell'elelemnto, altrimenti le parentesi che racchiuderebbero il numero verranno interpretate da python come parentesi di espressione matematica e non come parentesi di una tupla\n",
    "\n",
    "per cui python non riconosce come tupla essendoci un solo elemento:"
   ]
  },
  {
   "cell_type": "code",
   "execution_count": 64,
   "id": "8f3ef1f7",
   "metadata": {},
   "outputs": [
    {
     "name": "stdout",
     "output_type": "stream",
     "text": [
      "1 <class 'int'>\n"
     ]
    }
   ],
   "source": [
    "non_tupla = (1) #interpretato come espressione\n",
    "print(non_tupla, type(non_tupla))"
   ]
  },
  {
   "cell_type": "code",
   "execution_count": 65,
   "id": "24d28576",
   "metadata": {},
   "outputs": [
    {
     "name": "stdout",
     "output_type": "stream",
     "text": [
      "(1,) <class 'tuple'>\n"
     ]
    }
   ],
   "source": [
    "#per creare una tupla che contiene un solo elemento occorre scriverla con la seguente sintassi:\n",
    "tupla_solitaria = (1, )\n",
    "print(tupla_solitaria, type(tupla_solitaria))"
   ]
  },
  {
   "cell_type": "markdown",
   "id": "63b77eb5",
   "metadata": {},
   "source": [
    "Non posso modificare una tupla, ma posso usare altre operazioni per non \"rompere\" le regole di python.\n",
    "Ricordiamo, però, che in python è sempre possibile operare conversioni tra molti tipi di dati in python \n",
    "(ad esempio: tupla-->lista e lista-->tupla)"
   ]
  },
  {
   "cell_type": "code",
   "execution_count": 69,
   "id": "df7f129a",
   "metadata": {},
   "outputs": [
    {
     "name": "stdout",
     "output_type": "stream",
     "text": [
      "la tupla è immutabile!\n",
      "(0, 1, 2, 'a', 4, 5)\n"
     ]
    }
   ],
   "source": [
    "tupla = (0, 1, 2, 3, 4, 5) \n",
    "#voglio sostituire il 3 con 'a'\n",
    "try:\n",
    "    tupla[3] = 'a'\n",
    "except:\n",
    "    print('la tupla è immutabile!')\n",
    "\n",
    "    \n",
    "l = list(tupla) #converto la tupla in lista\n",
    "l[3] = 'a'      #modifico l'elemento richiesto nella lista\n",
    "print(tuple(l)) #converto di nuovo la lista in tupla"
   ]
  },
  {
   "cell_type": "markdown",
   "id": "0711e610",
   "metadata": {},
   "source": [
    "Osserviamo che una tupla può contenere al suo interno diverse occorrenze dello stesso elemento"
   ]
  },
  {
   "cell_type": "code",
   "execution_count": 71,
   "id": "0918569a",
   "metadata": {},
   "outputs": [
    {
     "name": "stdout",
     "output_type": "stream",
     "text": [
      "(0, 0, 1, 1)\n"
     ]
    }
   ],
   "source": [
    "tupla = (0, 0, 1, 1)\n",
    "print(tupla)"
   ]
  },
  {
   "cell_type": "markdown",
   "id": "bd366b4c",
   "metadata": {},
   "source": [
    "## Gli insiemi (set)\n",
    "Come le tuple, i set, sono strutture che permettono di conservare una collezione di elementi e hanno degli operatori speciali che permettono ai developers di operare.\n",
    "A differenza delle tuple, invece, provando ad inserire molteplici volte lo stesso elemento, il set ne conserverà solo una copia ovvero non terrà conto delle occorrenze multiple ed inoltre sono mutabili(si possono aggiungere elementi). \n",
    "\n",
    "Il set NON ha ordinamento e di conseguenza non ha un indice."
   ]
  },
  {
   "cell_type": "code",
   "execution_count": 80,
   "id": "48c904eb",
   "metadata": {},
   "outputs": [
    {
     "name": "stdout",
     "output_type": "stream",
     "text": [
      "{0, 1}\n",
      "{0, 1, 2, 4, 'a'}\n"
     ]
    }
   ],
   "source": [
    "insieme = {0, 0, 1, 1}\n",
    "print(insieme)\n",
    "insieme2 = {4, 2, 0, 1, 'a'}\n",
    "print(insieme2)"
   ]
  },
  {
   "cell_type": "markdown",
   "id": "eaecbf17",
   "metadata": {},
   "source": [
    "Com'è possbile operare sui set?"
   ]
  },
  {
   "cell_type": "code",
   "execution_count": 81,
   "id": "0320dfd0",
   "metadata": {
    "scrolled": false
   },
   "outputs": [
    {
     "name": "stdout",
     "output_type": "stream",
     "text": [
      "Non avendo un ordinamento, il set non è indicizzato e quindi non è possibile richiamare un elemento tramite la sua posizione\n"
     ]
    }
   ],
   "source": [
    "try: \n",
    "    insieme[0]\n",
    "except:\n",
    "    print('Non avendo un ordinamento, il set non è indicizzato e quindi non è possibile richiamare un elemento tramite la sua posizione')"
   ]
  },
  {
   "cell_type": "code",
   "execution_count": 87,
   "id": "1b99cdd5",
   "metadata": {},
   "outputs": [
    {
     "name": "stdout",
     "output_type": "stream",
     "text": [
      "True\n",
      "True\n"
     ]
    }
   ],
   "source": [
    "print(7 in [1,2,3,4,5,6,7])\n",
    "print(7 in {1,2,3,4,5,6,7})"
   ]
  },
  {
   "cell_type": "code",
   "execution_count": 88,
   "id": "c7b66c73",
   "metadata": {},
   "outputs": [
    {
     "data": {
      "text/plain": [
       "99999"
      ]
     },
     "execution_count": 88,
     "metadata": {},
     "output_type": "execute_result"
    }
   ],
   "source": [
    "list(range(10**5))[-1]"
   ]
  },
  {
   "cell_type": "code",
   "execution_count": 93,
   "id": "a09f1e54",
   "metadata": {},
   "outputs": [],
   "source": [
    "import time\n",
    "#help(time)"
   ]
  },
  {
   "cell_type": "code",
   "execution_count": 97,
   "id": "2f2a24b6",
   "metadata": {},
   "outputs": [
    {
     "name": "stdout",
     "output_type": "stream",
     "text": [
      "ricerca in lista con operatore \"in\" eseguita in: 0.10874271392822266 secondi\n",
      "ricerca in lista con operatore \"in\" eseguita in: 0.0010020732879638672 secondi\n"
     ]
    }
   ],
   "source": [
    "#vediamo se con un set i tempi sono migliori:\n",
    "l_grande = list(range(10**7)) #lista\n",
    "s_grande = set(range(10**7)) #set\n",
    "\n",
    "start = time.time() #misuriamo il tempo di ricerca dell'ultimo elemento della lista\n",
    "9999999 in l_grande\n",
    "end = time.time()\n",
    "print('ricerca in lista con operatore \"in\" eseguita in:', (end - start), 'secondi')\n",
    "\n",
    "start = time.time() #misuriamo il tempo di ricerca dell'ultimo elemento del set\n",
    "9999999 in s_grande\n",
    "end = time.time()\n",
    "print('ricerca in set con operatore \"in\" eseguita in:', (end - start), 'secondi')\n"
   ]
  },
  {
   "cell_type": "markdown",
   "id": "1648291e",
   "metadata": {},
   "source": [
    "In python è possibile convertire velocemente diversi tipi di \"collezioni\" (cioè set, liste, tuple, ecc)."
   ]
  },
  {
   "cell_type": "code",
   "execution_count": 98,
   "id": "7045f8ca",
   "metadata": {},
   "outputs": [
    {
     "name": "stdout",
     "output_type": "stream",
     "text": [
      "{'o', 't', 'u'}\n"
     ]
    }
   ],
   "source": [
    "insieme_da_str = set('tutto')\n",
    "print(insieme_da_str)"
   ]
  },
  {
   "cell_type": "markdown",
   "id": "a4ef68c2",
   "metadata": {},
   "source": [
    "Altri operatori interessanti sugli insiemi"
   ]
  },
  {
   "cell_type": "code",
   "execution_count": 100,
   "id": "9740ac95",
   "metadata": {},
   "outputs": [
    {
     "name": "stdout",
     "output_type": "stream",
     "text": [
      "{'C', 'B', 'b', 'c', 'A', 'a'}\n",
      "{'C', 'B', 'b', 'c', 'A', 'a'}\n",
      "{'C', 'B', 'b', 'c', 'A', 'a'}\n"
     ]
    }
   ],
   "source": [
    "maiuscole = {'A', 'B', 'C'}\n",
    "minuscole = {'a', 'b', 'c'}\n",
    "\n",
    "#unione\n",
    "lettere = maiuscole | minuscole\n",
    "print(lettere)\n",
    "\n",
    "#intersezione\n",
    "print(lettere)\n",
    "\n",
    "#differenza\n",
    "print(lettere)"
   ]
  },
  {
   "cell_type": "code",
   "execution_count": null,
   "id": "85bc0c10",
   "metadata": {},
   "outputs": [],
   "source": []
  }
 ],
 "metadata": {
  "kernelspec": {
   "display_name": "Python 3 (ipykernel)",
   "language": "python",
   "name": "python3"
  },
  "language_info": {
   "codemirror_mode": {
    "name": "ipython",
    "version": 3
   },
   "file_extension": ".py",
   "mimetype": "text/x-python",
   "name": "python",
   "nbconvert_exporter": "python",
   "pygments_lexer": "ipython3",
   "version": "3.10.7"
  }
 },
 "nbformat": 4,
 "nbformat_minor": 5
}
