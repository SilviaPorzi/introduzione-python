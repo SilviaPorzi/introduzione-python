{
 "cells": [
  {
   "cell_type": "markdown",
   "id": "fd8e0c3f",
   "metadata": {},
   "source": [
    "# Strutture dati\n",
    "In molti casi è necessario conservare in una sola variabile un insieme di elementi ed, in questo caso, si possono usare delle strutture ordinate di dati come le LISTE"
   ]
  },
  {
   "cell_type": "code",
   "execution_count": 1,
   "id": "a9b4c055",
   "metadata": {},
   "outputs": [],
   "source": [
    "elenco = [1, 3, 5, 7, 9, 1.5, -4.8, 'ciao', 'bau']"
   ]
  },
  {
   "cell_type": "markdown",
   "id": "0b764194",
   "metadata": {},
   "source": [
    "Le liste possono contenere oggetti appartenenti a diversi tipi di dato (ad es. interi, stringhe, altre liste, ecc..). \n",
    "Per accedere ad uno degli elementi della lista possiamo usare il cosiddetto \"indice della lista\" che si indica nome_lista[indice]"
   ]
  },
  {
   "cell_type": "code",
   "execution_count": 2,
   "id": "9eaaa75d",
   "metadata": {},
   "outputs": [
    {
     "name": "stdout",
     "output_type": "stream",
     "text": [
      "3\n"
     ]
    }
   ],
   "source": [
    "print(elenco[1])"
   ]
  },
  {
   "cell_type": "markdown",
   "id": "9b8f7a05",
   "metadata": {},
   "source": [
    "Ricordiamo che l'indice parte sempre da 0 e se mettiamo un indice più grande lunghezza_lista-1 ottengo un \"index error\" (errore di index out of bounde/range)."
   ]
  },
  {
   "cell_type": "code",
   "execution_count": 3,
   "id": "aecf9bc7",
   "metadata": {},
   "outputs": [
    {
     "name": "stdout",
     "output_type": "stream",
     "text": [
      "index fuori dai valori consentiti\n"
     ]
    }
   ],
   "source": [
    "try:\n",
    "    print(elenco[10])\n",
    "except:\n",
    "    print('index fuori dai valori consentiti')"
   ]
  },
  {
   "cell_type": "markdown",
   "id": "4dc49448",
   "metadata": {},
   "source": [
    "In molti casi è utile sapere la dimensione (n° degli elementi) di una lista e ciò si può ottenere utilizzando la funzione di buildIn \"len()\""
   ]
  },
  {
   "cell_type": "code",
   "execution_count": 4,
   "id": "fb57ad90",
   "metadata": {},
   "outputs": [
    {
     "data": {
      "text/plain": [
       "9"
      ]
     },
     "execution_count": 4,
     "metadata": {},
     "output_type": "execute_result"
    }
   ],
   "source": [
    "len(elenco)"
   ]
  },
  {
   "cell_type": "code",
   "execution_count": 5,
   "id": "f7c8c599",
   "metadata": {},
   "outputs": [
    {
     "data": {
      "text/plain": [
       "'bau'"
      ]
     },
     "execution_count": 5,
     "metadata": {},
     "output_type": "execute_result"
    }
   ],
   "source": [
    "elenco[len(elenco)-1]  #lo stampa nella consolle perché siamo in jupyter, altrimenti è solo un output"
   ]
  },
  {
   "cell_type": "code",
   "execution_count": 6,
   "id": "cd829598",
   "metadata": {},
   "outputs": [
    {
     "name": "stdout",
     "output_type": "stream",
     "text": [
      "bau\n",
      "bau\n"
     ]
    }
   ],
   "source": [
    "print(elenco[len(elenco)-1]) #stampa l'ultimo elemento dell'elenco\n",
    "print(elenco[-1])            #stampa l'ultimo elemento dell'elenco"
   ]
  },
  {
   "cell_type": "markdown",
   "id": "1dc1ffef",
   "metadata": {},
   "source": [
    "è possibile estrarre sottoliste (sublist) usando l'operatore : all'interno delle parentesi quadre."
   ]
  },
  {
   "cell_type": "code",
   "execution_count": 7,
   "id": "ced087e7",
   "metadata": {},
   "outputs": [
    {
     "name": "stdout",
     "output_type": "stream",
     "text": [
      "[1, 3, 5]\n"
     ]
    }
   ],
   "source": [
    "print(elenco[0:3])"
   ]
  },
  {
   "cell_type": "code",
   "execution_count": 8,
   "id": "b29a4c02",
   "metadata": {},
   "outputs": [
    {
     "data": {
      "text/plain": [
       "[1, 3, 5]"
      ]
     },
     "execution_count": 8,
     "metadata": {},
     "output_type": "execute_result"
    }
   ],
   "source": [
    "elenco[0:3] #lo stampa solo nella consolle, altrimenti è solo un output"
   ]
  },
  {
   "cell_type": "code",
   "execution_count": 9,
   "id": "a51d6f17",
   "metadata": {},
   "outputs": [
    {
     "name": "stdout",
     "output_type": "stream",
     "text": [
      "[1, 3, 5]\n",
      "[5, 7, 9, 1.5, -4.8, 'ciao', 'bau']\n"
     ]
    }
   ],
   "source": [
    "print(elenco[:3]) #dall'inizio all'elemento 3\n",
    "print(elenco[2:]) #dall'elemento 3 fino alla fine"
   ]
  },
  {
   "cell_type": "code",
   "execution_count": 10,
   "id": "1f91c3ac",
   "metadata": {},
   "outputs": [
    {
     "name": "stdout",
     "output_type": "stream",
     "text": [
      "[1, 3, 5, 7, 9, 1.5, -4.8, 'ciao', 'bau']\n",
      "[1, 3, 5, 7, 9, -4.8, 'ciao', 'bau']\n"
     ]
    }
   ],
   "source": [
    "print(elenco)\n",
    "n=5\n",
    "print(elenco[0:n]+elenco[n+1:]) #stampo la lista elenco a cui è stato tolto l'elemento di indice n"
   ]
  },
  {
   "cell_type": "markdown",
   "id": "0e18ec8a",
   "metadata": {},
   "source": [
    "Attenzione: quando manipoliamo una lista al fine di creare una sottolista usando l'operatore \":\", stiamo in realtà creando una nuova lista che è indipendente dalla lista originale (e quindi non stiamo modificando la lista originale). \n",
    "Siccome l'operatore \":\" crea sempre un nuova lista, il modo più veloce di copiare una lista in python è il seguente"
   ]
  },
  {
   "cell_type": "code",
   "execution_count": 11,
   "id": "de07f752",
   "metadata": {},
   "outputs": [],
   "source": [
    "elenco_copia = elenco[:] #è una sottolista di elenco che contiene tutti gli elementi della lista elenco"
   ]
  },
  {
   "cell_type": "markdown",
   "id": "f25b8f15",
   "metadata": {},
   "source": [
    "e questa è una struttura davvero compatta per creare ua copia di una data lista."
   ]
  },
  {
   "cell_type": "markdown",
   "id": "ae4218e0",
   "metadata": {},
   "source": [
    "Inoltre, è possibile definire una lista vuota"
   ]
  },
  {
   "cell_type": "code",
   "execution_count": 12,
   "id": "bfeab889",
   "metadata": {},
   "outputs": [],
   "source": [
    "lista_vuota = []"
   ]
  },
  {
   "cell_type": "markdown",
   "id": "289d728a",
   "metadata": {},
   "source": [
    "e possiamo utilizzare delle funzioni per inserire in una lista un elemento, per concatenare più liste o fare \"append\", \"insert\", \"pop\", \"remove\", \"reverse\"(non crea una copia ma inverte la lista passata in input), \"sort\""
   ]
  },
  {
   "cell_type": "code",
   "execution_count": 13,
   "id": "a7f02af8",
   "metadata": {},
   "outputs": [
    {
     "name": "stdout",
     "output_type": "stream",
     "text": [
      "[1, 3, 5, 'python', 7, 9, 1.5, -4.8, 'ciao', 'bau']\n",
      "[1, 3, 5, 'python', 7, 9, 1.5, -4.8, 'ciao', 'bau', 1, 2, 3]\n",
      "[1, 3, 5, 'python', 7, 9, 1.5, -4.8, 'bau', 1, 2, 3]\n",
      "[1, 3, 5, 'python', 7, 9, 1.5, -4.8, 'bau', 1, 2]\n",
      "6\n",
      "['bau', 'ciao', -4.8, 1.5, 9, 7, 5, 3, 1]\n",
      "qualcosa è andato storto!\n",
      "[-4.8, 1, 1, 1.5, 2, 3, 5, 7, 9]\n"
     ]
    }
   ],
   "source": [
    "elenco.insert(3,'python') #insert(indice,elemento_da_inserire)\n",
    "print(elenco)\n",
    "elenco.extend([1,2,3]) #aggiunge infondo alla nostra lista una nuova lista\n",
    "print(elenco)\n",
    "elenco.remove('ciao') #rimuove l'elemento 'ciao'\n",
    "print(elenco)\n",
    "elenco.pop() #rimuove l'ultimo elemento dalla lista, ritornandolo\n",
    "print(elenco)\n",
    "print(elenco.index(1.5)) #mi restituisce l'indice dove si trova 1.5, mentre se non esiste dà un errore\n",
    "elenco_copia.reverse()\n",
    "print(elenco_copia)\n",
    "try:\n",
    "    elenco.sort() #non è possibile ordinare tra tipi di dato differenti\n",
    "except:\n",
    "    print('qualcosa è andato storto!')\n",
    "elenco.remove('python')\n",
    "elenco.remove('bau')\n",
    "elenco.sort()\n",
    "print(elenco)"
   ]
  },
  {
   "cell_type": "markdown",
   "id": "4c590167",
   "metadata": {},
   "source": [
    "# Il meccanismo di sorting\n",
    "è possibile fare un sorting se è possibile fare un confronto tra di loro.\n",
    "Ad esempio se è possibile, presi due elementi $a$ e $b$, si può fare uno dei seguenti confronti:\n",
    "\n",
    "$a>b$ --> mi restituisce 1\n",
    "\n",
    "$a<b$ --> mi restituisce -1\n",
    "\n",
    "$a=b$ --> mi restituisce 0\n",
    "\n",
    "La funzione usata per fare un sort in python si chiama \"comparator\""
   ]
  },
  {
   "cell_type": "markdown",
   "id": "7adc2d57",
   "metadata": {},
   "source": [
    "# Utilizzo di range ed altre funzioni di BuildIn combinate"
   ]
  },
  {
   "cell_type": "code",
   "execution_count": 18,
   "id": "5bff3a5d",
   "metadata": {},
   "outputs": [
    {
     "name": "stdout",
     "output_type": "stream",
     "text": [
      "[0, 1, 2, 3, 4, 5, 6, 7, 8, 9]\n",
      "[0, 1, 2, 3, 4, 5, 6, 7, 8]\n",
      "36\n"
     ]
    }
   ],
   "source": [
    "print(list(range(10))) #crea una lista di 10 elementi a partire da 0\n",
    "print(list(range(len(elenco)))) #crea la lista dell'insieme degli indici di elenco\n",
    "print(sum(list(range(len(elenco))))) #somma tutti gli indici di elenco"
   ]
  },
  {
   "cell_type": "code",
   "execution_count": 21,
   "id": "dbd93c7a",
   "metadata": {
    "scrolled": true
   },
   "outputs": [
    {
     "name": "stdout",
     "output_type": "stream",
     "text": [
      "range(0, 10)\n",
      "[10, 11, 12, 13, 14, 15, 16, 17, 18, 19, 20]\n",
      "[10, 13, 16, 19]\n"
     ]
    }
   ],
   "source": [
    "print(range(10)) \n",
    "print(list(range(10,21))) #stampa una lista che va da 10 a 20\n",
    "print(list(range(10,21,3))) #stampa una lista di numeri da 10 a 20 presi di 3 in 3"
   ]
  },
  {
   "cell_type": "markdown",
   "id": "ea169278",
   "metadata": {},
   "source": [
    "# LIST COMPREHENSION\n",
    "## (sintassi per creare liste in maniera veloce ed efficente)\n"
   ]
  },
  {
   "cell_type": "code",
   "execution_count": 26,
   "id": "0a850bbe",
   "metadata": {},
   "outputs": [
    {
     "name": "stdout",
     "output_type": "stream",
     "text": [
      "[1, 2, 3, 4, 5]\n",
      "[1, 4, 9, 16, 25]\n"
     ]
    }
   ],
   "source": [
    "#Data una lista di numeri, ottenerne un'altra composta dagli stessi numeri elevati al quadrato\n",
    "numeri = [1,2,3,4,5]\n",
    "quadrati = [n**2 for n in numeri]\n",
    "print(numeri)\n",
    "print(quadrati)"
   ]
  },
  {
   "cell_type": "code",
   "execution_count": 27,
   "id": "20f3a101",
   "metadata": {},
   "outputs": [
    {
     "name": "stdout",
     "output_type": "stream",
     "text": [
      "[2, 4]\n"
     ]
    }
   ],
   "source": [
    "#data la stessa lista di numeri, crearne un'altra composta dai soli numeri pari (filtraggio)\n",
    "filtro_pari = [n for n in numeri if n%2 == 0 ] \n",
    "print(filtro_pari)"
   ]
  },
  {
   "cell_type": "code",
   "execution_count": 32,
   "id": "698a1138",
   "metadata": {},
   "outputs": [
    {
     "name": "stdout",
     "output_type": "stream",
     "text": [
      "[[1, 1, 1, 1, 1], [1, 1, 1, 1, 1], [1, 1, 1, 1, 1], [1, 1, 1, 1, 1], [1, 1, 1, 1, 1]]\n",
      "[1, 1, 1, 1, 1]\n",
      "[1, 1, 1, 1, 1]\n",
      "[1, 1, 1, 1, 1]\n",
      "[1, 1, 1, 1, 1]\n",
      "[1, 1, 1, 1, 1]\n"
     ]
    }
   ],
   "source": [
    "#creiamo una matrice 5x5 di numeri 1 con liste nelle liste\n",
    "matrice = [[1 for x in range(5)]for x in range(5)]\n",
    "print(matrice) #crea una lista di liste\n",
    "for riga in matrice:\n",
    "    print(riga)  #visualizza le liste sottoforma di matrice"
   ]
  },
  {
   "cell_type": "code",
   "execution_count": 55,
   "id": "ceaab85a",
   "metadata": {},
   "outputs": [
    {
     "name": "stdout",
     "output_type": "stream",
     "text": [
      "[1, 1, 1]\n",
      "[1, 1, 1]\n",
      "[1, 1, 1]\n"
     ]
    }
   ],
   "source": [
    "#01 Salvare la dimensione della matrice in una variabile \"n\" e generare matrici di dimensione diversa a seconda del valore di m\n",
    "n = len(matrice[0])\n",
    "\n",
    "m=3\n",
    "matrice_random = [[1 for x in range(m)]for x in range(m)]\n",
    "for riga in matrice_random:\n",
    "    print(riga)\n"
   ]
  },
  {
   "cell_type": "code",
   "execution_count": 52,
   "id": "851319f5",
   "metadata": {},
   "outputs": [
    {
     "ename": "NameError",
     "evalue": "name 'i' is not defined",
     "output_type": "error",
     "traceback": [
      "\u001b[1;31m---------------------------------------------------------------------------\u001b[0m",
      "\u001b[1;31mNameError\u001b[0m                                 Traceback (most recent call last)",
      "Cell \u001b[1;32mIn [52], line 3\u001b[0m\n\u001b[0;32m      1\u001b[0m \u001b[38;5;66;03m#02 Trasformare il codice facendo in modo di produrre la matrice identità di dimensione n (tutti zeri, tranne che sulla diagonale principale)\u001b[39;00m\n\u001b[1;32m----> 3\u001b[0m matrice_random_nuova \u001b[38;5;241m=\u001b[39m [[\u001b[38;5;241m0\u001b[39m \u001b[38;5;28;01mfor\u001b[39;00m k \u001b[38;5;129;01min\u001b[39;00m matrice_random[i[i]]] \u001b[38;5;28;01mfor\u001b[39;00m u \u001b[38;5;129;01min\u001b[39;00m matrice_random[\u001b[43mi\u001b[49m[i]] \u001b[38;5;28;01mif\u001b[39;00m k\u001b[38;5;241m!=\u001b[39mu ]\n",
      "\u001b[1;31mNameError\u001b[0m: name 'i' is not defined"
     ]
    }
   ],
   "source": [
    "#02 Trasformare il codice facendo in modo di produrre la matrice identità di dimensione n (tutti zeri, tranne che sulla diagonale principale)\n",
    "\n",
    "matrice_identita = [[0 for k in matrice_random[i[i]]] for u in matrice_random[i[i]] if k!=u ]\n",
    "\n",
    "\n"
   ]
  },
  {
   "cell_type": "code",
   "execution_count": 56,
   "id": "7362b8cf",
   "metadata": {},
   "outputs": [
    {
     "name": "stdout",
     "output_type": "stream",
     "text": [
      "[[1, 1, 1], [1, 1, 1], [1, 1, 1]]\n"
     ]
    }
   ],
   "source": [
    "print(matrice_random)\n",
    "a = [0 for [i ]]"
   ]
  },
  {
   "cell_type": "code",
   "execution_count": null,
   "id": "42a07905",
   "metadata": {},
   "outputs": [],
   "source": []
  }
 ],
 "metadata": {
  "kernelspec": {
   "display_name": "Python 3 (ipykernel)",
   "language": "python",
   "name": "python3"
  },
  "language_info": {
   "codemirror_mode": {
    "name": "ipython",
    "version": 3
   },
   "file_extension": ".py",
   "mimetype": "text/x-python",
   "name": "python",
   "nbconvert_exporter": "python",
   "pygments_lexer": "ipython3",
   "version": "3.10.7"
  }
 },
 "nbformat": 4,
 "nbformat_minor": 5
}
